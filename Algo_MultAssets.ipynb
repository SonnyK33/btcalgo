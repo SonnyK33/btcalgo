{
 "cells": [
  {
   "cell_type": "code",
   "execution_count": 2,
   "metadata": {},
   "outputs": [],
   "source": [
    "import pandas as pd\n",
    "from matplotlib import pyplot as plt\n",
    "from statsmodels.graphics.tsaplots import plot_acf\n",
    "from statsmodels.tsa.ar_model import AutoReg\n",
    "from statsmodels.tsa.arima.model import ARIMA\n",
    "import statsmodels.api as sm\n",
    "from sklearn.metrics import mean_squared_error\n",
    "from math import sqrt\n",
    "import pandas_ta as ta\n",
    "from arch import arch_model\n",
    "import numpy as np\n",
    "from ib_insync import *\n",
    "from collections import deque\n",
    "from enum import Enum\n",
    "import datetime\n",
    "import logging\n",
    "import math\n",
    "util.startLoop()"
   ]
  },
  {
   "cell_type": "code",
   "execution_count": 3,
   "metadata": {},
   "outputs": [
    {
     "data": {
      "text/plain": [
       "5"
      ]
     },
     "execution_count": 3,
     "metadata": {},
     "output_type": "execute_result"
    }
   ],
   "source": [
    "2+3"
   ]
  },
  {
   "cell_type": "code",
   "execution_count": null,
   "metadata": {},
   "outputs": [],
   "source": [
    "\"\"\"ToDos\n",
    "1) functionality to add multiple contracts to RealTimeData\n",
    "1) indicator functions - use MA and EMA from previous version.\n",
    "    - should be able to submit either backtest DF or a realtime DF\n",
    "    \n",
    "2) Rule functions - when is a buy or sell signal generated\n",
    "3) copy over account class\n",
    "\n",
    "\n",
    "\n",
    "\n",
    "\n",
    "\n",
    "\n",
    "\n",
    "\"\"\""
   ]
  },
  {
   "cell_type": "code",
   "execution_count": 5,
   "metadata": {},
   "outputs": [
    {
     "name": "stdout",
     "output_type": "stream",
     "text": [
      "none\n"
     ]
    }
   ],
   "source": [
    "\"\"\"from chat-GPT\"\"\"\n",
    "import ib_insync\n",
    "import pandas as pd\n",
    "\n",
    "# Connect to the Interactive Brokers TWS/IB Gateway\n",
    "ib = ib_insync.IB()\n",
    "ib.connect('127.0.0.1', 7497, 3)\n",
    "\n",
    "# Define the assets to be traded\n",
    "# assets = ['AAPL', 'GOOG', 'MSFT', 'FB']\n",
    "assets = ['NQ']\n",
    "\n",
    "# Define the moving average window\n",
    "window = 5\n",
    "\n",
    "# Get the historical data for the assets\n",
    "df = pd.DataFrame()\n",
    "for asset in assets:\n",
    "#     contract = ib_insync.Stock(asset, 'SMART', 'USD')\n",
    "    contract = ib_insync.Future(asset,  '20230317', 'CME')\n",
    "    bars = ib.reqHistoricalData(contract, endDateTime='', durationStr='180 D', barSizeSetting='1 day', whatToShow='TRADES', useRTH=True)\n",
    "    df[asset] = [bar.close for bar in bars]\n",
    "\n",
    "# Calculate the moving average for each asset\n",
    "for asset in assets:\n",
    "    df[f\"{asset}_MA_{window}\"] = df[asset].rolling(window=window).mean()\n",
    "\n",
    "# Buy and sell logic\n",
    "for asset in assets:\n",
    "    # Buy when the price crosses above the moving average\n",
    "    if df[asset].iloc[-1] > df[f\"{asset}_MA_{window}\"].iloc[-1] and df[asset].iloc[-2] < df[f\"{asset}_MA_{window}\"].iloc[-2]:\n",
    "        print(f\"Buy {asset}\")\n",
    "    \n",
    "    # Sell when the price crosses below the moving average\n",
    "    elif df[asset].iloc[-1] < df[f\"{asset}_MA_{window}\"].iloc[-1] and df[asset].iloc[-2] > df[f\"{asset}_MA_{window}\"].iloc[-2]:\n",
    "        print(f\"Sell {asset}\")\n",
    "    else:\n",
    "        print('none')\n",
    "\n",
    "# Disconnect from the Interactive Brokers TWS/IB Gateway\n",
    "ib.disconnect()\n"
   ]
  },
  {
   "cell_type": "code",
   "execution_count": 6,
   "metadata": {},
   "outputs": [
    {
     "data": {
      "text/html": [
       "<div>\n",
       "<style scoped>\n",
       "    .dataframe tbody tr th:only-of-type {\n",
       "        vertical-align: middle;\n",
       "    }\n",
       "\n",
       "    .dataframe tbody tr th {\n",
       "        vertical-align: top;\n",
       "    }\n",
       "\n",
       "    .dataframe thead th {\n",
       "        text-align: right;\n",
       "    }\n",
       "</style>\n",
       "<table border=\"1\" class=\"dataframe\">\n",
       "  <thead>\n",
       "    <tr style=\"text-align: right;\">\n",
       "      <th></th>\n",
       "      <th>NQ</th>\n",
       "      <th>NQ_MA_5</th>\n",
       "    </tr>\n",
       "  </thead>\n",
       "  <tbody>\n",
       "    <tr>\n",
       "      <th>0</th>\n",
       "      <td>12063.50</td>\n",
       "      <td>NaN</td>\n",
       "    </tr>\n",
       "    <tr>\n",
       "      <th>1</th>\n",
       "      <td>12400.75</td>\n",
       "      <td>NaN</td>\n",
       "    </tr>\n",
       "    <tr>\n",
       "      <th>2</th>\n",
       "      <td>12803.00</td>\n",
       "      <td>NaN</td>\n",
       "    </tr>\n",
       "    <tr>\n",
       "      <th>3</th>\n",
       "      <td>12770.50</td>\n",
       "      <td>NaN</td>\n",
       "    </tr>\n",
       "    <tr>\n",
       "      <th>4</th>\n",
       "      <td>12679.50</td>\n",
       "      <td>12543.45</td>\n",
       "    </tr>\n",
       "    <tr>\n",
       "      <th>...</th>\n",
       "      <td>...</td>\n",
       "      <td>...</td>\n",
       "    </tr>\n",
       "    <tr>\n",
       "      <th>169</th>\n",
       "      <td>12221.00</td>\n",
       "      <td>12012.15</td>\n",
       "    </tr>\n",
       "    <tr>\n",
       "      <th>170</th>\n",
       "      <td>11988.75</td>\n",
       "      <td>12022.80</td>\n",
       "    </tr>\n",
       "    <tr>\n",
       "      <th>171</th>\n",
       "      <td>12119.25</td>\n",
       "      <td>12052.60</td>\n",
       "    </tr>\n",
       "    <tr>\n",
       "      <th>172</th>\n",
       "      <td>12505.25</td>\n",
       "      <td>12178.95</td>\n",
       "    </tr>\n",
       "    <tr>\n",
       "      <th>173</th>\n",
       "      <td>12670.25</td>\n",
       "      <td>12300.90</td>\n",
       "    </tr>\n",
       "  </tbody>\n",
       "</table>\n",
       "<p>174 rows × 2 columns</p>\n",
       "</div>"
      ],
      "text/plain": [
       "           NQ   NQ_MA_5\n",
       "0    12063.50       NaN\n",
       "1    12400.75       NaN\n",
       "2    12803.00       NaN\n",
       "3    12770.50       NaN\n",
       "4    12679.50  12543.45\n",
       "..        ...       ...\n",
       "169  12221.00  12012.15\n",
       "170  11988.75  12022.80\n",
       "171  12119.25  12052.60\n",
       "172  12505.25  12178.95\n",
       "173  12670.25  12300.90\n",
       "\n",
       "[174 rows x 2 columns]"
      ]
     },
     "execution_count": 6,
     "metadata": {},
     "output_type": "execute_result"
    }
   ],
   "source": [
    "df"
   ]
  },
  {
   "cell_type": "code",
   "execution_count": 54,
   "metadata": {},
   "outputs": [],
   "source": [
    "def BacktestData(ib, contractList, duration, barSize):\n",
    "    df_list=[]\n",
    "    for contract in contractList:\n",
    "        bars = ib.reqHistoricalData(\n",
    "            contract, endDateTime='', durationStr=duration,\n",
    "            barSizeSetting=barSize, whatToShow='MIDPOINT', useRTH=True)\n",
    "\n",
    "        df = util.df(bars)\n",
    "        df = df[['date','close']]\n",
    "        df = df.rename({'close':contract.symbol}, axis=1)\n",
    "        df_list.append(df)\n",
    "\n",
    "    if len(df_list)==1:\n",
    "        return df_list[0]\n",
    "    \n",
    "    df_final = df_list[0]\n",
    "    for i in range(1,len(df_list)):\n",
    "        df_final = pd.merge(df_final, df_list[i], on='date', how='inner')\n",
    "    return df_final\n",
    "\n",
    "\"\"\"test\"\"\"\n",
    "ib2 = IB()\n",
    "ib2.connect('127.0.0.1', 7497, 1)\n",
    "futures = [Future('NQ', '20230317', 'CME'), Future('ES', '20230317', 'CME')]\n",
    "duration = '180 D'\n",
    "barSize = '1 day'\n",
    "\n",
    "df = BacktestData(ib2, futures, duration, barSize)"
   ]
  },
  {
   "cell_type": "code",
   "execution_count": 86,
   "metadata": {},
   "outputs": [],
   "source": [
    "def MovingAverage(df, low=5, high=10):\n",
    "    df[str(low)+'D MA'] = df['Close'].rolling(low).mean()\n",
    "    df[str(high)+'D MA'] = df['Close'].rolling(high).mean()\n",
    "    return df\n",
    "\n",
    "\n",
    "class RealTimeData():\n",
    "    def __init__(self):\n",
    "        pass\n",
    "    \n",
    "    def getDataFrame(self):\n",
    "        self.df = pd.DataFrame(columns=['Date', 'Close'])    \n",
    "    \n",
    "    def addData(self, bar):\n",
    "        self.df = self.df.append({'Date':bar.time.date(), 'Close':bar.close}, ignore_index=True)\n",
    "        display(self.df)\n",
    "        \n",
    "#         self.processData()\n",
    "\n",
    "    def onBarUpdate(self, bars, newBar):\n",
    "        if newBar:\n",
    "            print('on bar update', bars[-1])\n",
    "            lst.append(bars[-1])   \n",
    "\n",
    "    def processData(self):\n",
    "        pass\n",
    "        \n",
    "    \n",
    "    def addDataDF(self, bars, newBar):\n",
    "        if newBar:\n",
    "            self.addData(bars[-1])\n",
    "\n",
    "\n",
    "\n",
    "\n"
   ]
  },
  {
   "cell_type": "code",
   "execution_count": 87,
   "metadata": {},
   "outputs": [
    {
     "data": {
      "text/html": [
       "<div>\n",
       "<style scoped>\n",
       "    .dataframe tbody tr th:only-of-type {\n",
       "        vertical-align: middle;\n",
       "    }\n",
       "\n",
       "    .dataframe tbody tr th {\n",
       "        vertical-align: top;\n",
       "    }\n",
       "\n",
       "    .dataframe thead th {\n",
       "        text-align: right;\n",
       "    }\n",
       "</style>\n",
       "<table border=\"1\" class=\"dataframe\">\n",
       "  <thead>\n",
       "    <tr style=\"text-align: right;\">\n",
       "      <th></th>\n",
       "      <th>Date</th>\n",
       "      <th>Close</th>\n",
       "    </tr>\n",
       "  </thead>\n",
       "  <tbody>\n",
       "    <tr>\n",
       "      <th>0</th>\n",
       "      <td>2023-02-17</td>\n",
       "      <td>23851.125</td>\n",
       "    </tr>\n",
       "  </tbody>\n",
       "</table>\n",
       "</div>"
      ],
      "text/plain": [
       "         Date      Close\n",
       "0  2023-02-17  23851.125"
      ]
     },
     "metadata": {},
     "output_type": "display_data"
    },
    {
     "data": {
      "text/html": [
       "<div>\n",
       "<style scoped>\n",
       "    .dataframe tbody tr th:only-of-type {\n",
       "        vertical-align: middle;\n",
       "    }\n",
       "\n",
       "    .dataframe tbody tr th {\n",
       "        vertical-align: top;\n",
       "    }\n",
       "\n",
       "    .dataframe thead th {\n",
       "        text-align: right;\n",
       "    }\n",
       "</style>\n",
       "<table border=\"1\" class=\"dataframe\">\n",
       "  <thead>\n",
       "    <tr style=\"text-align: right;\">\n",
       "      <th></th>\n",
       "      <th>Date</th>\n",
       "      <th>Close</th>\n",
       "    </tr>\n",
       "  </thead>\n",
       "  <tbody>\n",
       "    <tr>\n",
       "      <th>0</th>\n",
       "      <td>2023-02-17</td>\n",
       "      <td>23851.125</td>\n",
       "    </tr>\n",
       "    <tr>\n",
       "      <th>1</th>\n",
       "      <td>2023-02-17</td>\n",
       "      <td>23851.125</td>\n",
       "    </tr>\n",
       "  </tbody>\n",
       "</table>\n",
       "</div>"
      ],
      "text/plain": [
       "         Date      Close\n",
       "0  2023-02-17  23851.125\n",
       "1  2023-02-17  23851.125"
      ]
     },
     "metadata": {},
     "output_type": "display_data"
    },
    {
     "data": {
      "text/html": [
       "<div>\n",
       "<style scoped>\n",
       "    .dataframe tbody tr th:only-of-type {\n",
       "        vertical-align: middle;\n",
       "    }\n",
       "\n",
       "    .dataframe tbody tr th {\n",
       "        vertical-align: top;\n",
       "    }\n",
       "\n",
       "    .dataframe thead th {\n",
       "        text-align: right;\n",
       "    }\n",
       "</style>\n",
       "<table border=\"1\" class=\"dataframe\">\n",
       "  <thead>\n",
       "    <tr style=\"text-align: right;\">\n",
       "      <th></th>\n",
       "      <th>Date</th>\n",
       "      <th>Close</th>\n",
       "    </tr>\n",
       "  </thead>\n",
       "  <tbody>\n",
       "    <tr>\n",
       "      <th>0</th>\n",
       "      <td>2023-02-17</td>\n",
       "      <td>23851.125</td>\n",
       "    </tr>\n",
       "    <tr>\n",
       "      <th>1</th>\n",
       "      <td>2023-02-17</td>\n",
       "      <td>23851.125</td>\n",
       "    </tr>\n",
       "    <tr>\n",
       "      <th>2</th>\n",
       "      <td>2023-02-17</td>\n",
       "      <td>1664.725</td>\n",
       "    </tr>\n",
       "  </tbody>\n",
       "</table>\n",
       "</div>"
      ],
      "text/plain": [
       "         Date      Close\n",
       "0  2023-02-17  23851.125\n",
       "1  2023-02-17  23851.125\n",
       "2  2023-02-17   1664.725"
      ]
     },
     "metadata": {},
     "output_type": "display_data"
    },
    {
     "data": {
      "text/html": [
       "<div>\n",
       "<style scoped>\n",
       "    .dataframe tbody tr th:only-of-type {\n",
       "        vertical-align: middle;\n",
       "    }\n",
       "\n",
       "    .dataframe tbody tr th {\n",
       "        vertical-align: top;\n",
       "    }\n",
       "\n",
       "    .dataframe thead th {\n",
       "        text-align: right;\n",
       "    }\n",
       "</style>\n",
       "<table border=\"1\" class=\"dataframe\">\n",
       "  <thead>\n",
       "    <tr style=\"text-align: right;\">\n",
       "      <th></th>\n",
       "      <th>Date</th>\n",
       "      <th>Close</th>\n",
       "    </tr>\n",
       "  </thead>\n",
       "  <tbody>\n",
       "    <tr>\n",
       "      <th>0</th>\n",
       "      <td>2023-02-17</td>\n",
       "      <td>23851.125</td>\n",
       "    </tr>\n",
       "    <tr>\n",
       "      <th>1</th>\n",
       "      <td>2023-02-17</td>\n",
       "      <td>23851.125</td>\n",
       "    </tr>\n",
       "    <tr>\n",
       "      <th>2</th>\n",
       "      <td>2023-02-17</td>\n",
       "      <td>1664.725</td>\n",
       "    </tr>\n",
       "    <tr>\n",
       "      <th>3</th>\n",
       "      <td>2023-02-17</td>\n",
       "      <td>1664.725</td>\n",
       "    </tr>\n",
       "  </tbody>\n",
       "</table>\n",
       "</div>"
      ],
      "text/plain": [
       "         Date      Close\n",
       "0  2023-02-17  23851.125\n",
       "1  2023-02-17  23851.125\n",
       "2  2023-02-17   1664.725\n",
       "3  2023-02-17   1664.725"
      ]
     },
     "metadata": {},
     "output_type": "display_data"
    },
    {
     "data": {
      "text/html": [
       "<div>\n",
       "<style scoped>\n",
       "    .dataframe tbody tr th:only-of-type {\n",
       "        vertical-align: middle;\n",
       "    }\n",
       "\n",
       "    .dataframe tbody tr th {\n",
       "        vertical-align: top;\n",
       "    }\n",
       "\n",
       "    .dataframe thead th {\n",
       "        text-align: right;\n",
       "    }\n",
       "</style>\n",
       "<table border=\"1\" class=\"dataframe\">\n",
       "  <thead>\n",
       "    <tr style=\"text-align: right;\">\n",
       "      <th></th>\n",
       "      <th>Date</th>\n",
       "      <th>Close</th>\n",
       "    </tr>\n",
       "  </thead>\n",
       "  <tbody>\n",
       "    <tr>\n",
       "      <th>0</th>\n",
       "      <td>2023-02-17</td>\n",
       "      <td>23851.125</td>\n",
       "    </tr>\n",
       "    <tr>\n",
       "      <th>1</th>\n",
       "      <td>2023-02-17</td>\n",
       "      <td>23851.125</td>\n",
       "    </tr>\n",
       "    <tr>\n",
       "      <th>2</th>\n",
       "      <td>2023-02-17</td>\n",
       "      <td>1664.725</td>\n",
       "    </tr>\n",
       "    <tr>\n",
       "      <th>3</th>\n",
       "      <td>2023-02-17</td>\n",
       "      <td>1664.725</td>\n",
       "    </tr>\n",
       "    <tr>\n",
       "      <th>4</th>\n",
       "      <td>2023-02-17</td>\n",
       "      <td>23851.125</td>\n",
       "    </tr>\n",
       "  </tbody>\n",
       "</table>\n",
       "</div>"
      ],
      "text/plain": [
       "         Date      Close\n",
       "0  2023-02-17  23851.125\n",
       "1  2023-02-17  23851.125\n",
       "2  2023-02-17   1664.725\n",
       "3  2023-02-17   1664.725\n",
       "4  2023-02-17  23851.125"
      ]
     },
     "metadata": {},
     "output_type": "display_data"
    }
   ],
   "source": [
    "contract1 = Crypto('BTC', exchange='PAXOS', currency='USD')\n",
    "contract2 = Crypto('ETH', exchange='PAXOS', currency='USD')\n",
    "contracts = [contract1, contract2]\n",
    "ib = IB()\n",
    "ib.connect('127.0.0.1', 7497, 27)\n",
    "\n",
    "data = RealTimeData()\n",
    "data.getDataFrame()\n",
    "bar_list=[]\n",
    "for contract in contracts:\n",
    "    bars = ib.reqRealTimeBars(contract=contract,barSize=5,whatToShow='MIDPOINT',useRTH=False)\n",
    "#     bars.updateEvent += data.onBarUpdate\n",
    "    bars.updateEvent += data.addDataDF\n",
    "    ib.sleep(5)\n",
    "#     bar_list.append(bars)\n",
    "#     ib.cancelRealTimeBars(bars)\n",
    "#     df = MovingAverage(data.df, 5, 10)\n",
    "ib.disconnect()"
   ]
  },
  {
   "cell_type": "code",
   "execution_count": 6,
   "metadata": {},
   "outputs": [
    {
     "data": {
      "text/plain": [
       "[[RealTimeBar(time=datetime.datetime(2023, 2, 16, 3, 55, 40, tzinfo=datetime.timezone.utc), endTime=-1, open_=24722.375, high=24722.375, low=24722.375, close=24722.375, volume=-1.0, wap=-1.0, count=-1),\n",
       "  RealTimeBar(time=datetime.datetime(2023, 2, 16, 3, 55, 45, tzinfo=datetime.timezone.utc), endTime=-1, open_=24722.375, high=24722.375, low=24722.375, close=24722.375, volume=-1.0, wap=-1.0, count=-1),\n",
       "  RealTimeBar(time=datetime.datetime(2023, 2, 16, 3, 55, 50, tzinfo=datetime.timezone.utc), endTime=-1, open_=24722.375, high=24722.375, low=24722.375, close=24722.375, volume=-1.0, wap=-1.0, count=-1)],\n",
       " [RealTimeBar(time=datetime.datetime(2023, 2, 16, 3, 55, 45, tzinfo=datetime.timezone.utc), endTime=-1, open_=1691.975, high=1691.975, low=1691.975, close=1691.975, volume=-1.0, wap=-1.0, count=-1),\n",
       "  RealTimeBar(time=datetime.datetime(2023, 2, 16, 3, 55, 50, tzinfo=datetime.timezone.utc), endTime=-1, open_=1691.975, high=1691.975, low=1691.975, close=1691.975, volume=-1.0, wap=-1.0, count=-1)]]"
      ]
     },
     "execution_count": 6,
     "metadata": {},
     "output_type": "execute_result"
    }
   ],
   "source": [
    "bar_list"
   ]
  },
  {
   "cell_type": "code",
   "execution_count": 4,
   "metadata": {},
   "outputs": [
    {
     "data": {
      "text/html": [
       "<div>\n",
       "<style scoped>\n",
       "    .dataframe tbody tr th:only-of-type {\n",
       "        vertical-align: middle;\n",
       "    }\n",
       "\n",
       "    .dataframe tbody tr th {\n",
       "        vertical-align: top;\n",
       "    }\n",
       "\n",
       "    .dataframe thead th {\n",
       "        text-align: right;\n",
       "    }\n",
       "</style>\n",
       "<table border=\"1\" class=\"dataframe\">\n",
       "  <thead>\n",
       "    <tr style=\"text-align: right;\">\n",
       "      <th></th>\n",
       "      <th>Date</th>\n",
       "      <th>Close</th>\n",
       "      <th>5D MA</th>\n",
       "      <th>10D MA</th>\n",
       "    </tr>\n",
       "  </thead>\n",
       "  <tbody>\n",
       "    <tr>\n",
       "      <th>0</th>\n",
       "      <td>2023-02-16</td>\n",
       "      <td>24707.125</td>\n",
       "      <td>NaN</td>\n",
       "      <td>NaN</td>\n",
       "    </tr>\n",
       "    <tr>\n",
       "      <th>1</th>\n",
       "      <td>2023-02-16</td>\n",
       "      <td>24707.125</td>\n",
       "      <td>NaN</td>\n",
       "      <td>NaN</td>\n",
       "    </tr>\n",
       "    <tr>\n",
       "      <th>2</th>\n",
       "      <td>2023-02-16</td>\n",
       "      <td>24707.125</td>\n",
       "      <td>NaN</td>\n",
       "      <td>NaN</td>\n",
       "    </tr>\n",
       "    <tr>\n",
       "      <th>3</th>\n",
       "      <td>2023-02-16</td>\n",
       "      <td>24707.125</td>\n",
       "      <td>NaN</td>\n",
       "      <td>NaN</td>\n",
       "    </tr>\n",
       "    <tr>\n",
       "      <th>4</th>\n",
       "      <td>2023-02-16</td>\n",
       "      <td>24707.125</td>\n",
       "      <td>24707.125</td>\n",
       "      <td>NaN</td>\n",
       "    </tr>\n",
       "    <tr>\n",
       "      <th>5</th>\n",
       "      <td>2023-02-16</td>\n",
       "      <td>24707.125</td>\n",
       "      <td>24707.125</td>\n",
       "      <td>NaN</td>\n",
       "    </tr>\n",
       "    <tr>\n",
       "      <th>6</th>\n",
       "      <td>2023-02-16</td>\n",
       "      <td>24707.125</td>\n",
       "      <td>24707.125</td>\n",
       "      <td>NaN</td>\n",
       "    </tr>\n",
       "    <tr>\n",
       "      <th>7</th>\n",
       "      <td>2023-02-16</td>\n",
       "      <td>24709.375</td>\n",
       "      <td>24707.575</td>\n",
       "      <td>NaN</td>\n",
       "    </tr>\n",
       "    <tr>\n",
       "      <th>8</th>\n",
       "      <td>2023-02-16</td>\n",
       "      <td>24709.375</td>\n",
       "      <td>24708.025</td>\n",
       "      <td>NaN</td>\n",
       "    </tr>\n",
       "    <tr>\n",
       "      <th>9</th>\n",
       "      <td>2023-02-16</td>\n",
       "      <td>24709.375</td>\n",
       "      <td>24708.475</td>\n",
       "      <td>24707.800</td>\n",
       "    </tr>\n",
       "    <tr>\n",
       "      <th>10</th>\n",
       "      <td>2023-02-16</td>\n",
       "      <td>24709.375</td>\n",
       "      <td>24708.925</td>\n",
       "      <td>24708.025</td>\n",
       "    </tr>\n",
       "  </tbody>\n",
       "</table>\n",
       "</div>"
      ],
      "text/plain": [
       "          Date      Close      5D MA     10D MA\n",
       "0   2023-02-16  24707.125        NaN        NaN\n",
       "1   2023-02-16  24707.125        NaN        NaN\n",
       "2   2023-02-16  24707.125        NaN        NaN\n",
       "3   2023-02-16  24707.125        NaN        NaN\n",
       "4   2023-02-16  24707.125  24707.125        NaN\n",
       "5   2023-02-16  24707.125  24707.125        NaN\n",
       "6   2023-02-16  24707.125  24707.125        NaN\n",
       "7   2023-02-16  24709.375  24707.575        NaN\n",
       "8   2023-02-16  24709.375  24708.025        NaN\n",
       "9   2023-02-16  24709.375  24708.475  24707.800\n",
       "10  2023-02-16  24709.375  24708.925  24708.025"
      ]
     },
     "execution_count": 4,
     "metadata": {},
     "output_type": "execute_result"
    }
   ],
   "source": [
    "df"
   ]
  },
  {
   "cell_type": "code",
   "execution_count": 18,
   "metadata": {},
   "outputs": [],
   "source": [
    "# ib.cancelRealTimeBars(bars)"
   ]
  },
  {
   "cell_type": "code",
   "execution_count": 19,
   "metadata": {},
   "outputs": [],
   "source": [
    "# data.df"
   ]
  },
  {
   "cell_type": "code",
   "execution_count": 20,
   "metadata": {},
   "outputs": [
    {
     "name": "stderr",
     "output_type": "stream",
     "text": [
      "Peer closed connection.\n"
     ]
    }
   ],
   "source": [
    "# ib.cancelRealTimeBars(bars)        "
   ]
  },
  {
   "cell_type": "code",
   "execution_count": 55,
   "metadata": {},
   "outputs": [],
   "source": []
  },
  {
   "cell_type": "code",
   "execution_count": null,
   "metadata": {},
   "outputs": [],
   "source": []
  },
  {
   "cell_type": "code",
   "execution_count": 59,
   "metadata": {},
   "outputs": [],
   "source": [
    "\"\"\"data_df is either historical data from backtestdat\"\"\"\n",
    "def RunAlgo(ib, data_df, contractList, duration, barSize, indicatorList):\n",
    "    pass\n",
    "    \n",
    "        \n"
   ]
  },
  {
   "cell_type": "code",
   "execution_count": null,
   "metadata": {},
   "outputs": [],
   "source": [
    "import asyncio\n",
    "\n",
    "import ib_insync as ibi\n",
    "\n",
    "\n",
    "class App:\n",
    "\n",
    "    async def run(self):\n",
    "        self.ib = ibi.IB()\n",
    "        with await self.ib.connectAsync():\n",
    "            contracts = [\n",
    "#                 ibi.Stock(symbol, 'SMART', 'USD')\n",
    "                 ibi.Crypto(symbol, exchange='PAXOS', currency='USD')\n",
    "                for symbol in ['BTC', 'ETH']\n",
    "            for contract in contracts:\n",
    "                self.ib.reqMktData(contract)\n",
    "\n",
    "            async for tickers in self.ib.pendingTickersEvent:\n",
    "                for ticker in tickers:\n",
    "                    print(ticker)\n",
    "\n",
    "    def stop(self):\n",
    "        self.ib.disconnect()\n",
    "\n",
    "\n",
    "app = App()\n",
    "try:\n",
    "    asyncio.run(app.run())\n",
    "except (KeyboardInterrupt, SystemExit):\n",
    "    app.stop()"
   ]
  },
  {
   "cell_type": "code",
   "execution_count": null,
   "metadata": {},
   "outputs": [],
   "source": [
    "import ib_insync as ibi\n",
    "import pygame\n",
    "\n",
    "\n",
    "def onTicker(ticker):\n",
    "    screen.fill(bg_color)\n",
    "    text = f'bid: {ticker.bid}   ask: {ticker.ask}'\n",
    "    quote = font.render(text, True, fg_color)\n",
    "    screen.blit(quote, (40, 40))\n",
    "    pygame.display.flip()\n",
    "\n",
    "\n",
    "pygame.init()\n",
    "screen = pygame.display.set_mode((800, 600))\n",
    "font = pygame.font.SysFont('arial', 48)\n",
    "bg_color = (255, 255, 255)\n",
    "fg_color = (0, 0, 0)\n",
    "\n",
    "ib = ibi.IB()\n",
    "ib.connect()\n",
    "contract = ibi.Forex('EURUSD')\n",
    "ticker = ib.reqMktData(contract)\n",
    "ticker.updateEvent += onTicker\n",
    "\n",
    "running = True\n",
    "while running:\n",
    "    # This updates IB-insync:\n",
    "    ib.sleep(0.03)\n",
    "\n",
    "    # This updates PyGame:\n",
    "    for event in pygame.event.get():\n",
    "        if event.type == pygame.QUIT:\n",
    "            running = False\n",
    "            pygame.quit()"
   ]
  },
  {
   "cell_type": "code",
   "execution_count": 15,
   "metadata": {},
   "outputs": [],
   "source": [
    "\"\"\"threading example from chatgpt\"\"\"\n",
    "\n",
    "from ib_insync import *\n",
    "import threading\n",
    "\n",
    "# create a list of contracts\n",
    "# contracts = [Contract(symbol='AAPL', exchange='SMART', currency='USD'),\n",
    "#              Contract(symbol='GOOG', exchange='SMART', currency='USD'),\n",
    "#              Contract(symbol='MSFT', exchange='SMART', currency='USD')]\n",
    "\n",
    "contract1 = Crypto('BTC', exchange='PAXOS', currency='USD')\n",
    "contract2 = Crypto('ETH', exchange='PAXOS', currency='USD')\n",
    "contracts = [contract1, contract2]\n",
    "\n",
    "\n",
    "# create a list of threads\n",
    "threads = []\n",
    "\n",
    "ib = IB()\n",
    "ib.connect('127.0.0.1', 7497, clientId=1)\n",
    "\n",
    "# define a function to get data for a contract\n",
    "def get_data(contract):\n",
    "    \n",
    "    \n",
    "    ib.reqTickByTickData(contract, 'AllLast', 0, False)\n",
    "    ib.sleep(5)\n",
    "    ib.disconnect()\n",
    "\n",
    "# create a thread for each contract\n",
    "for contract in contracts:\n",
    "    t = threading.Thread(target=get_data, args=(contract,))\n",
    "    threads.append(t)\n",
    "    t.start()\n",
    "\n",
    "# wait for all the threads to complete\n",
    "for t in threads:\n",
    "    t.join()\n",
    "\n",
    "# process the data for all contracts\n",
    "data = []\n",
    "for contract in contracts:\n",
    "    data += ib.reqTickByTickData(contract, 'AllLast')\n",
    "# process_data(data)\n"
   ]
  },
  {
   "cell_type": "code",
   "execution_count": 43,
   "metadata": {},
   "outputs": [
    {
     "ename": "AttributeError",
     "evalue": "'list' object has no attribute 'includeExpired'",
     "output_type": "error",
     "traceback": [
      "\u001b[1;31m---------------------------------------------------------------------------\u001b[0m",
      "\u001b[1;31mAttributeError\u001b[0m                            Traceback (most recent call last)",
      "\u001b[1;32m<ipython-input-43-d28ba3c4162e>\u001b[0m in \u001b[0;36m<module>\u001b[1;34m\u001b[0m\n\u001b[0;32m     25\u001b[0m \u001b[1;33m\u001b[0m\u001b[0m\n\u001b[0;32m     26\u001b[0m \u001b[1;31m# qualify the contracts\u001b[0m\u001b[1;33m\u001b[0m\u001b[1;33m\u001b[0m\u001b[1;33m\u001b[0m\u001b[0m\n\u001b[1;32m---> 27\u001b[1;33m \u001b[0mqualified_contracts\u001b[0m \u001b[1;33m=\u001b[0m \u001b[0mib\u001b[0m\u001b[1;33m.\u001b[0m\u001b[0mqualifyContracts\u001b[0m\u001b[1;33m(\u001b[0m\u001b[0mcontracts\u001b[0m\u001b[1;33m)\u001b[0m\u001b[1;33m\u001b[0m\u001b[1;33m\u001b[0m\u001b[0m\n\u001b[0m\u001b[0;32m     28\u001b[0m \u001b[1;33m\u001b[0m\u001b[0m\n\u001b[0;32m     29\u001b[0m \u001b[0mmarket_data\u001b[0m \u001b[1;33m=\u001b[0m \u001b[1;33m{\u001b[0m\u001b[0mcontract\u001b[0m\u001b[1;33m.\u001b[0m\u001b[0msymbol\u001b[0m\u001b[1;33m:\u001b[0m \u001b[1;33m[\u001b[0m\u001b[1;33m]\u001b[0m \u001b[1;32mfor\u001b[0m \u001b[0mcontract\u001b[0m \u001b[1;32min\u001b[0m \u001b[0mqualified_contracts\u001b[0m\u001b[1;33m}\u001b[0m\u001b[1;33m\u001b[0m\u001b[1;33m\u001b[0m\u001b[0m\n",
      "\u001b[1;32m~\\Anaconda3\\lib\\site-packages\\ib_insync\\ib.py\u001b[0m in \u001b[0;36mqualifyContracts\u001b[1;34m(self, *contracts)\u001b[0m\n\u001b[0;32m    549\u001b[0m             \u001b[0mcontracts\u001b[0m\u001b[1;33m:\u001b[0m \u001b[0mContracts\u001b[0m \u001b[0mto\u001b[0m \u001b[0mqualify\u001b[0m\u001b[1;33m.\u001b[0m\u001b[1;33m\u001b[0m\u001b[1;33m\u001b[0m\u001b[0m\n\u001b[0;32m    550\u001b[0m         \"\"\"\n\u001b[1;32m--> 551\u001b[1;33m         \u001b[1;32mreturn\u001b[0m \u001b[0mself\u001b[0m\u001b[1;33m.\u001b[0m\u001b[0m_run\u001b[0m\u001b[1;33m(\u001b[0m\u001b[0mself\u001b[0m\u001b[1;33m.\u001b[0m\u001b[0mqualifyContractsAsync\u001b[0m\u001b[1;33m(\u001b[0m\u001b[1;33m*\u001b[0m\u001b[0mcontracts\u001b[0m\u001b[1;33m)\u001b[0m\u001b[1;33m)\u001b[0m\u001b[1;33m\u001b[0m\u001b[1;33m\u001b[0m\u001b[0m\n\u001b[0m\u001b[0;32m    552\u001b[0m \u001b[1;33m\u001b[0m\u001b[0m\n\u001b[0;32m    553\u001b[0m     def bracketOrder(\n",
      "\u001b[1;32m~\\Anaconda3\\lib\\site-packages\\ib_insync\\ib.py\u001b[0m in \u001b[0;36m_run\u001b[1;34m(self, *awaitables)\u001b[0m\n\u001b[0;32m    306\u001b[0m \u001b[1;33m\u001b[0m\u001b[0m\n\u001b[0;32m    307\u001b[0m     \u001b[1;32mdef\u001b[0m \u001b[0m_run\u001b[0m\u001b[1;33m(\u001b[0m\u001b[0mself\u001b[0m\u001b[1;33m,\u001b[0m \u001b[1;33m*\u001b[0m\u001b[0mawaitables\u001b[0m\u001b[1;33m:\u001b[0m \u001b[0mAwaitable\u001b[0m\u001b[1;33m)\u001b[0m\u001b[1;33m:\u001b[0m\u001b[1;33m\u001b[0m\u001b[1;33m\u001b[0m\u001b[0m\n\u001b[1;32m--> 308\u001b[1;33m         \u001b[1;32mreturn\u001b[0m \u001b[0mutil\u001b[0m\u001b[1;33m.\u001b[0m\u001b[0mrun\u001b[0m\u001b[1;33m(\u001b[0m\u001b[1;33m*\u001b[0m\u001b[0mawaitables\u001b[0m\u001b[1;33m,\u001b[0m \u001b[0mtimeout\u001b[0m\u001b[1;33m=\u001b[0m\u001b[0mself\u001b[0m\u001b[1;33m.\u001b[0m\u001b[0mRequestTimeout\u001b[0m\u001b[1;33m)\u001b[0m\u001b[1;33m\u001b[0m\u001b[1;33m\u001b[0m\u001b[0m\n\u001b[0m\u001b[0;32m    309\u001b[0m \u001b[1;33m\u001b[0m\u001b[0m\n\u001b[0;32m    310\u001b[0m     \u001b[1;32mdef\u001b[0m \u001b[0mwaitOnUpdate\u001b[0m\u001b[1;33m(\u001b[0m\u001b[0mself\u001b[0m\u001b[1;33m,\u001b[0m \u001b[0mtimeout\u001b[0m\u001b[1;33m:\u001b[0m \u001b[0mfloat\u001b[0m \u001b[1;33m=\u001b[0m \u001b[1;36m0\u001b[0m\u001b[1;33m)\u001b[0m \u001b[1;33m->\u001b[0m \u001b[0mbool\u001b[0m\u001b[1;33m:\u001b[0m\u001b[1;33m\u001b[0m\u001b[1;33m\u001b[0m\u001b[0m\n",
      "\u001b[1;32m~\\Anaconda3\\lib\\site-packages\\ib_insync\\util.py\u001b[0m in \u001b[0;36mrun\u001b[1;34m(timeout, *awaitables)\u001b[0m\n\u001b[0;32m    330\u001b[0m         \u001b[0mglobalErrorEvent\u001b[0m\u001b[1;33m.\u001b[0m\u001b[0mconnect\u001b[0m\u001b[1;33m(\u001b[0m\u001b[0monError\u001b[0m\u001b[1;33m)\u001b[0m\u001b[1;33m\u001b[0m\u001b[1;33m\u001b[0m\u001b[0m\n\u001b[0;32m    331\u001b[0m         \u001b[1;32mtry\u001b[0m\u001b[1;33m:\u001b[0m\u001b[1;33m\u001b[0m\u001b[1;33m\u001b[0m\u001b[0m\n\u001b[1;32m--> 332\u001b[1;33m             \u001b[0mresult\u001b[0m \u001b[1;33m=\u001b[0m \u001b[0mloop\u001b[0m\u001b[1;33m.\u001b[0m\u001b[0mrun_until_complete\u001b[0m\u001b[1;33m(\u001b[0m\u001b[0mtask\u001b[0m\u001b[1;33m)\u001b[0m\u001b[1;33m\u001b[0m\u001b[1;33m\u001b[0m\u001b[0m\n\u001b[0m\u001b[0;32m    333\u001b[0m         \u001b[1;32mexcept\u001b[0m \u001b[0masyncio\u001b[0m\u001b[1;33m.\u001b[0m\u001b[0mCancelledError\u001b[0m \u001b[1;32mas\u001b[0m \u001b[0me\u001b[0m\u001b[1;33m:\u001b[0m\u001b[1;33m\u001b[0m\u001b[1;33m\u001b[0m\u001b[0m\n\u001b[0;32m    334\u001b[0m             \u001b[1;32mraise\u001b[0m \u001b[0mglobalErrorEvent\u001b[0m\u001b[1;33m.\u001b[0m\u001b[0mvalue\u001b[0m\u001b[1;33m(\u001b[0m\u001b[1;33m)\u001b[0m \u001b[1;32mor\u001b[0m \u001b[0me\u001b[0m\u001b[1;33m\u001b[0m\u001b[1;33m\u001b[0m\u001b[0m\n",
      "\u001b[1;32m~\\Anaconda3\\lib\\site-packages\\nest_asyncio.py\u001b[0m in \u001b[0;36mrun_until_complete\u001b[1;34m(self, future)\u001b[0m\n\u001b[0;32m     94\u001b[0m                 raise RuntimeError(\n\u001b[0;32m     95\u001b[0m                     'Event loop stopped before Future completed.')\n\u001b[1;32m---> 96\u001b[1;33m             \u001b[1;32mreturn\u001b[0m \u001b[0mf\u001b[0m\u001b[1;33m.\u001b[0m\u001b[0mresult\u001b[0m\u001b[1;33m(\u001b[0m\u001b[1;33m)\u001b[0m\u001b[1;33m\u001b[0m\u001b[1;33m\u001b[0m\u001b[0m\n\u001b[0m\u001b[0;32m     97\u001b[0m         \u001b[1;32mfinally\u001b[0m\u001b[1;33m:\u001b[0m\u001b[1;33m\u001b[0m\u001b[1;33m\u001b[0m\u001b[0m\n\u001b[0;32m     98\u001b[0m             \u001b[0mevents\u001b[0m\u001b[1;33m.\u001b[0m\u001b[0m_set_running_loop\u001b[0m\u001b[1;33m(\u001b[0m\u001b[0mold_running_loop\u001b[0m\u001b[1;33m)\u001b[0m\u001b[1;33m\u001b[0m\u001b[1;33m\u001b[0m\u001b[0m\n",
      "\u001b[1;32m~\\Anaconda3\\lib\\asyncio\\futures.py\u001b[0m in \u001b[0;36mresult\u001b[1;34m(self)\u001b[0m\n\u001b[0;32m    176\u001b[0m         \u001b[0mself\u001b[0m\u001b[1;33m.\u001b[0m\u001b[0m__log_traceback\u001b[0m \u001b[1;33m=\u001b[0m \u001b[1;32mFalse\u001b[0m\u001b[1;33m\u001b[0m\u001b[1;33m\u001b[0m\u001b[0m\n\u001b[0;32m    177\u001b[0m         \u001b[1;32mif\u001b[0m \u001b[0mself\u001b[0m\u001b[1;33m.\u001b[0m\u001b[0m_exception\u001b[0m \u001b[1;32mis\u001b[0m \u001b[1;32mnot\u001b[0m \u001b[1;32mNone\u001b[0m\u001b[1;33m:\u001b[0m\u001b[1;33m\u001b[0m\u001b[1;33m\u001b[0m\u001b[0m\n\u001b[1;32m--> 178\u001b[1;33m             \u001b[1;32mraise\u001b[0m \u001b[0mself\u001b[0m\u001b[1;33m.\u001b[0m\u001b[0m_exception\u001b[0m\u001b[1;33m\u001b[0m\u001b[1;33m\u001b[0m\u001b[0m\n\u001b[0m\u001b[0;32m    179\u001b[0m         \u001b[1;32mreturn\u001b[0m \u001b[0mself\u001b[0m\u001b[1;33m.\u001b[0m\u001b[0m_result\u001b[0m\u001b[1;33m\u001b[0m\u001b[1;33m\u001b[0m\u001b[0m\n\u001b[0;32m    180\u001b[0m \u001b[1;33m\u001b[0m\u001b[0m\n",
      "\u001b[1;32m~\\Anaconda3\\lib\\asyncio\\tasks.py\u001b[0m in \u001b[0;36m__step\u001b[1;34m(***failed resolving arguments***)\u001b[0m\n\u001b[0;32m    278\u001b[0m                 \u001b[1;31m# We use the `send` method directly, because coroutines\u001b[0m\u001b[1;33m\u001b[0m\u001b[1;33m\u001b[0m\u001b[1;33m\u001b[0m\u001b[0m\n\u001b[0;32m    279\u001b[0m                 \u001b[1;31m# don't have `__iter__` and `__next__` methods.\u001b[0m\u001b[1;33m\u001b[0m\u001b[1;33m\u001b[0m\u001b[1;33m\u001b[0m\u001b[0m\n\u001b[1;32m--> 280\u001b[1;33m                 \u001b[0mresult\u001b[0m \u001b[1;33m=\u001b[0m \u001b[0mcoro\u001b[0m\u001b[1;33m.\u001b[0m\u001b[0msend\u001b[0m\u001b[1;33m(\u001b[0m\u001b[1;32mNone\u001b[0m\u001b[1;33m)\u001b[0m\u001b[1;33m\u001b[0m\u001b[1;33m\u001b[0m\u001b[0m\n\u001b[0m\u001b[0;32m    281\u001b[0m             \u001b[1;32melse\u001b[0m\u001b[1;33m:\u001b[0m\u001b[1;33m\u001b[0m\u001b[1;33m\u001b[0m\u001b[0m\n\u001b[0;32m    282\u001b[0m                 \u001b[0mresult\u001b[0m \u001b[1;33m=\u001b[0m \u001b[0mcoro\u001b[0m\u001b[1;33m.\u001b[0m\u001b[0mthrow\u001b[0m\u001b[1;33m(\u001b[0m\u001b[0mexc\u001b[0m\u001b[1;33m)\u001b[0m\u001b[1;33m\u001b[0m\u001b[1;33m\u001b[0m\u001b[0m\n",
      "\u001b[1;32m~\\Anaconda3\\lib\\site-packages\\ib_insync\\ib.py\u001b[0m in \u001b[0;36mqualifyContractsAsync\u001b[1;34m(self, *contracts)\u001b[0m\n\u001b[0;32m   1672\u001b[0m     \u001b[1;32masync\u001b[0m \u001b[1;32mdef\u001b[0m \u001b[0mqualifyContractsAsync\u001b[0m\u001b[1;33m(\u001b[0m\u001b[0mself\u001b[0m\u001b[1;33m,\u001b[0m \u001b[1;33m*\u001b[0m\u001b[0mcontracts\u001b[0m\u001b[1;33m:\u001b[0m \u001b[0mContract\u001b[0m\u001b[1;33m)\u001b[0m \u001b[1;33m->\u001b[0m\u001b[0;31m \u001b[0m\u001b[0;31m\\\u001b[0m\u001b[1;33m\u001b[0m\u001b[1;33m\u001b[0m\u001b[0m\n\u001b[0;32m   1673\u001b[0m             \u001b[0mList\u001b[0m\u001b[1;33m[\u001b[0m\u001b[0mContract\u001b[0m\u001b[1;33m]\u001b[0m\u001b[1;33m:\u001b[0m\u001b[1;33m\u001b[0m\u001b[1;33m\u001b[0m\u001b[0m\n\u001b[1;32m-> 1674\u001b[1;33m         detailsLists = await asyncio.gather(\n\u001b[0m\u001b[0;32m   1675\u001b[0m             *(self.reqContractDetailsAsync(c) for c in contracts))\n\u001b[0;32m   1676\u001b[0m         \u001b[0mresult\u001b[0m \u001b[1;33m=\u001b[0m \u001b[1;33m[\u001b[0m\u001b[1;33m]\u001b[0m\u001b[1;33m\u001b[0m\u001b[1;33m\u001b[0m\u001b[0m\n",
      "\u001b[1;32m~\\Anaconda3\\lib\\site-packages\\ib_insync\\ib.py\u001b[0m in \u001b[0;36m<genexpr>\u001b[1;34m(.0)\u001b[0m\n\u001b[0;32m   1673\u001b[0m             \u001b[0mList\u001b[0m\u001b[1;33m[\u001b[0m\u001b[0mContract\u001b[0m\u001b[1;33m]\u001b[0m\u001b[1;33m:\u001b[0m\u001b[1;33m\u001b[0m\u001b[1;33m\u001b[0m\u001b[0m\n\u001b[0;32m   1674\u001b[0m         detailsLists = await asyncio.gather(\n\u001b[1;32m-> 1675\u001b[1;33m             *(self.reqContractDetailsAsync(c) for c in contracts))\n\u001b[0m\u001b[0;32m   1676\u001b[0m         \u001b[0mresult\u001b[0m \u001b[1;33m=\u001b[0m \u001b[1;33m[\u001b[0m\u001b[1;33m]\u001b[0m\u001b[1;33m\u001b[0m\u001b[1;33m\u001b[0m\u001b[0m\n\u001b[0;32m   1677\u001b[0m         \u001b[1;32mfor\u001b[0m \u001b[0mcontract\u001b[0m\u001b[1;33m,\u001b[0m \u001b[0mdetailsList\u001b[0m \u001b[1;32min\u001b[0m \u001b[0mzip\u001b[0m\u001b[1;33m(\u001b[0m\u001b[0mcontracts\u001b[0m\u001b[1;33m,\u001b[0m \u001b[0mdetailsLists\u001b[0m\u001b[1;33m)\u001b[0m\u001b[1;33m:\u001b[0m\u001b[1;33m\u001b[0m\u001b[1;33m\u001b[0m\u001b[0m\n",
      "\u001b[1;32m~\\Anaconda3\\lib\\site-packages\\ib_insync\\ib.py\u001b[0m in \u001b[0;36mreqContractDetailsAsync\u001b[1;34m(self, contract)\u001b[0m\n\u001b[0;32m   1806\u001b[0m         \u001b[0mreqId\u001b[0m \u001b[1;33m=\u001b[0m \u001b[0mself\u001b[0m\u001b[1;33m.\u001b[0m\u001b[0mclient\u001b[0m\u001b[1;33m.\u001b[0m\u001b[0mgetReqId\u001b[0m\u001b[1;33m(\u001b[0m\u001b[1;33m)\u001b[0m\u001b[1;33m\u001b[0m\u001b[1;33m\u001b[0m\u001b[0m\n\u001b[0;32m   1807\u001b[0m         \u001b[0mfuture\u001b[0m \u001b[1;33m=\u001b[0m \u001b[0mself\u001b[0m\u001b[1;33m.\u001b[0m\u001b[0mwrapper\u001b[0m\u001b[1;33m.\u001b[0m\u001b[0mstartReq\u001b[0m\u001b[1;33m(\u001b[0m\u001b[0mreqId\u001b[0m\u001b[1;33m,\u001b[0m \u001b[0mcontract\u001b[0m\u001b[1;33m)\u001b[0m\u001b[1;33m\u001b[0m\u001b[1;33m\u001b[0m\u001b[0m\n\u001b[1;32m-> 1808\u001b[1;33m         \u001b[0mself\u001b[0m\u001b[1;33m.\u001b[0m\u001b[0mclient\u001b[0m\u001b[1;33m.\u001b[0m\u001b[0mreqContractDetails\u001b[0m\u001b[1;33m(\u001b[0m\u001b[0mreqId\u001b[0m\u001b[1;33m,\u001b[0m \u001b[0mcontract\u001b[0m\u001b[1;33m)\u001b[0m\u001b[1;33m\u001b[0m\u001b[1;33m\u001b[0m\u001b[0m\n\u001b[0m\u001b[0;32m   1809\u001b[0m         \u001b[1;32mreturn\u001b[0m \u001b[0mfuture\u001b[0m\u001b[1;33m\u001b[0m\u001b[1;33m\u001b[0m\u001b[0m\n\u001b[0;32m   1810\u001b[0m \u001b[1;33m\u001b[0m\u001b[0m\n",
      "\u001b[1;32m~\\Anaconda3\\lib\\site-packages\\ib_insync\\client.py\u001b[0m in \u001b[0;36mreqContractDetails\u001b[1;34m(self, reqId, contract)\u001b[0m\n\u001b[0;32m    630\u001b[0m     \u001b[1;32mdef\u001b[0m \u001b[0mreqContractDetails\u001b[0m\u001b[1;33m(\u001b[0m\u001b[0mself\u001b[0m\u001b[1;33m,\u001b[0m \u001b[0mreqId\u001b[0m\u001b[1;33m,\u001b[0m \u001b[0mcontract\u001b[0m\u001b[1;33m)\u001b[0m\u001b[1;33m:\u001b[0m\u001b[1;33m\u001b[0m\u001b[1;33m\u001b[0m\u001b[0m\n\u001b[0;32m    631\u001b[0m         self.send(\n\u001b[1;32m--> 632\u001b[1;33m             \u001b[1;36m9\u001b[0m\u001b[1;33m,\u001b[0m \u001b[1;36m8\u001b[0m\u001b[1;33m,\u001b[0m \u001b[0mreqId\u001b[0m\u001b[1;33m,\u001b[0m \u001b[0mcontract\u001b[0m\u001b[1;33m,\u001b[0m \u001b[0mcontract\u001b[0m\u001b[1;33m.\u001b[0m\u001b[0mincludeExpired\u001b[0m\u001b[1;33m,\u001b[0m\u001b[1;33m\u001b[0m\u001b[1;33m\u001b[0m\u001b[0m\n\u001b[0m\u001b[0;32m    633\u001b[0m             contract.secIdType, contract.secId)\n\u001b[0;32m    634\u001b[0m \u001b[1;33m\u001b[0m\u001b[0m\n",
      "\u001b[1;31mAttributeError\u001b[0m: 'list' object has no attribute 'includeExpired'"
     ]
    }
   ],
   "source": [
    "from ib_insync import *\n",
    "util.startLoop()\n",
    "\n",
    "# create a new IB object\n",
    "ib = IB()\n",
    "\n",
    "# connect to the TWS or Gateway\n",
    "ib.connect('127.0.0.1', 7497, clientId=13)\n",
    "\n",
    "# create a list of contracts\n",
    "contract1 = Crypto('BTC', exchange='PAXOS', currency='USD')\n",
    "contract2 = Crypto('ETH', exchange='PAXOS', currency='USD')\n",
    "contracts = [contract1, contract2]\n",
    "\n",
    "# contract1 = Future('NQ', '20230317', 'CME')\n",
    "# contract2 = Future('ES', '20230317', 'CME')\n",
    "# contract_lst = [contract1, contract2]\n",
    "\n",
    "\n",
    "# contracts = [\n",
    "#     Forex('BTCUSD'),\n",
    "#     Forex('ETHUSD')\n",
    "# ]\n",
    "\n",
    "\n",
    "# qualify the contracts\n",
    "qualified_contracts = ib.qualifyContracts(contracts)\n",
    "\n",
    "market_data = {contract.symbol: [] for contract in qualified_contracts}\n",
    "\n",
    "# create a Ticker list and add the contracts to it\n",
    "ticker_list = [Ticker(ib, contract) for contract in qualified_contracts]\n",
    "\n",
    "# ticker_list = contract_lst\n",
    "\n",
    "# request market data for all the contracts in the ticker list\n",
    "ib.reqMarketDataType(3)  # Real-time market data\n",
    "for ticker in ticker_list:\n",
    "    ib.reqMktData(ticker.contract, '', False, False)\n",
    "    \n",
    "# for ticker in ticker_list:\n",
    "#     ib.reqMktData(ticker, '', False, False)\n",
    "    \n",
    "\n",
    "# receive and process the market data\n",
    "while True:\n",
    "    ib.sleep(0.01)  # wait for 10 milliseconds\n",
    "    if all(ticker.marketData() for ticker in ticker_list):\n",
    "        for ticker in ticker_list:\n",
    "            market_data[ticker.contract.symbol].append(ticker.marketData())\n",
    "        break\n",
    "\n",
    "# create a pandas DataFrame with columns for each contract\n",
    "df = pd.DataFrame(market_data)\n",
    "\n",
    "# disconnect from the TWS or Gateway\n",
    "ib.disconnect()\n"
   ]
  },
  {
   "cell_type": "code",
   "execution_count": 31,
   "metadata": {},
   "outputs": [
    {
     "data": {
      "text/plain": [
       "[Ticker(contract=<IB connected to 127.0.0.1:7497 clientId=7>, time=Crypto(conId=479624278, symbol='BTC', exchange='PAXOS', currency='USD', localSymbol='BTC.USD', tradingClass='BTC')),\n",
       " Ticker(contract=<IB connected to 127.0.0.1:7497 clientId=7>, time=Crypto(conId=495759171, symbol='ETH', exchange='PAXOS', currency='USD', localSymbol='ETH.USD', tradingClass='ETH'))]"
      ]
     },
     "execution_count": 31,
     "metadata": {},
     "output_type": "execute_result"
    }
   ],
   "source": [
    "ticker_list"
   ]
  },
  {
   "cell_type": "code",
   "execution_count": 38,
   "metadata": {},
   "outputs": [
    {
     "ename": "AttributeError",
     "evalue": "'IB' object has no attribute 'secType'",
     "output_type": "error",
     "traceback": [
      "\u001b[1;31m---------------------------------------------------------------------------\u001b[0m",
      "\u001b[1;31mAttributeError\u001b[0m                            Traceback (most recent call last)",
      "\u001b[1;32m<ipython-input-38-ac341e0ffb74>\u001b[0m in \u001b[0;36m<module>\u001b[1;34m\u001b[0m\n\u001b[1;32m----> 1\u001b[1;33m \u001b[0mticker_list\u001b[0m\u001b[1;33m[\u001b[0m\u001b[1;36m0\u001b[0m\u001b[1;33m]\u001b[0m\u001b[1;33m.\u001b[0m\u001b[0mcontract\u001b[0m\u001b[1;33m.\u001b[0m\u001b[0msecType\u001b[0m\u001b[1;33m\u001b[0m\u001b[1;33m\u001b[0m\u001b[0m\n\u001b[0m",
      "\u001b[1;31mAttributeError\u001b[0m: 'IB' object has no attribute 'secType'"
     ]
    }
   ],
   "source": [
    "ticker_list[0].contract.secType"
   ]
  },
  {
   "cell_type": "code",
   "execution_count": 26,
   "metadata": {},
   "outputs": [
    {
     "data": {
      "text/plain": [
       "'CRYPTO'"
      ]
     },
     "execution_count": 26,
     "metadata": {},
     "output_type": "execute_result"
    }
   ],
   "source": [
    "qualified_contracts[0].secType"
   ]
  },
  {
   "cell_type": "code",
   "execution_count": 14,
   "metadata": {},
   "outputs": [
    {
     "data": {
      "text/plain": [
       "Ticker(contract=<IB connected to 127.0.0.1:7497 clientId=1>, time=Crypto(conId=479624278, symbol='BTC', exchange='PAXOS', currency='USD', localSymbol='BTC.USD', tradingClass='BTC'))"
      ]
     },
     "execution_count": 14,
     "metadata": {},
     "output_type": "execute_result"
    }
   ],
   "source": [
    "Ticker(ib, qualified_contracts[0])"
   ]
  },
  {
   "cell_type": "code",
   "execution_count": 79,
   "metadata": {},
   "outputs": [],
   "source": [
    "import pandas as pd\n",
    "from ib_insync import *\n",
    "util.startLoop()\n",
    "\n",
    "# create a new IB object\n",
    "ib = IB()\n",
    "\n",
    "# connect to the TWS or Gateway\n",
    "ib.connect('127.0.0.1', 7497, clientId=24)\n",
    "\n",
    "# create a list of contracts\n",
    "contract1 = Crypto('BTC', exchange='PAXOS', currency='USD')\n",
    "contract2 = Crypto('ETH', exchange='PAXOS', currency='USD')\n",
    "contracts = [contract1, contract2]\n",
    "\n",
    "# contract1 = Future('NQ', '20230317', 'CME')\n",
    "# contract2 = Future('ES', '20230317', 'CME')\n",
    "# contracts = [contract1, contract2]\n",
    "\n",
    "# contracts = [\n",
    "#     Crypto('BTC'),\n",
    "#     Crypto('ETH')\n",
    "# ]\n",
    "\n",
    "# qualify the contracts\n",
    "qualified_contracts = ib.qualifyContracts(*contracts)\n",
    "\n",
    "# create a dictionary to hold the market data for each contract\n",
    "market_data = {contract.symbol: [] for contract in qualified_contracts}\n",
    "\n",
    "# create a Ticker list and add the contracts to it\n",
    "ticker_list = [Ticker(contract) for contract in qualified_contracts]\n",
    "\n",
    "# request market data for all the contracts in the ticker list\n",
    "ib.reqMarketDataType(1)  # Real-time market data\n",
    "for ticker in ticker_list:\n",
    "    ib.reqMktData(ticker.contract, '', False, False)\n",
    "\n",
    "# receive and process the market data\n",
    "while True:\n",
    "    ib.sleep(1)  # wait for 10 milliseconds\n",
    "    if all(ticker.marketPrice() for ticker in ticker_list):\n",
    "        for ticker in ticker_list:\n",
    "            market_data[ticker.contract.symbol].append(ticker.marketPrice())\n",
    "        break\n",
    "\n",
    "# create a pandas DataFrame with columns for each contract\n",
    "df = pd.DataFrame(market_data)\n",
    "\n",
    "# disconnect from the TWS or Gateway\n",
    "ib.disconnect()\n"
   ]
  },
  {
   "cell_type": "code",
   "execution_count": 81,
   "metadata": {},
   "outputs": [
    {
     "data": {
      "text/html": [
       "<div>\n",
       "<style scoped>\n",
       "    .dataframe tbody tr th:only-of-type {\n",
       "        vertical-align: middle;\n",
       "    }\n",
       "\n",
       "    .dataframe tbody tr th {\n",
       "        vertical-align: top;\n",
       "    }\n",
       "\n",
       "    .dataframe thead th {\n",
       "        text-align: right;\n",
       "    }\n",
       "</style>\n",
       "<table border=\"1\" class=\"dataframe\">\n",
       "  <thead>\n",
       "    <tr style=\"text-align: right;\">\n",
       "      <th></th>\n",
       "      <th>BTC</th>\n",
       "      <th>ETH</th>\n",
       "    </tr>\n",
       "  </thead>\n",
       "  <tbody>\n",
       "    <tr>\n",
       "      <th>0</th>\n",
       "      <td>NaN</td>\n",
       "      <td>NaN</td>\n",
       "    </tr>\n",
       "  </tbody>\n",
       "</table>\n",
       "</div>"
      ],
      "text/plain": [
       "   BTC  ETH\n",
       "0  NaN  NaN"
      ]
     },
     "execution_count": 81,
     "metadata": {},
     "output_type": "execute_result"
    }
   ],
   "source": [
    "df"
   ]
  },
  {
   "cell_type": "code",
   "execution_count": 67,
   "metadata": {},
   "outputs": [
    {
     "data": {
      "text/plain": [
       "\u001b[1;31mSignature:\u001b[0m \u001b[0mib\u001b[0m\u001b[1;33m.\u001b[0m\u001b[0mreqMarketDataType\u001b[0m\u001b[1;33m(\u001b[0m\u001b[0mmarketDataType\u001b[0m\u001b[1;33m:\u001b[0m \u001b[0mint\u001b[0m\u001b[1;33m)\u001b[0m\u001b[1;33m\u001b[0m\u001b[1;33m\u001b[0m\u001b[0m\n",
       "\u001b[1;31mDocstring:\u001b[0m\n",
       "Set the market data type used for :meth:`.reqMktData`.\n",
       "\n",
       "Args:\n",
       "    marketDataType: One of:\n",
       "\n",
       "        * 1 = Live\n",
       "        * 2 = Frozen\n",
       "        * 3 = Delayed\n",
       "        * 4 = Delayed frozen\n",
       "\n",
       "https://interactivebrokers.github.io/tws-api/market_data_type.html\n",
       "\u001b[1;31mFile:\u001b[0m      c:\\users\\kushwaha\\anaconda3\\lib\\site-packages\\ib_insync\\ib.py\n",
       "\u001b[1;31mType:\u001b[0m      method\n"
      ]
     },
     "metadata": {},
     "output_type": "display_data"
    }
   ],
   "source": [
    "ib.reqMarketDataType?"
   ]
  },
  {
   "cell_type": "code",
   "execution_count": 82,
   "metadata": {},
   "outputs": [
    {
     "data": {
      "text/plain": [
       "\u001b[1;31mSignature:\u001b[0m\n",
       "\u001b[0mib\u001b[0m\u001b[1;33m.\u001b[0m\u001b[0mreqMktData\u001b[0m\u001b[1;33m(\u001b[0m\u001b[1;33m\n",
       "\u001b[0m    \u001b[0mcontract\u001b[0m\u001b[1;33m:\u001b[0m \u001b[0mib_insync\u001b[0m\u001b[1;33m.\u001b[0m\u001b[0mcontract\u001b[0m\u001b[1;33m.\u001b[0m\u001b[0mContract\u001b[0m\u001b[1;33m,\u001b[0m\u001b[1;33m\n",
       "\u001b[0m    \u001b[0mgenericTickList\u001b[0m\u001b[1;33m:\u001b[0m \u001b[0mstr\u001b[0m \u001b[1;33m=\u001b[0m \u001b[1;34m''\u001b[0m\u001b[1;33m,\u001b[0m\u001b[1;33m\n",
       "\u001b[0m    \u001b[0msnapshot\u001b[0m\u001b[1;33m:\u001b[0m \u001b[0mbool\u001b[0m \u001b[1;33m=\u001b[0m \u001b[1;32mFalse\u001b[0m\u001b[1;33m,\u001b[0m\u001b[1;33m\n",
       "\u001b[0m    \u001b[0mregulatorySnapshot\u001b[0m\u001b[1;33m:\u001b[0m \u001b[0mbool\u001b[0m \u001b[1;33m=\u001b[0m \u001b[1;32mFalse\u001b[0m\u001b[1;33m,\u001b[0m\u001b[1;33m\n",
       "\u001b[0m    \u001b[0mmktDataOptions\u001b[0m\u001b[1;33m:\u001b[0m \u001b[0mList\u001b[0m\u001b[1;33m[\u001b[0m\u001b[0mib_insync\u001b[0m\u001b[1;33m.\u001b[0m\u001b[0mcontract\u001b[0m\u001b[1;33m.\u001b[0m\u001b[0mTagValue\u001b[0m\u001b[1;33m]\u001b[0m \u001b[1;33m=\u001b[0m \u001b[1;32mNone\u001b[0m\u001b[1;33m,\u001b[0m\u001b[1;33m\n",
       "\u001b[0m\u001b[1;33m)\u001b[0m \u001b[1;33m->\u001b[0m \u001b[0mib_insync\u001b[0m\u001b[1;33m.\u001b[0m\u001b[0mticker\u001b[0m\u001b[1;33m.\u001b[0m\u001b[0mTicker\u001b[0m\u001b[1;33m\u001b[0m\u001b[1;33m\u001b[0m\u001b[0m\n",
       "\u001b[1;31mDocstring:\u001b[0m\n",
       "Subscribe to tick data or request a snapshot.\n",
       "Returns the Ticker that holds the market data. The ticker will\n",
       "initially be empty and gradually (after a couple of seconds)\n",
       "be filled.\n",
       "\n",
       "https://interactivebrokers.github.io/tws-api/md_request.html\n",
       "\n",
       "Args:\n",
       "    contract: Contract of interest.\n",
       "    genericTickList: Comma separated IDs of desired\n",
       "        generic ticks that will cause corresponding Ticker fields\n",
       "        to be filled:\n",
       "\n",
       "        =====  ================================================\n",
       "        ID     Ticker fields\n",
       "        =====  ================================================\n",
       "        100    ``putVolume``, ``callVolume`` (for options)\n",
       "        101    ``putOpenInterest``, ``callOpenInterest`` (for options)\n",
       "        104    ``histVolatility`` (for options)\n",
       "        105    ``avOptionVolume`` (for options)\n",
       "        106    ``impliedVolatility`` (for options)\n",
       "        162    ``indexFuturePremium``\n",
       "        165    ``low13week``, ``high13week``, ``low26week``,\n",
       "               ``high26week``, ``low52week``, ``high52week``,\n",
       "               ``avVolume``\n",
       "        221    ``markPrice``\n",
       "        225    ``auctionVolume``, ``auctionPrice``,\n",
       "               ``auctionImbalance``\n",
       "        233    ``last``, ``lastSize``, ``rtVolume``, ``rtTime``,\n",
       "               ``vwap`` (Time & Sales)\n",
       "        236    ``shortableShares``\n",
       "        258    ``fundamentalRatios`` (of type\n",
       "               :class:`ib_insync.objects.FundamentalRatios`)\n",
       "        293    ``tradeCount``\n",
       "        294    ``tradeRate``\n",
       "        295    ``volumeRate``\n",
       "        375    ``rtTradeVolume``\n",
       "        411    ``rtHistVolatility``\n",
       "        456    ``dividends`` (of type\n",
       "               :class:`ib_insync.objects.Dividends`)\n",
       "        588    ``futuresOpenInterest``\n",
       "        =====  ================================================\n",
       "\n",
       "    snapshot: If True then request a one-time snapshot, otherwise\n",
       "        subscribe to a stream of realtime tick data.\n",
       "    regulatorySnapshot: Request NBBO snapshot (may incur a fee).\n",
       "    mktDataOptions: Unknown\n",
       "\u001b[1;31mFile:\u001b[0m      c:\\users\\kushwaha\\anaconda3\\lib\\site-packages\\ib_insync\\ib.py\n",
       "\u001b[1;31mType:\u001b[0m      method\n"
      ]
     },
     "metadata": {},
     "output_type": "display_data"
    }
   ],
   "source": [
    "ib.reqMktData?"
   ]
  },
  {
   "cell_type": "code",
   "execution_count": 84,
   "metadata": {},
   "outputs": [
    {
     "data": {
      "text/plain": [
       "Ticker(contract=Crypto(symbol='BTC', exchange='PAXOS', currency='USD'))"
      ]
     },
     "execution_count": 84,
     "metadata": {},
     "output_type": "execute_result"
    }
   ],
   "source": [
    "ib = IB()\n",
    "# connect to the TWS or Gateway\n",
    "ib.connect('127.0.0.1', 7497, clientId=25)\n",
    "contract = Crypto('BTC', exchange='PAXOS', currency='USD')\n",
    "ib.reqMktData(contract, '', False, False)"
   ]
  },
  {
   "cell_type": "code",
   "execution_count": 90,
   "metadata": {},
   "outputs": [
    {
     "name": "stdout",
     "output_type": "stream",
     "text": [
      "nan\n"
     ]
    }
   ],
   "source": [
    "from ib_insync import *\n",
    "\n",
    "# create a new IB object\n",
    "ib = IB()\n",
    "\n",
    "# connect to the TWS or Gateway\n",
    "ib.connect('127.0.0.1', 7497, clientId=30)\n",
    "\n",
    "# create a contract for AAPL\n",
    "contract = Crypto('BTC', exchange='PAXOS', currency='USD')\n",
    "\n",
    "# qualify the contract\n",
    "ib.qualifyContracts(contract)\n",
    "\n",
    "# request real-time market data for the contract\n",
    "ib.reqMarketDataType(3)  # Real-time market data\n",
    "ticker = ib.reqMktData(contract, '', False, False)\n",
    "\n",
    "# wait for the ticker to receive market data updates\n",
    "while not ticker.marketPrice():\n",
    "    ib.sleep(0.1)\n",
    "\n",
    "# print the current market price of the contract\n",
    "print(ticker.marketPrice())\n",
    "\n",
    "# disconnect from the TWS or Gateway\n",
    "ib.disconnect()\n"
   ]
  },
  {
   "cell_type": "code",
   "execution_count": null,
   "metadata": {},
   "outputs": [
    {
     "name": "stdout",
     "output_type": "stream",
     "text": [
      "{'BTC': [], 'ETH': []}\n",
      "{'BTC': [], 'ETH': []}\n"
     ]
    }
   ],
   "source": [
    "\n",
    "\n",
    "# create a new IB object\n",
    "ib = IB()\n",
    "\n",
    "# connect to the TWS or Gateway\n",
    "ib.connect('127.0.0.1', 7497, clientId=1)\n",
    "\n",
    "# create a list of contracts\n",
    "contract1 = Crypto('BTC', exchange='PAXOS', currency='USD')\n",
    "contract2 = Crypto('ETH', exchange='PAXOS', currency='USD')\n",
    "contracts = [contract1, contract2]\n",
    "\n",
    "# contracts = [\n",
    "#     Crypto('BTC'),\n",
    "#     Crypto('ETH')\n",
    "# ]\n",
    "\n",
    "# qualify the contracts\n",
    "qualified_contracts = ib.qualifyContracts(*contracts)\n",
    "\n",
    "# create a dictionary to hold the market data for each contract\n",
    "market_data = {contract.symbol: [] for contract in qualified_contracts}\n",
    "print(market_data)\n",
    "# create a dictionary to hold the BarDataList objects for each contract\n",
    "bar_data = {contract.symbol: BarDataList() for contract in qualified_contracts}\n",
    "print(bar_data)\n",
    "# request real-time bar data for all the contracts\n",
    "ib.reqMarketDataType(1)  # Real-time market data\n",
    "for contract in qualified_contracts:\n",
    "    ib.reqRealTimeBars(contract, 5, 'TRADES', False)\n",
    "\n",
    "# receive and process the real-time bar data\n",
    "while True:\n",
    "    ib.sleep(0.01)  # wait for 10 milliseconds\n",
    "    if all(len(bar_data[contract.symbol]) > 0 for contract in qualified_contracts):\n",
    "        for contract in qualified_contracts:\n",
    "            bars = bar_data[contract.symbol][-1]\n",
    "            market_data[contract.symbol].append(bars.close)\n",
    "            print(market_data)\n",
    "        break\n",
    "\n",
    "# create a pandas DataFrame with columns for each contract\n",
    "df = pd.DataFrame(market_data)\n",
    "\n",
    "# disconnect from the TWS or Gateway\n",
    "ib.disconnect()\n"
   ]
  },
  {
   "cell_type": "code",
   "execution_count": null,
   "metadata": {},
   "outputs": [],
   "source": [
    "ib.disconnect()"
   ]
  },
  {
   "cell_type": "code",
   "execution_count": 3,
   "metadata": {},
   "outputs": [
    {
     "ename": "NameError",
     "evalue": "name 'bar_data' is not defined",
     "output_type": "error",
     "traceback": [
      "\u001b[1;31m---------------------------------------------------------------------------\u001b[0m",
      "\u001b[1;31mNameError\u001b[0m                                 Traceback (most recent call last)",
      "\u001b[1;32m<ipython-input-3-1753649d1bc2>\u001b[0m in \u001b[0;36m<module>\u001b[1;34m\u001b[0m\n\u001b[1;32m----> 1\u001b[1;33m \u001b[0mprint\u001b[0m\u001b[1;33m(\u001b[0m\u001b[0mbar_data\u001b[0m\u001b[1;33m)\u001b[0m\u001b[1;33m\u001b[0m\u001b[1;33m\u001b[0m\u001b[0m\n\u001b[0m",
      "\u001b[1;31mNameError\u001b[0m: name 'bar_data' is not defined"
     ]
    }
   ],
   "source": [
    "print(bar_data)"
   ]
  },
  {
   "cell_type": "code",
   "execution_count": null,
   "metadata": {},
   "outputs": [],
   "source": []
  }
 ],
 "metadata": {
  "kernelspec": {
   "display_name": "Python 3",
   "language": "python",
   "name": "python3"
  },
  "language_info": {
   "codemirror_mode": {
    "name": "ipython",
    "version": 3
   },
   "file_extension": ".py",
   "mimetype": "text/x-python",
   "name": "python",
   "nbconvert_exporter": "python",
   "pygments_lexer": "ipython3",
   "version": "3.8.5"
  }
 },
 "nbformat": 4,
 "nbformat_minor": 4
}
