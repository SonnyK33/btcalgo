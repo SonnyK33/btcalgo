{
 "cells": [
  {
   "cell_type": "code",
   "execution_count": 2,
   "metadata": {},
   "outputs": [
    {
     "name": "stdout",
     "output_type": "stream",
     "text": [
      "Collecting ib_insync\n",
      "  Using cached ib_insync-0.9.70-py3-none-any.whl (70 kB)\n",
      "Collecting eventkit\n",
      "  Using cached eventkit-0.8.9-py3-none-any.whl (31 kB)\n",
      "Requirement already satisfied: nest-asyncio in c:\\users\\kushwaha\\anaconda3\\lib\\site-packages (from ib_insync) (1.4.2)\n",
      "Requirement already satisfied: numpy in c:\\users\\kushwaha\\anaconda3\\lib\\site-packages (from eventkit->ib_insync) (1.19.2)\n",
      "Installing collected packages: eventkit, ib-insync\n",
      "Successfully installed eventkit-0.8.9 ib-insync-0.9.70\n",
      "Note: you may need to restart the kernel to use updated packages.\n"
     ]
    }
   ],
   "source": [
    "# %pip install ib_insync"
   ]
  },
  {
   "cell_type": "code",
   "execution_count": 5,
   "metadata": {},
   "outputs": [
    {
     "name": "stdout",
     "output_type": "stream",
     "text": [
      "Requirement already satisfied: nest_asyncio in c:\\users\\kushwaha\\anaconda3\\lib\\site-packages (1.4.2)Note: you may need to restart the kernel to use updated packages.\n",
      "\n"
     ]
    }
   ],
   "source": [
    "# %pip install nest_asyncio"
   ]
  },
  {
   "cell_type": "code",
   "execution_count": 1,
   "metadata": {},
   "outputs": [
    {
     "name": "stdout",
     "output_type": "stream",
     "text": [
      "                  date       open       high        low      close  volume  \\\n",
      "0  2022-08-01 16:01:00  22956.125  23133.125  22943.875  23133.125    -1.0   \n",
      "1  2022-08-01 17:00:00  23133.125  23141.375  23009.000  23027.750    -1.0   \n",
      "2  2022-08-01 18:00:00  23027.750  23203.875  22934.375  23179.875    -1.0   \n",
      "3  2022-08-01 19:00:00  23179.875  23418.625  23179.875  23280.375    -1.0   \n",
      "4  2022-08-01 20:00:00  23280.375  23452.125  23177.000  23194.375    -1.0   \n",
      "5  2022-08-01 21:00:00  23194.375  23239.375  22960.250  23004.875    -1.0   \n",
      "6  2022-08-01 22:00:00  23004.875  23076.375  22843.250  22912.625    -1.0   \n",
      "7  2022-08-01 23:00:00  22912.625  22927.125  22805.625  22855.125    -1.0   \n",
      "8  2022-08-02 00:00:00  22855.125  22902.375  22769.375  22873.375    -1.0   \n",
      "9  2022-08-02 01:00:00  22873.375  22910.875  22857.375  22860.125    -1.0   \n",
      "10 2022-08-02 02:00:00  22860.125  22933.875  22860.125  22890.875    -1.0   \n",
      "11 2022-08-02 03:00:00  22890.875  22916.375  22741.125  22899.875    -1.0   \n",
      "12 2022-08-02 04:00:00  22899.875  22915.875  22805.875  22824.875    -1.0   \n",
      "13 2022-08-02 05:00:00  22824.875  22844.125  22667.125  22719.375    -1.0   \n",
      "14 2022-08-02 06:00:00  22719.375  22869.875  22700.125  22859.125    -1.0   \n",
      "15 2022-08-02 07:00:00  22859.125  22974.375  22854.375  22894.375    -1.0   \n",
      "16 2022-08-02 08:00:00  22894.375  22913.125  22682.125  22744.625    -1.0   \n",
      "17 2022-08-02 09:00:00  22744.625  22885.875  22721.125  22808.625    -1.0   \n",
      "18 2022-08-02 10:00:00  22808.625  23151.875  22697.375  23026.625    -1.0   \n",
      "19 2022-08-02 11:00:00  23026.625  23096.875  22825.500  22984.625    -1.0   \n",
      "20 2022-08-02 12:00:00  22984.625  23455.625  22966.125  23386.875    -1.0   \n",
      "21 2022-08-02 13:00:00  23386.875  23433.125  23163.500  23193.375    -1.0   \n",
      "22 2022-08-02 14:00:00  23193.375  23278.375  22971.500  22990.125    -1.0   \n",
      "23 2022-08-02 15:00:00  22990.125  23088.375  22882.125  22961.875    -1.0   \n",
      "24 2022-08-02 16:01:00  22964.125  23060.875  22919.625  23020.375    -1.0   \n",
      "25 2022-08-02 17:00:00  23020.375  23132.625  22960.125  23093.625    -1.0   \n",
      "26 2022-08-02 18:00:00  23093.625  23149.875  23037.125  23106.375    -1.0   \n",
      "27 2022-08-02 19:00:00  23106.375  23125.875  22944.125  22991.625    -1.0   \n",
      "28 2022-08-02 20:00:00  22991.625  23068.875  22757.375  22797.625    -1.0   \n",
      "29 2022-08-02 21:00:00  22797.625  22833.125  22701.375  22810.125    -1.0   \n",
      "30 2022-08-02 22:00:00  22810.125  22847.875  22752.125  22780.625    -1.0   \n",
      "31 2022-08-02 23:00:00  22780.625  22883.625  22777.500  22864.125    -1.0   \n",
      "32 2022-08-03 00:00:00  22864.125  22890.375  22841.625  22846.625    -1.0   \n",
      "33 2022-08-03 01:00:00  22846.625  22958.875  22822.375  22935.625    -1.0   \n",
      "34 2022-08-03 02:00:00  22935.625  23066.375  22935.625  23055.625    -1.0   \n",
      "35 2022-08-03 03:00:00  23055.625  23055.625  22979.250  22982.875    -1.0   \n",
      "36 2022-08-03 04:00:00  22982.875  23299.625  22982.875  23299.625    -1.0   \n",
      "37 2022-08-03 05:00:00  23299.625  23396.875  23295.500  23390.125    -1.0   \n",
      "38 2022-08-03 06:00:00  23390.125  23436.375  23353.375  23411.125    -1.0   \n",
      "39 2022-08-03 07:00:00  23411.125  23471.125  23313.375  23405.625    -1.0   \n",
      "40 2022-08-03 08:00:00  23405.625  23636.875  23261.125  23272.625    -1.0   \n",
      "41 2022-08-03 09:00:00  23272.625  23387.875  23244.000  23352.875    -1.0   \n",
      "42 2022-08-03 10:00:00  23352.875  23425.875  23227.375  23313.875    -1.0   \n",
      "43 2022-08-03 11:00:00  23313.875  23401.125  23281.625  23362.625    -1.0   \n",
      "44 2022-08-03 12:00:00  23362.625  23524.125  23276.125  23461.625    -1.0   \n",
      "45 2022-08-03 13:00:00  23461.625  23568.500  23426.625  23455.375    -1.0   \n",
      "46 2022-08-03 14:00:00  23455.375  23529.875  23377.875  23509.125    -1.0   \n",
      "47 2022-08-03 15:00:00  23509.125  23538.625  23438.375  23466.875    -1.0   \n",
      "48 2022-08-03 16:01:00  23462.625  23479.875  23266.375  23332.375    -1.0   \n",
      "49 2022-08-03 17:00:00  23332.375  23368.625  23270.125  23291.125    -1.0   \n",
      "50 2022-08-03 18:00:00  23291.125  23291.125  22905.375  22950.625    -1.0   \n",
      "51 2022-08-03 19:00:00  22950.625  22950.625  22749.000  22841.625    -1.0   \n",
      "52 2022-08-03 20:00:00  22841.625  23021.250  22817.125  23008.375    -1.0   \n",
      "\n",
      "    average  barCount  \n",
      "0      -1.0        -1  \n",
      "1      -1.0        -1  \n",
      "2      -1.0        -1  \n",
      "3      -1.0        -1  \n",
      "4      -1.0        -1  \n",
      "5      -1.0        -1  \n",
      "6      -1.0        -1  \n",
      "7      -1.0        -1  \n",
      "8      -1.0        -1  \n",
      "9      -1.0        -1  \n",
      "10     -1.0        -1  \n",
      "11     -1.0        -1  \n",
      "12     -1.0        -1  \n",
      "13     -1.0        -1  \n",
      "14     -1.0        -1  \n",
      "15     -1.0        -1  \n",
      "16     -1.0        -1  \n",
      "17     -1.0        -1  \n",
      "18     -1.0        -1  \n",
      "19     -1.0        -1  \n",
      "20     -1.0        -1  \n",
      "21     -1.0        -1  \n",
      "22     -1.0        -1  \n",
      "23     -1.0        -1  \n",
      "24     -1.0        -1  \n",
      "25     -1.0        -1  \n",
      "26     -1.0        -1  \n",
      "27     -1.0        -1  \n",
      "28     -1.0        -1  \n",
      "29     -1.0        -1  \n",
      "30     -1.0        -1  \n",
      "31     -1.0        -1  \n",
      "32     -1.0        -1  \n",
      "33     -1.0        -1  \n",
      "34     -1.0        -1  \n",
      "35     -1.0        -1  \n",
      "36     -1.0        -1  \n",
      "37     -1.0        -1  \n",
      "38     -1.0        -1  \n",
      "39     -1.0        -1  \n",
      "40     -1.0        -1  \n",
      "41     -1.0        -1  \n",
      "42     -1.0        -1  \n",
      "43     -1.0        -1  \n",
      "44     -1.0        -1  \n",
      "45     -1.0        -1  \n",
      "46     -1.0        -1  \n",
      "47     -1.0        -1  \n",
      "48     -1.0        -1  \n",
      "49     -1.0        -1  \n",
      "50     -1.0        -1  \n",
      "51     -1.0        -1  \n",
      "52     -1.0        -1  \n"
     ]
    }
   ],
   "source": [
    "from ib_insync import *\n",
    "util.startLoop()\n",
    "\n",
    "# import nest_asyncio\n",
    "# nest_asyncio.apply()\n",
    "\n",
    "\n",
    "ib = IB()\n",
    "# ib.disconnect()\n",
    "ib.connect('127.0.0.1', 7497, clientId=1)\n",
    "\n",
    "\n",
    "contract = Crypto('BTC', exchange='PAXOS', currency='USD')\n",
    "bars = ib.reqHistoricalData(\n",
    "    contract, endDateTime='', durationStr='3 D',\n",
    "    barSizeSetting='1 hour', whatToShow='MIDPOINT', useRTH=True)\n",
    "\n",
    "# convert to pandas dataframe:\n",
    "df = util.df(bars)\n",
    "print(df)\n"
   ]
  },
  {
   "cell_type": "code",
   "execution_count": 118,
   "metadata": {},
   "outputs": [
    {
     "data": {
      "text/plain": [
       "BarData(date=datetime.datetime(2022, 8, 2, 22, 0), open=22810.125, high=22836.625, low=22778.375, close=22828.375, volume=-1.0, average=-1.0, barCount=-1)"
      ]
     },
     "execution_count": 118,
     "metadata": {},
     "output_type": "execute_result"
    }
   ],
   "source": []
  },
  {
   "cell_type": "code",
   "execution_count": 52,
   "metadata": {},
   "outputs": [],
   "source": [
    "def GetMovingAverages(df, low, high):\n",
    "    df[str(low)+'_average'] = df.close.rolling(low).mean()\n",
    "    df[str(high)+'_average'] = df.close.rolling(high).mean()\n",
    "    df2 = df.dropna()\n",
    "    df2['MA_diff'] = df[str(high)+'_average'] > df[str(low)+'_average']\n",
    "    return df2\n",
    "    \n",
    "    "
   ]
  },
  {
   "cell_type": "code",
   "execution_count": 111,
   "metadata": {},
   "outputs": [
    {
     "name": "stderr",
     "output_type": "stream",
     "text": [
      "<ipython-input-52-7184740e6041>:5: SettingWithCopyWarning: \n",
      "A value is trying to be set on a copy of a slice from a DataFrame.\n",
      "Try using .loc[row_indexer,col_indexer] = value instead\n",
      "\n",
      "See the caveats in the documentation: https://pandas.pydata.org/pandas-docs/stable/user_guide/indexing.html#returning-a-view-versus-a-copy\n",
      "  df2['MA_diff'] = df[str(high)+'_average'] > df[str(low)+'_average']\n"
     ]
    }
   ],
   "source": [
    "df_MA =  GetMovingAverages(df, 5, 10)"
   ]
  },
  {
   "cell_type": "code",
   "execution_count": 112,
   "metadata": {},
   "outputs": [
    {
     "data": {
      "text/plain": [
       "<AxesSubplot:>"
      ]
     },
     "execution_count": 112,
     "metadata": {},
     "output_type": "execute_result"
    },
    {
     "data": {
      "image/png": "[encoded data removed]",
      "text/plain": [
       "<Figure size 432x288 with 1 Axes>"
      ]
     },
     "metadata": {
      "needs_background": "light"
     },
     "output_type": "display_data"
    }
   ],
   "source": [
    "df_MA['close'].plot(legend=True)\n",
    "df_MA['5_average'].plot(legend=True)\n",
    "df_MA['10_average'].plot(legend=True)"
   ]
  },
  {
   "cell_type": "code",
   "execution_count": 102,
   "metadata": {},
   "outputs": [],
   "source": [
    "\n",
    "def PlaceOrder(order_type, USD_balance, BTC_balance, price=None, quantity=None):\n",
    "        \n",
    "    if order_type=='sell':\n",
    "        print('{} @ {}'.format(order_type, price))\n",
    "        BTC_balance -= quantity\n",
    "        USD_balance += quantity * price\n",
    "    \n",
    "    elif order_type=='buy':\n",
    "        print('{} @ {}'.format(order_type, price))\n",
    "        BTC_balance += quantity\n",
    "        USD_balance -= quantity * price\n",
    "    \n",
    "    else:\n",
    "        return USD_balance, BTC_balance   \n",
    " \n",
    "        \n",
    "    print('USD balance: {}'.format(USD_balance))\n",
    "    print('BTC balance: {}'.format(BTC_balance))\n",
    "    account_balance = USD_balance + BTC_balance * price\n",
    "    print('Account balance: {}\\n'.format(account_balance))\n",
    "    \n",
    "    \n",
    "    return USD_balance, BTC_balance   \n",
    "    \n",
    "    \n",
    "    \n",
    "def GetSignals(df):\n",
    "    USD_balance = 1000\n",
    "    BTC_balance = 0\n",
    "    \n",
    "    for count, row in enumerate(df.iterrows()):\n",
    "        if count==0:\n",
    "            sentiment = row[1]['MA_diff']\n",
    "        else:\n",
    "            if row[1]['MA_diff'] == sentiment:\n",
    "                USD_balance, BTC_balance = PlaceOrder('no change', USD_balance, BTC_balance)\n",
    "            else:\n",
    "                if row[1]['MA_diff']:\n",
    "                    USD_balance, BTC_balance = PlaceOrder('sell', USD_balance, BTC_balance, row[1]['close'],1)\n",
    "                else:\n",
    "                    USD_balance, BTC_balance = PlaceOrder('buy', USD_balance, BTC_balance, row[1]['close'],1)\n",
    "                sentiment = row[1]['MA_diff']\n",
    "    print('USD balance: {}'.format(USD_balance))\n",
    "    print('BTC balance: {}'.format(BTC_balance))\n",
    "  \n",
    "    account_value = USD_balance + BTC_balance * row[1]['close']\n",
    "    print('Account value: {}'.format(account_value))\n",
    "    "
   ]
  },
  {
   "cell_type": "code",
   "execution_count": 113,
   "metadata": {},
   "outputs": [
    {
     "name": "stdout",
     "output_type": "stream",
     "text": [
      "buy @ 23338.875\n",
      "USD balance: -22338.875\n",
      "BTC balance: 1\n",
      "Account balance: 1000.0\n",
      "\n",
      "sell @ 22966.625\n",
      "USD balance: 627.75\n",
      "BTC balance: 0\n",
      "Account balance: 627.75\n",
      "\n",
      "buy @ 23194.375\n",
      "USD balance: -22566.625\n",
      "BTC balance: 1\n",
      "Account balance: 627.75\n",
      "\n",
      "sell @ 22855.125\n",
      "USD balance: 288.5\n",
      "BTC balance: 0\n",
      "Account balance: 288.5\n",
      "\n",
      "buy @ 23026.625\n",
      "USD balance: -22738.125\n",
      "BTC balance: 1\n",
      "Account balance: 288.5\n",
      "\n",
      "sell @ 23106.375\n",
      "USD balance: 368.25\n",
      "BTC balance: 0\n",
      "Account balance: 368.25\n",
      "\n",
      "USD balance: 368.25\n",
      "BTC balance: 0\n",
      "Account value: 368.25\n"
     ]
    }
   ],
   "source": [
    "GetSignals(df_MA)\n",
    "# df_MA"
   ]
  },
  {
   "cell_type": "code",
   "execution_count": 45,
   "metadata": {},
   "outputs": [],
   "source": [
    "def Backtest():\n",
    "    USD_balance = 1000\n",
    "    BTC_balance = 0\n",
    "    \n",
    "    "
   ]
  },
  {
   "cell_type": "code",
   "execution_count": 22,
   "metadata": {},
   "outputs": [
    {
     "ename": "IndentationError",
     "evalue": "expected an indented block (<ipython-input-22-5c27e25333b0>, line 36)",
     "output_type": "error",
     "traceback": [
      "\u001b[1;36m  File \u001b[1;32m\"<ipython-input-22-5c27e25333b0>\"\u001b[1;36m, line \u001b[1;32m36\u001b[0m\n\u001b[1;33m    def GetMovingAverages(self, df, low, high, plot=True):\u001b[0m\n\u001b[1;37m    ^\u001b[0m\n\u001b[1;31mIndentationError\u001b[0m\u001b[1;31m:\u001b[0m expected an indented block\n"
     ]
    }
   ],
   "source": [
    "from ib_insync import *\n",
    "from collections import deque\n",
    "util.startLoop()\n",
    "\n",
    "contract_dict = {'Stock':Stock, 'Crypto':Crypto}\n",
    "\n",
    "class Algo():\n",
    "    def __init__(self, client, addr, port, client_id):\n",
    "        self.client = client\n",
    "        self.addr = addr\n",
    "        self.port = port\n",
    "        self.client_id = client_id\n",
    "        \n",
    "        self.client.connect(addr, port, client_id)\n",
    "        \n",
    "    def SetPaperBalances(self):\n",
    "        self.USD_balance = 1000\n",
    "        self.BTC_balance = 0\n",
    "        \n",
    "        print('USD balance: {}'.format(self.USD_balance))\n",
    "        print('BTC balance: {}'.format(self.BTC_balance))\n",
    "    \n",
    "    def GetContract(self, contract_type, ticker, exchange, currency):\n",
    "        return contract_dict[contract_type](ticker, exchange, currency)\n",
    "    \n",
    "    def GetHistoricalData(self, contract, duration='1 D', bar_size='1 hour'):\n",
    "        bars = ib.reqHistoricalData(contract=contract, endDateTime='', durationStr=duration,\n",
    "                                    barSizeSetting=bar_size, whatToShow='MIDPOINT', useRTH=True)\n",
    "        return bars\n",
    "    \n",
    "    def BuildEMA(self, slow_period, fast_period):\n",
    "        \"\"\"using deques instead of dataframes\"\"\"\n",
    "        self.slow_ema = deque(maxlen=slow_period)\n",
    "        self.fast_ema = deque(maxlen=fast_period)\n",
    "        \n",
    "        \"\"\"need to employ scanner to pull in data\"\"\"\n",
    "        \n",
    "        \n",
    "    \n",
    "    \n",
    "    \n",
    "    \n",
    "    def GetMovingAverages(self, df, low, high, plot=True):\n",
    "        df[str(low)+'_average'] = df.close.rolling(low).mean()\n",
    "        df[str(high)+'_average'] = df.close.rolling(high).mean()\n",
    "        df.dropna(inplace=True)\n",
    "        df['MA_diff'] = df[str(high)+'_average'] > df[str(low)+'_average']\n",
    "        \n",
    "        if plot:\n",
    "            df['close'].plot(legend=True)\n",
    "            df[str(low)+'_average'].plot(legend=True)\n",
    "            df[str(high)+'_average'].plot(legend=True)\n",
    "        \n",
    "        return df\n",
    "    \n",
    "    \n",
    "    def PlacePaperOrder(self, order_type, price=None, quantity=None):\n",
    "\n",
    "        if order_type=='sell':\n",
    "            print('{} @ {}'.format(order_type, price))\n",
    "            self.BTC_balance -= quantity\n",
    "            self.USD_balance += quantity * price\n",
    "            \n",
    "\n",
    "        elif order_type=='buy':\n",
    "            print('{} @ {}'.format(order_type, price))\n",
    "            self.BTC_balance += quantity\n",
    "            self.USD_balance -= quantity * price\n",
    "\n",
    "        else:\n",
    "            return \n",
    "\n",
    "\n",
    "        print('USD balance: {}'.format(self.USD_balance))\n",
    "        print('BTC balance: {}'.format(self.BTC_balance))\n",
    "        account_balance = self.USD_balance + self.BTC_balance * price\n",
    "        print('Account balance: {}\\n'.format(account_balance))       \n",
    "\n",
    "    \n",
    "    \n",
    "    def RunStrategy(self, df):   \n",
    "\n",
    "        for count, row in enumerate(df.iterrows()):\n",
    "            if count==0:\n",
    "                sentiment = row[1]['MA_diff']\n",
    "            else:\n",
    "                if row[1]['MA_diff'] == sentiment:\n",
    "                    self.PlacePaperOrder('no change')\n",
    "                else:\n",
    "                    if row[1]['MA_diff']:\n",
    "                        self.PlacePaperOrder('sell',row[1]['close'],1)\n",
    "                    else:\n",
    "                        self.PlacePaperOrder('buy', row[1]['close'],1)\n",
    "                    sentiment = row[1]['MA_diff']\n",
    "\n",
    "\n",
    "def Main(client_id):\n",
    "    ib = IB()\n",
    "    algo = Algo(ib, '127.0.0.1', 7497, client_id=client_id)\n",
    "    \n",
    "    contract = algo.GetContract('Crypto','BTC', 'PAXOS', 'USD')\n",
    "#     contract = algo.GetContract('Stock','SPY', 'SMART', 'USD')\n",
    "    \n",
    "    bars = algo.GetHistoricalData(contract, '7 D', '1 hour')\n",
    "    \n",
    "    df = util.df(bars)\n",
    "    \n",
    "    algo.SetPaperBalances()\n",
    "    \n",
    "    df_MA =  algo.GetMovingAverages(df, 10, 30, True)\n",
    "    \n",
    "    algo.RunStrategy(df_MA)\n",
    "    \n",
    "    print('USD balance: {}'.format(algo.USD_balance))\n",
    "    print('BTC balance: {}'.format(algo.BTC_balance))\n",
    "\n",
    "    account_value = algo.USD_balance + algo.BTC_balance * bars[-1].close\n",
    "    print('Account value: {}'.format(account_value))\n",
    "    \n",
    "    "
   ]
  },
  {
   "cell_type": "code",
   "execution_count": 13,
   "metadata": {},
   "outputs": [
    {
     "name": "stdout",
     "output_type": "stream",
     "text": [
      "USD balance: 1000\n",
      "BTC balance: 0\n",
      "sell @ 23908.875\n",
      "USD balance: 24908.875\n",
      "BTC balance: -1\n",
      "Account balance: 1000.0\n",
      "\n",
      "buy @ 23020.375\n",
      "USD balance: 1888.5\n",
      "BTC balance: 0\n",
      "Account balance: 1888.5\n",
      "\n",
      "sell @ 22864.125\n",
      "USD balance: 24752.625\n",
      "BTC balance: -1\n",
      "Account balance: 1888.5\n",
      "\n",
      "buy @ 23390.125\n",
      "USD balance: 1362.5\n",
      "BTC balance: 0\n",
      "Account balance: 1362.5\n",
      "\n",
      "USD balance: 1362.5\n",
      "BTC balance: 0\n",
      "Account value: 1362.5\n"
     ]
    },
    {
     "data": {
      "image/png": "[encoded data removed]",
      "text/plain": [
       "<Figure size 432x288 with 1 Axes>"
      ]
     },
     "metadata": {
      "needs_background": "light"
     },
     "output_type": "display_data"
    }
   ],
   "source": [
    "Main(6)"
   ]
  },
  {
   "cell_type": "code",
   "execution_count": 14,
   "metadata": {},
   "outputs": [],
   "source": [
    "from collections import deque"
   ]
  },
  {
   "cell_type": "code",
   "execution_count": 17,
   "metadata": {},
   "outputs": [],
   "source": [
    "d = deque(maxlen=5)"
   ]
  },
  {
   "cell_type": "code",
   "execution_count": 19,
   "metadata": {},
   "outputs": [],
   "source": [
    "d.append(1)"
   ]
  },
  {
   "cell_type": "code",
   "execution_count": 21,
   "metadata": {},
   "outputs": [
    {
     "name": "stdout",
     "output_type": "stream",
     "text": [
      "deque([1, 0], maxlen=5)\n",
      "deque([1, 0, 1], maxlen=5)\n",
      "deque([1, 0, 1, 2], maxlen=5)\n",
      "deque([1, 0, 1, 2, 3], maxlen=5)\n",
      "deque([0, 1, 2, 3, 4], maxlen=5)\n",
      "deque([1, 2, 3, 4, 5], maxlen=5)\n",
      "deque([2, 3, 4, 5, 6], maxlen=5)\n",
      "deque([3, 4, 5, 6, 7], maxlen=5)\n",
      "deque([4, 5, 6, 7, 8], maxlen=5)\n",
      "deque([5, 6, 7, 8, 9], maxlen=5)\n"
     ]
    }
   ],
   "source": [
    "for i in range(10):\n",
    "    d.append(i)\n",
    "    print(d)"
   ]
  },
  {
   "cell_type": "code",
   "execution_count": null,
   "metadata": {},
   "outputs": [],
   "source": []
  }
 ],
 "metadata": {
  "kernelspec": {
   "display_name": "Python 3",
   "language": "python",
   "name": "python3"
  },
  "language_info": {
   "codemirror_mode": {
    "name": "ipython",
    "version": 3
   },
   "file_extension": ".py",
   "mimetype": "text/x-python",
   "name": "python",
   "nbconvert_exporter": "python",
   "pygments_lexer": "ipython3",
   "version": "3.8.5"
  }
 },
 "nbformat": 4,
 "nbformat_minor": 4
}
