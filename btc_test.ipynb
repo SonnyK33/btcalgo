{
 "cells": [
  {
   "cell_type": "code",
   "execution_count": 2,
   "metadata": {},
   "outputs": [
    {
     "name": "stdout",
     "output_type": "stream",
     "text": [
      "Collecting ib_insync\n",
      "  Using cached ib_insync-0.9.70-py3-none-any.whl (70 kB)\n",
      "Collecting eventkit\n",
      "  Using cached eventkit-0.8.9-py3-none-any.whl (31 kB)\n",
      "Requirement already satisfied: nest-asyncio in c:\\users\\kushwaha\\anaconda3\\lib\\site-packages (from ib_insync) (1.4.2)\n",
      "Requirement already satisfied: numpy in c:\\users\\kushwaha\\anaconda3\\lib\\site-packages (from eventkit->ib_insync) (1.19.2)\n",
      "Installing collected packages: eventkit, ib-insync\n",
      "Successfully installed eventkit-0.8.9 ib-insync-0.9.70\n",
      "Note: you may need to restart the kernel to use updated packages.\n"
     ]
    }
   ],
   "source": [
    "# %pip install ib_insync"
   ]
  },
  {
   "cell_type": "code",
   "execution_count": 42,
   "metadata": {},
   "outputs": [],
   "source": [
    "# %pip install nest_asyncio\n",
    "# %pip install pandas_ta\n",
    "# %pip install arch"
   ]
  },
  {
   "cell_type": "code",
   "execution_count": 3,
   "metadata": {},
   "outputs": [],
   "source": [
    "import pandas as pd\n",
    "from matplotlib import pyplot as plt\n",
    "from statsmodels.graphics.tsaplots import plot_acf\n",
    "from statsmodels.tsa.ar_model import AutoReg\n",
    "from statsmodels.tsa.arima.model import ARIMA\n",
    "from sklearn.metrics import mean_squared_error\n",
    "from math import sqrt\n",
    "import pandas_ta as ta\n",
    "from arch import arch_model\n",
    "import numpy as np\n",
    "from ib_insync import *\n",
    "util.startLoop()"
   ]
  },
  {
   "cell_type": "code",
   "execution_count": 66,
   "metadata": {},
   "outputs": [],
   "source": [
    "# df.ta.indicators()"
   ]
  },
  {
   "cell_type": "code",
   "execution_count": 2,
   "metadata": {},
   "outputs": [
    {
     "data": {
      "text/html": [
       "<div>\n",
       "<style scoped>\n",
       "    .dataframe tbody tr th:only-of-type {\n",
       "        vertical-align: middle;\n",
       "    }\n",
       "\n",
       "    .dataframe tbody tr th {\n",
       "        vertical-align: top;\n",
       "    }\n",
       "\n",
       "    .dataframe thead th {\n",
       "        text-align: right;\n",
       "    }\n",
       "</style>\n",
       "<table border=\"1\" class=\"dataframe\">\n",
       "  <thead>\n",
       "    <tr style=\"text-align: right;\">\n",
       "      <th></th>\n",
       "      <th>date</th>\n",
       "      <th>open</th>\n",
       "      <th>high</th>\n",
       "      <th>low</th>\n",
       "      <th>close</th>\n",
       "      <th>volume</th>\n",
       "      <th>average</th>\n",
       "      <th>barCount</th>\n",
       "      <th>returns</th>\n",
       "    </tr>\n",
       "  </thead>\n",
       "  <tbody>\n",
       "    <tr>\n",
       "      <th>0</th>\n",
       "      <td>2022-01-05</td>\n",
       "      <td>46256.875</td>\n",
       "      <td>47033.625</td>\n",
       "      <td>43714.125</td>\n",
       "      <td>43960.250</td>\n",
       "      <td>-1.0</td>\n",
       "      <td>-1.0</td>\n",
       "      <td>-1</td>\n",
       "      <td>NaN</td>\n",
       "    </tr>\n",
       "    <tr>\n",
       "      <th>1</th>\n",
       "      <td>2022-01-06</td>\n",
       "      <td>44161.625</td>\n",
       "      <td>44317.625</td>\n",
       "      <td>42435.750</td>\n",
       "      <td>43215.875</td>\n",
       "      <td>-1.0</td>\n",
       "      <td>-1.0</td>\n",
       "      <td>-1</td>\n",
       "      <td>-0.016933</td>\n",
       "    </tr>\n",
       "    <tr>\n",
       "      <th>2</th>\n",
       "      <td>2022-01-07</td>\n",
       "      <td>43207.125</td>\n",
       "      <td>43248.875</td>\n",
       "      <td>40613.125</td>\n",
       "      <td>41927.125</td>\n",
       "      <td>-1.0</td>\n",
       "      <td>-1.0</td>\n",
       "      <td>-1</td>\n",
       "      <td>-0.029821</td>\n",
       "    </tr>\n",
       "    <tr>\n",
       "      <th>3</th>\n",
       "      <td>2022-01-10</td>\n",
       "      <td>41804.125</td>\n",
       "      <td>42786.375</td>\n",
       "      <td>39654.875</td>\n",
       "      <td>41736.000</td>\n",
       "      <td>-1.0</td>\n",
       "      <td>-1.0</td>\n",
       "      <td>-1</td>\n",
       "      <td>-0.004559</td>\n",
       "    </tr>\n",
       "    <tr>\n",
       "      <th>4</th>\n",
       "      <td>2022-01-11</td>\n",
       "      <td>41723.875</td>\n",
       "      <td>43114.125</td>\n",
       "      <td>41292.125</td>\n",
       "      <td>42797.625</td>\n",
       "      <td>-1.0</td>\n",
       "      <td>-1.0</td>\n",
       "      <td>-1</td>\n",
       "      <td>0.025437</td>\n",
       "    </tr>\n",
       "  </tbody>\n",
       "</table>\n",
       "</div>"
      ],
      "text/plain": [
       "         date       open       high        low      close  volume  average  \\\n",
       "0  2022-01-05  46256.875  47033.625  43714.125  43960.250    -1.0     -1.0   \n",
       "1  2022-01-06  44161.625  44317.625  42435.750  43215.875    -1.0     -1.0   \n",
       "2  2022-01-07  43207.125  43248.875  40613.125  41927.125    -1.0     -1.0   \n",
       "3  2022-01-10  41804.125  42786.375  39654.875  41736.000    -1.0     -1.0   \n",
       "4  2022-01-11  41723.875  43114.125  41292.125  42797.625    -1.0     -1.0   \n",
       "\n",
       "   barCount   returns  \n",
       "0        -1       NaN  \n",
       "1        -1 -0.016933  \n",
       "2        -1 -0.029821  \n",
       "3        -1 -0.004559  \n",
       "4        -1  0.025437  "
      ]
     },
     "execution_count": 2,
     "metadata": {},
     "output_type": "execute_result"
    }
   ],
   "source": [
    "from ib_insync import *\n",
    "util.startLoop()\n",
    "\n",
    "# import nest_asyncio\n",
    "# nest_asyncio.apply()\n",
    "\n",
    "\n",
    "ib = IB()\n",
    "# ib.disconnect()\n",
    "ib.connect('127.0.0.1', 7497, clientId=3)\n",
    "\n",
    "\n",
    "contract = Crypto('BTC', exchange='PAXOS', currency='USD')\n",
    "bars = ib.reqHistoricalData(\n",
    "    contract, endDateTime='', durationStr='180 D',\n",
    "    barSizeSetting='1 day', whatToShow='MIDPOINT', useRTH=True)\n",
    "\n",
    "# convert to pandas dataframe:\n",
    "df = util.df(bars)\n",
    "df['returns'] = df['close'].pct_change()\n",
    "df.head()\n"
   ]
  },
  {
   "cell_type": "code",
   "execution_count": 135,
   "metadata": {},
   "outputs": [],
   "source": [
    "df['log returns'] = np.log(df['close'] / df['close'].shift(1))"
   ]
  },
  {
   "cell_type": "code",
   "execution_count": 136,
   "metadata": {},
   "outputs": [
    {
     "data": {
      "text/html": [
       "<div>\n",
       "<style scoped>\n",
       "    .dataframe tbody tr th:only-of-type {\n",
       "        vertical-align: middle;\n",
       "    }\n",
       "\n",
       "    .dataframe tbody tr th {\n",
       "        vertical-align: top;\n",
       "    }\n",
       "\n",
       "    .dataframe thead th {\n",
       "        text-align: right;\n",
       "    }\n",
       "</style>\n",
       "<table border=\"1\" class=\"dataframe\">\n",
       "  <thead>\n",
       "    <tr style=\"text-align: right;\">\n",
       "      <th></th>\n",
       "      <th>date</th>\n",
       "      <th>open</th>\n",
       "      <th>high</th>\n",
       "      <th>low</th>\n",
       "      <th>close</th>\n",
       "      <th>volume</th>\n",
       "      <th>average</th>\n",
       "      <th>barCount</th>\n",
       "      <th>returns</th>\n",
       "      <th>log returns</th>\n",
       "    </tr>\n",
       "  </thead>\n",
       "  <tbody>\n",
       "    <tr>\n",
       "      <th>175</th>\n",
       "      <td>2022-08-19</td>\n",
       "      <td>23354.875</td>\n",
       "      <td>23438.875</td>\n",
       "      <td>21151.000</td>\n",
       "      <td>21340.625</td>\n",
       "      <td>-1.0</td>\n",
       "      <td>-1.0</td>\n",
       "      <td>-1</td>\n",
       "      <td>-0.086245</td>\n",
       "      <td>-0.090193</td>\n",
       "    </tr>\n",
       "    <tr>\n",
       "      <th>176</th>\n",
       "      <td>2022-08-22</td>\n",
       "      <td>21116.875</td>\n",
       "      <td>21778.750</td>\n",
       "      <td>20901.875</td>\n",
       "      <td>21047.875</td>\n",
       "      <td>-1.0</td>\n",
       "      <td>-1.0</td>\n",
       "      <td>-1</td>\n",
       "      <td>-0.013718</td>\n",
       "      <td>-0.013813</td>\n",
       "    </tr>\n",
       "    <tr>\n",
       "      <th>177</th>\n",
       "      <td>2022-08-23</td>\n",
       "      <td>21052.125</td>\n",
       "      <td>21678.375</td>\n",
       "      <td>20899.125</td>\n",
       "      <td>21512.625</td>\n",
       "      <td>-1.0</td>\n",
       "      <td>-1.0</td>\n",
       "      <td>-1</td>\n",
       "      <td>0.022081</td>\n",
       "      <td>0.021840</td>\n",
       "    </tr>\n",
       "    <tr>\n",
       "      <th>178</th>\n",
       "      <td>2022-08-24</td>\n",
       "      <td>21523.375</td>\n",
       "      <td>21887.875</td>\n",
       "      <td>21158.625</td>\n",
       "      <td>21720.875</td>\n",
       "      <td>-1.0</td>\n",
       "      <td>-1.0</td>\n",
       "      <td>-1</td>\n",
       "      <td>0.009680</td>\n",
       "      <td>0.009634</td>\n",
       "    </tr>\n",
       "    <tr>\n",
       "      <th>179</th>\n",
       "      <td>2022-08-25</td>\n",
       "      <td>21719.375</td>\n",
       "      <td>21755.625</td>\n",
       "      <td>21336.875</td>\n",
       "      <td>21552.375</td>\n",
       "      <td>-1.0</td>\n",
       "      <td>-1.0</td>\n",
       "      <td>-1</td>\n",
       "      <td>-0.007758</td>\n",
       "      <td>-0.007788</td>\n",
       "    </tr>\n",
       "  </tbody>\n",
       "</table>\n",
       "</div>"
      ],
      "text/plain": [
       "           date       open       high        low      close  volume  average  \\\n",
       "175  2022-08-19  23354.875  23438.875  21151.000  21340.625    -1.0     -1.0   \n",
       "176  2022-08-22  21116.875  21778.750  20901.875  21047.875    -1.0     -1.0   \n",
       "177  2022-08-23  21052.125  21678.375  20899.125  21512.625    -1.0     -1.0   \n",
       "178  2022-08-24  21523.375  21887.875  21158.625  21720.875    -1.0     -1.0   \n",
       "179  2022-08-25  21719.375  21755.625  21336.875  21552.375    -1.0     -1.0   \n",
       "\n",
       "     barCount   returns  log returns  \n",
       "175        -1 -0.086245    -0.090193  \n",
       "176        -1 -0.013718    -0.013813  \n",
       "177        -1  0.022081     0.021840  \n",
       "178        -1  0.009680     0.009634  \n",
       "179        -1 -0.007758    -0.007788  "
      ]
     },
     "execution_count": 136,
     "metadata": {},
     "output_type": "execute_result"
    }
   ],
   "source": [
    "df.dropna(inplace=True)\n",
    "df.tail()\n"
   ]
  },
  {
   "cell_type": "code",
   "execution_count": 138,
   "metadata": {},
   "outputs": [
    {
     "data": {
      "text/html": [
       "<div>\n",
       "<style scoped>\n",
       "    .dataframe tbody tr th:only-of-type {\n",
       "        vertical-align: middle;\n",
       "    }\n",
       "\n",
       "    .dataframe tbody tr th {\n",
       "        vertical-align: top;\n",
       "    }\n",
       "\n",
       "    .dataframe thead th {\n",
       "        text-align: right;\n",
       "    }\n",
       "</style>\n",
       "<table border=\"1\" class=\"dataframe\">\n",
       "  <thead>\n",
       "    <tr style=\"text-align: right;\">\n",
       "      <th></th>\n",
       "      <th>open</th>\n",
       "      <th>high</th>\n",
       "      <th>low</th>\n",
       "      <th>close</th>\n",
       "      <th>volume</th>\n",
       "      <th>average</th>\n",
       "      <th>barCount</th>\n",
       "      <th>returns</th>\n",
       "      <th>log returns</th>\n",
       "    </tr>\n",
       "    <tr>\n",
       "      <th>date</th>\n",
       "      <th></th>\n",
       "      <th></th>\n",
       "      <th></th>\n",
       "      <th></th>\n",
       "      <th></th>\n",
       "      <th></th>\n",
       "      <th></th>\n",
       "      <th></th>\n",
       "      <th></th>\n",
       "    </tr>\n",
       "  </thead>\n",
       "  <tbody>\n",
       "    <tr>\n",
       "      <th>2021-12-20</th>\n",
       "      <td>47550.875</td>\n",
       "      <td>48318.250</td>\n",
       "      <td>45572.375</td>\n",
       "      <td>47022.375</td>\n",
       "      <td>-1.0</td>\n",
       "      <td>-1.0</td>\n",
       "      <td>-1</td>\n",
       "      <td>0.017720</td>\n",
       "      <td>0.017565</td>\n",
       "    </tr>\n",
       "    <tr>\n",
       "      <th>2021-12-21</th>\n",
       "      <td>47046.625</td>\n",
       "      <td>49334.000</td>\n",
       "      <td>46679.875</td>\n",
       "      <td>48637.625</td>\n",
       "      <td>-1.0</td>\n",
       "      <td>-1.0</td>\n",
       "      <td>-1</td>\n",
       "      <td>0.034351</td>\n",
       "      <td>0.033774</td>\n",
       "    </tr>\n",
       "    <tr>\n",
       "      <th>2021-12-22</th>\n",
       "      <td>48579.875</td>\n",
       "      <td>49570.625</td>\n",
       "      <td>48468.125</td>\n",
       "      <td>48973.625</td>\n",
       "      <td>-1.0</td>\n",
       "      <td>-1.0</td>\n",
       "      <td>-1</td>\n",
       "      <td>0.006908</td>\n",
       "      <td>0.006884</td>\n",
       "    </tr>\n",
       "    <tr>\n",
       "      <th>2021-12-23</th>\n",
       "      <td>48964.875</td>\n",
       "      <td>51393.625</td>\n",
       "      <td>48063.875</td>\n",
       "      <td>51000.125</td>\n",
       "      <td>-1.0</td>\n",
       "      <td>-1.0</td>\n",
       "      <td>-1</td>\n",
       "      <td>0.041379</td>\n",
       "      <td>0.040546</td>\n",
       "    </tr>\n",
       "    <tr>\n",
       "      <th>2021-12-24</th>\n",
       "      <td>51010.625</td>\n",
       "      <td>51857.875</td>\n",
       "      <td>50461.875</td>\n",
       "      <td>51140.375</td>\n",
       "      <td>-1.0</td>\n",
       "      <td>-1.0</td>\n",
       "      <td>-1</td>\n",
       "      <td>0.002750</td>\n",
       "      <td>0.002746</td>\n",
       "    </tr>\n",
       "  </tbody>\n",
       "</table>\n",
       "</div>"
      ],
      "text/plain": [
       "                 open       high        low      close  volume  average  \\\n",
       "date                                                                      \n",
       "2021-12-20  47550.875  48318.250  45572.375  47022.375    -1.0     -1.0   \n",
       "2021-12-21  47046.625  49334.000  46679.875  48637.625    -1.0     -1.0   \n",
       "2021-12-22  48579.875  49570.625  48468.125  48973.625    -1.0     -1.0   \n",
       "2021-12-23  48964.875  51393.625  48063.875  51000.125    -1.0     -1.0   \n",
       "2021-12-24  51010.625  51857.875  50461.875  51140.375    -1.0     -1.0   \n",
       "\n",
       "            barCount   returns  log returns  \n",
       "date                                         \n",
       "2021-12-20        -1  0.017720     0.017565  \n",
       "2021-12-21        -1  0.034351     0.033774  \n",
       "2021-12-22        -1  0.006908     0.006884  \n",
       "2021-12-23        -1  0.041379     0.040546  \n",
       "2021-12-24        -1  0.002750     0.002746  "
      ]
     },
     "execution_count": 138,
     "metadata": {},
     "output_type": "execute_result"
    }
   ],
   "source": [
    "# df2 = df.set_index('date')\n",
    "# df2.index = pd.DatetimeIndex(df2.index).to_period('D')\n",
    "# df2.head()"
   ]
  },
  {
   "cell_type": "code",
   "execution_count": 139,
   "metadata": {},
   "outputs": [],
   "source": [
    "# import warnings\n",
    "# warnings.filterwarnings(\"ignore\")\n",
    "\n",
    "df2 = df.set_index('date')\n",
    "df2.index = pd.DatetimeIndex(df2.index).to_period('D')\n",
    "\n",
    "X = df2['log returns']\n",
    "test_pct = 0.7\n",
    "train, test = X[0:int(test_pct*len(X))], X[int(test_pct*len(X)):len(X)]\n",
    "final_order = (0,0,0)\n",
    "\n",
    "best_aic = np.inf\n",
    "\n",
    "for p in range(0,5):\n",
    "    for q in range(0,5):\n",
    "        model = ARIMA(train, order=(p,0,q))        \n",
    "        model_fit = model.fit()\n",
    "        if model_fit.aic < best_aic:\n",
    "            best_aic = model_fit.aic\n",
    "            final_order = (p,0,q)"
   ]
  },
  {
   "cell_type": "code",
   "execution_count": 153,
   "metadata": {},
   "outputs": [
    {
     "name": "stdout",
     "output_type": "stream",
     "text": [
      "Iteration:      1,   Func. Count:      6,   Neg. LLF: 24776.294194251408\n",
      "Iteration:      2,   Func. Count:     16,   Neg. LLF: 128.76610607739346\n",
      "Iteration:      3,   Func. Count:     25,   Neg. LLF: -186.1519256432207\n",
      "Iteration:      4,   Func. Count:     32,   Neg. LLF: -233.93572778245752\n",
      "Iteration:      5,   Func. Count:     39,   Neg. LLF: -234.79693982624846\n",
      "Iteration:      6,   Func. Count:     44,   Neg. LLF: -234.82744861121523\n",
      "Iteration:      7,   Func. Count:     50,   Neg. LLF: -234.88044936028137\n",
      "Iteration:      8,   Func. Count:     56,   Neg. LLF: -234.91066686005678\n",
      "Iteration:      9,   Func. Count:     61,   Neg. LLF: -234.91195350505564\n",
      "Iteration:     10,   Func. Count:     66,   Neg. LLF: -234.9119961213601\n",
      "Iteration:     11,   Func. Count:     71,   Neg. LLF: -234.91200388138247\n",
      "Iteration:     12,   Func. Count:     75,   Neg. LLF: -234.91200388133723\n",
      "Optimization terminated successfully    (Exit mode 0)\n",
      "            Current function value: -234.91200388138247\n",
      "            Iterations: 12\n",
      "            Function evaluations: 75\n",
      "            Gradient evaluations: 12\n"
     ]
    }
   ],
   "source": [
    "model = ARIMA(train, order=final_order)\n",
    "model_fit = model.fit()\n",
    "residuals = model_fit.resid\n",
    "garch = arch_model(residuals)\n",
    "garch_fitted = garch.fit()\n",
    "garch_pred = garch_fitted.forecast(horizon=1).mean.iloc[-1]['h.1']\n",
    "\n"
   ]
  },
  {
   "cell_type": "code",
   "execution_count": 172,
   "metadata": {},
   "outputs": [
    {
     "data": {
      "text/plain": [
       "<AxesSubplot:xlabel='date'>"
      ]
     },
     "execution_count": 172,
     "metadata": {},
     "output_type": "execute_result"
    },
    {
     "data": {
      "image/png": "[encoded data removed]",
      "text/plain": [
       "<Figure size 432x288 with 1 Axes>"
      ]
     },
     "metadata": {
      "needs_background": "light"
     },
     "output_type": "display_data"
    }
   ],
   "source": [
    "arima_pred = model_fit.predict(start=len(train), end=len(train) + len(test) - 1, dynamic=False)\n",
    "total_pred = arima_pred + garch_pred\n",
    "cum_returns = total_pred.cumsum()\n",
    "(100*(np.exp(cum_returns)-1)).plot()\n",
    "(100*(np.exp(test.cumsum())-1)).plot()"
   ]
  },
  {
   "cell_type": "code",
   "execution_count": 186,
   "metadata": {},
   "outputs": [
    {
     "data": {
      "text/plain": [
       "<AxesSubplot:xlabel='date'>"
      ]
     },
     "execution_count": 186,
     "metadata": {},
     "output_type": "execute_result"
    },
    {
     "data": {
      "image/png": "[encoded data removed]",
      "text/plain": [
       "<Figure size 432x288 with 1 Axes>"
      ]
     },
     "metadata": {
      "needs_background": "light"
     },
     "output_type": "display_data"
    }
   ],
   "source": [
    "df_pred = pd.DataFrame(np.exp(total_pred.cumsum())-1)\n",
    "df_test = pd.DataFrame(np.exp(test.cumsum())-1)\n",
    "\n",
    "df_pred_2 = df_pred.copy()\n",
    "df_pred_2.index = df_test.index\n",
    "df_final = df_pred_2.join(df_test)\n",
    "df_final.plot()"
   ]
  },
  {
   "cell_type": "code",
   "execution_count": 225,
   "metadata": {},
   "outputs": [
    {
     "data": {
      "text/plain": [
       "126"
      ]
     },
     "execution_count": 225,
     "metadata": {},
     "output_type": "execute_result"
    },
    {
     "data": {
      "image/png": "[encoded data removed]",
      "text/plain": [
       "<Figure size 432x288 with 1 Axes>"
      ]
     },
     "metadata": {
      "needs_background": "light"
     },
     "output_type": "display_data"
    }
   ],
   "source": [
    "# df['log returns'].plot()\n",
    "df['close'].plot(color='red')\n",
    "df['log returns'].idxmin()\n",
    "# display(df['log returns'].tail(5), test.tail(5))"
   ]
  },
  {
   "cell_type": "code",
   "execution_count": 232,
   "metadata": {},
   "outputs": [
    {
     "data": {
      "text/plain": [
       "5.196583647339369e-05"
      ]
     },
     "execution_count": 232,
     "metadata": {},
     "output_type": "execute_result"
    },
    {
     "data": {
      "image/png": "[encoded data removed]",
      "text/plain": [
       "<Figure size 432x288 with 1 Axes>"
      ]
     },
     "metadata": {
      "needs_background": "light"
     },
     "output_type": "display_data"
    },
    {
     "name": "stderr",
     "output_type": "stream",
     "text": [
      "Peer closed connection.\n"
     ]
    }
   ],
   "source": [
    "(np.exp(arima_pred.cumsum())-1).plot()\n",
    "garch_pred # don't think this number is right\n",
    "#plot for arima_pred doesn't look righ either "
   ]
  },
  {
   "cell_type": "code",
   "execution_count": 90,
   "metadata": {},
   "outputs": [
    {
     "name": "stderr",
     "output_type": "stream",
     "text": [
      "C:\\Users\\kushwaha\\Anaconda3\\lib\\site-packages\\statsmodels\\tsa\\base\\tsa_model.py:578: ValueWarning: An unsupported index was provided and will be ignored when e.g. forecasting.\n",
      "  warnings.warn('An unsupported index was provided and will be'\n",
      "C:\\Users\\kushwaha\\Anaconda3\\lib\\site-packages\\statsmodels\\tsa\\base\\tsa_model.py:578: ValueWarning: An unsupported index was provided and will be ignored when e.g. forecasting.\n",
      "  warnings.warn('An unsupported index was provided and will be'\n",
      "C:\\Users\\kushwaha\\Anaconda3\\lib\\site-packages\\statsmodels\\tsa\\base\\tsa_model.py:578: ValueWarning: An unsupported index was provided and will be ignored when e.g. forecasting.\n",
      "  warnings.warn('An unsupported index was provided and will be'\n",
      "C:\\Users\\kushwaha\\Anaconda3\\lib\\site-packages\\statsmodels\\base\\model.py:566: ConvergenceWarning: Maximum Likelihood optimization failed to converge. Check mle_retvals\n",
      "  warnings.warn(\"Maximum Likelihood optimization failed to \"\n",
      "C:\\Users\\kushwaha\\Anaconda3\\lib\\site-packages\\arch\\univariate\\base.py:309: DataScaleWarning: y is poorly scaled, which may affect convergence of the optimizer when\n",
      "estimating the model parameters. The scale of y is 0.001368. Parameter\n",
      "estimation work better when this value is between 1 and 1000. The recommended\n",
      "rescaling is 10 * y.\n",
      "\n",
      "This warning can be disabled by either rescaling y before initializing the\n",
      "model or by setting rescale=False.\n",
      "\n",
      "  warnings.warn(\n",
      "C:\\Users\\kushwaha\\Anaconda3\\lib\\site-packages\\statsmodels\\tsa\\base\\tsa_model.py:376: ValueWarning: No supported index is available. Prediction results will be given with an integer index beginning at `start`.\n",
      "  warnings.warn('No supported index is available.'\n",
      "C:\\Users\\kushwaha\\Anaconda3\\lib\\site-packages\\arch\\__future__\\_utility.py:11: FutureWarning: \n",
      "The default for reindex is True. After September 2021 this will change to\n",
      "False. Set reindex to True or False to silence this message. Alternatively,\n",
      "you can use the import comment\n",
      "\n",
      "from arch.__future__ import reindexing\n",
      "\n",
      "to globally set reindex to True and silence this warning.\n",
      "\n",
      "  warnings.warn(\n"
     ]
    },
    {
     "name": "stdout",
     "output_type": "stream",
     "text": [
      "Iteration:      1,   Func. Count:     14,   Neg. LLF: 408.40240273754137\n",
      "Iteration:      2,   Func. Count:     31,   Neg. LLF: 87.45023105680498\n",
      "Iteration:      3,   Func. Count:     47,   Neg. LLF: 80780.4730297127\n",
      "Iteration:      4,   Func. Count:     62,   Neg. LLF: -233.9180311613623\n",
      "Iteration:      5,   Func. Count:     76,   Neg. LLF: -234.88544856154704\n",
      "Iteration:      6,   Func. Count:     90,   Neg. LLF: -235.19998458594745\n",
      "Iteration:      7,   Func. Count:    104,   Neg. LLF: -235.4627613717342\n",
      "Iteration:      8,   Func. Count:    117,   Neg. LLF: -235.47128043996625\n",
      "Iteration:      9,   Func. Count:    130,   Neg. LLF: -235.4765921538659\n",
      "Iteration:     10,   Func. Count:    143,   Neg. LLF: -235.47868544477808\n",
      "Iteration:     11,   Func. Count:    156,   Neg. LLF: -235.47941552054863\n",
      "Iteration:     12,   Func. Count:    169,   Neg. LLF: -235.48066978297345\n",
      "Iteration:     13,   Func. Count:    182,   Neg. LLF: -235.4832272561248\n",
      "Iteration:     14,   Func. Count:    195,   Neg. LLF: -235.48457416007398\n",
      "Iteration:     15,   Func. Count:    208,   Neg. LLF: -235.4896243663791\n",
      "Iteration:     16,   Func. Count:    221,   Neg. LLF: -235.4922959064699\n",
      "Iteration:     17,   Func. Count:    234,   Neg. LLF: -235.50824815734134\n",
      "Iteration:     18,   Func. Count:    247,   Neg. LLF: -235.51306933627984\n",
      "Iteration:     19,   Func. Count:    260,   Neg. LLF: -228.99923313655538\n",
      "Iteration:     20,   Func. Count:    276,   Neg. LLF: -235.51444291912694\n",
      "Iteration:     21,   Func. Count:    290,   Neg. LLF: -204.21049813935994\n",
      "Iteration:     22,   Func. Count:    306,   Neg. LLF: -235.51815891950108\n",
      "Iteration:     23,   Func. Count:    320,   Neg. LLF: 4887675595276.784\n",
      "Iteration:     24,   Func. Count:    338,   Neg. LLF: 64806069.85868974\n",
      "Iteration:     25,   Func. Count:    356,   Neg. LLF: -234.67365771470497\n",
      "Iteration:     26,   Func. Count:    372,   Neg. LLF: -235.52383117409917\n",
      "Iteration:     27,   Func. Count:    385,   Neg. LLF: -235.52389996283753\n",
      "Iteration:     28,   Func. Count:    398,   Neg. LLF: -235.52391250523132\n",
      "Iteration:     29,   Func. Count:    410,   Neg. LLF: -235.5239124982302\n",
      "Optimization terminated successfully    (Exit mode 0)\n",
      "            Current function value: -235.52391250523132\n",
      "            Iterations: 30\n",
      "            Function evaluations: 410\n",
      "            Gradient evaluations: 29\n"
     ]
    },
    {
     "data": {
      "image/png": "[encoded data removed]",
      "text/plain": [
       "<Figure size 432x288 with 1 Axes>"
      ]
     },
     "metadata": {
      "needs_background": "light"
     },
     "output_type": "display_data"
    },
    {
     "name": "stderr",
     "output_type": "stream",
     "text": [
      "Peer closed connection.\n"
     ]
    }
   ],
   "source": [
    "\"\"\"GARCH model\"\"\"\n",
    "def ARCH(X):\n",
    "    test_pct = 0.7\n",
    "    train, test = X[0:int(test_pct*len(X))], X[int(test_pct*len(X)):len(X)-1]\n",
    "    test_squared = [i**2 for i in test]\n",
    "    \n",
    "    model = arch_model(train, mean='Zero', vol='ARCH', p=5)\n",
    "    model_fit = model.fit()\n",
    "    y_hat = model_fit.forecast(horizon=int((1-test_pct)*len(X)))\n",
    "#     display(y_hat.variance.values[-1,:])\n",
    "    plt.plot(test_squared)\n",
    "    plt.plot(y_hat.variance.values[-1,:], color='red')\n",
    "    plt.show()    \n",
    "\n",
    "def GARCH(X):\n",
    "    test_pct = 0.7\n",
    "    train, test = X[0:int(test_pct*len(X))], X[int(test_pct*len(X)):len(X)-1]\n",
    "    test_squared = [i**2 for i in test]\n",
    "    \n",
    "    model = arch_model(train, mean='Zero', vol='GARCH', p=5, q=5)\n",
    "    model_fit = model.fit()\n",
    "    y_hat = model_fit.forecast(horizon=int((1-test_pct)*len(X)))    \n",
    "    plt.plot(test_squared)\n",
    "    plt.plot(y_hat.variance.values[-1,:], color='red')\n",
    "    plt.show()    \n",
    "\n",
    "def ARIMA_GARCH(X):\n",
    "    pass\n",
    "    \n",
    "    \n",
    "\n",
    "# GARCH(df.returns)\n",
    "# X = df.returns\n",
    "# test_pct = 0.7\n",
    "# train, test = X[0:int(test_pct*len(X))], X[int(test_pct*len(X)):len(X)-1]\n",
    "# test_squared = [i**2 for i in test]\n",
    "# test_squared\n",
    "\n",
    "# def ARIMA():\n",
    "#     pass\n",
    "\n",
    "X = df.returns\n",
    "test_pct = 0.7\n",
    "train, test = X[0:int(test_pct*len(X))], X[int(test_pct*len(X)):len(X)-1]\n",
    "# test_squared = [i**2 for i in test]\n",
    "# test_squared\n",
    "\n",
    "\n",
    "model = ARIMA(train, order=(5,0,5))\n",
    "model_fit = model.fit()\n",
    "residuals = model_fit.resid\n",
    "\n",
    "garch = arch_model(residuals, p=5, q=5)\n",
    "garch_fitted = garch.fit()\n",
    "\n",
    "predicted_mu = model_fit.predict(start=len(train), end=len(train) + len(test) - 1, dynamic=False)\n",
    "predicted_garch = garch_fitted.forecast(horizon=int((1-test_pct)*len(X)))\n",
    "predicted_et = predicted_garch.mean['h.01'].iloc[-1]\n",
    "# display(predicted_garch)\n",
    "prediction = predicted_mu + predicted_et\n",
    "# display(prediction)\n",
    "plt.plot(prediction)\n",
    "plt.plot(test)\n",
    "plt.show()\n",
    "\n",
    "# predictions = model_fit.predict(start=len(train), end=len(train) + len(test) - 1, dynamic=False)\n",
    "\n",
    "# for i in range(len(predictions)):\n",
    "#     print('predicted:{}, forecast:{}'.format(predictions.iloc[i], test.iloc[i]))\n",
    "# rmse = sqrt(mean_squared_error(test, predictions))\n",
    "# print('test rmse: {}'.format(rmse))\n",
    "\n",
    "# plt.plot(test)\n",
    "# plt.plot(predictions, color='red')\n",
    "# plt.show"
   ]
  },
  {
   "cell_type": "code",
   "execution_count": 85,
   "metadata": {},
   "outputs": [
    {
     "data": {
      "text/plain": [
       "-9.39394309586252e-05"
      ]
     },
     "execution_count": 85,
     "metadata": {},
     "output_type": "execute_result"
    }
   ],
   "source": []
  },
  {
   "cell_type": "code",
   "execution_count": 35,
   "metadata": {},
   "outputs": [
    {
     "name": "stdout",
     "output_type": "stream",
     "text": [
      "RealTimeBar(time=datetime.datetime(2022, 8, 12, 3, 14, tzinfo=datetime.timezone.utc), endTime=-1, open_=23982.125, high=23982.125, low=23982.125, close=23982.125, volume=-1.0, wap=-1.0, count=-1)\n"
     ]
    },
    {
     "data": {
      "text/html": [
       "<div>\n",
       "<style scoped>\n",
       "    .dataframe tbody tr th:only-of-type {\n",
       "        vertical-align: middle;\n",
       "    }\n",
       "\n",
       "    .dataframe tbody tr th {\n",
       "        vertical-align: top;\n",
       "    }\n",
       "\n",
       "    .dataframe thead th {\n",
       "        text-align: right;\n",
       "    }\n",
       "</style>\n",
       "<table border=\"1\" class=\"dataframe\">\n",
       "  <thead>\n",
       "    <tr style=\"text-align: right;\">\n",
       "      <th></th>\n",
       "      <th>Time</th>\n",
       "      <th>Close</th>\n",
       "    </tr>\n",
       "  </thead>\n",
       "  <tbody>\n",
       "    <tr>\n",
       "      <th>0</th>\n",
       "      <td>2022-08-12 03:14:00+00:00</td>\n",
       "      <td>23982.125</td>\n",
       "    </tr>\n",
       "  </tbody>\n",
       "</table>\n",
       "</div>"
      ],
      "text/plain": [
       "                       Time      Close\n",
       "0 2022-08-12 03:14:00+00:00  23982.125"
      ]
     },
     "metadata": {},
     "output_type": "display_data"
    },
    {
     "name": "stdout",
     "output_type": "stream",
     "text": [
      "RealTimeBar(time=datetime.datetime(2022, 8, 12, 3, 14, 5, tzinfo=datetime.timezone.utc), endTime=-1, open_=23982.125, high=23982.125, low=23982.125, close=23982.125, volume=-1.0, wap=-1.0, count=-1)\n"
     ]
    },
    {
     "data": {
      "text/html": [
       "<div>\n",
       "<style scoped>\n",
       "    .dataframe tbody tr th:only-of-type {\n",
       "        vertical-align: middle;\n",
       "    }\n",
       "\n",
       "    .dataframe tbody tr th {\n",
       "        vertical-align: top;\n",
       "    }\n",
       "\n",
       "    .dataframe thead th {\n",
       "        text-align: right;\n",
       "    }\n",
       "</style>\n",
       "<table border=\"1\" class=\"dataframe\">\n",
       "  <thead>\n",
       "    <tr style=\"text-align: right;\">\n",
       "      <th></th>\n",
       "      <th>Time</th>\n",
       "      <th>Close</th>\n",
       "    </tr>\n",
       "  </thead>\n",
       "  <tbody>\n",
       "    <tr>\n",
       "      <th>0</th>\n",
       "      <td>2022-08-12 03:14:00+00:00</td>\n",
       "      <td>23982.125</td>\n",
       "    </tr>\n",
       "    <tr>\n",
       "      <th>1</th>\n",
       "      <td>2022-08-12 03:14:05+00:00</td>\n",
       "      <td>23982.125</td>\n",
       "    </tr>\n",
       "  </tbody>\n",
       "</table>\n",
       "</div>"
      ],
      "text/plain": [
       "                       Time      Close\n",
       "0 2022-08-12 03:14:00+00:00  23982.125\n",
       "1 2022-08-12 03:14:05+00:00  23982.125"
      ]
     },
     "metadata": {},
     "output_type": "display_data"
    },
    {
     "name": "stdout",
     "output_type": "stream",
     "text": [
      "RealTimeBar(time=datetime.datetime(2022, 8, 12, 3, 14, 10, tzinfo=datetime.timezone.utc), endTime=-1, open_=23982.125, high=23982.125, low=23982.125, close=23982.125, volume=-1.0, wap=-1.0, count=-1)\n"
     ]
    },
    {
     "data": {
      "text/html": [
       "<div>\n",
       "<style scoped>\n",
       "    .dataframe tbody tr th:only-of-type {\n",
       "        vertical-align: middle;\n",
       "    }\n",
       "\n",
       "    .dataframe tbody tr th {\n",
       "        vertical-align: top;\n",
       "    }\n",
       "\n",
       "    .dataframe thead th {\n",
       "        text-align: right;\n",
       "    }\n",
       "</style>\n",
       "<table border=\"1\" class=\"dataframe\">\n",
       "  <thead>\n",
       "    <tr style=\"text-align: right;\">\n",
       "      <th></th>\n",
       "      <th>Time</th>\n",
       "      <th>Close</th>\n",
       "    </tr>\n",
       "  </thead>\n",
       "  <tbody>\n",
       "    <tr>\n",
       "      <th>0</th>\n",
       "      <td>2022-08-12 03:14:00+00:00</td>\n",
       "      <td>23982.125</td>\n",
       "    </tr>\n",
       "    <tr>\n",
       "      <th>1</th>\n",
       "      <td>2022-08-12 03:14:05+00:00</td>\n",
       "      <td>23982.125</td>\n",
       "    </tr>\n",
       "    <tr>\n",
       "      <th>2</th>\n",
       "      <td>2022-08-12 03:14:10+00:00</td>\n",
       "      <td>23982.125</td>\n",
       "    </tr>\n",
       "  </tbody>\n",
       "</table>\n",
       "</div>"
      ],
      "text/plain": [
       "                       Time      Close\n",
       "0 2022-08-12 03:14:00+00:00  23982.125\n",
       "1 2022-08-12 03:14:05+00:00  23982.125\n",
       "2 2022-08-12 03:14:10+00:00  23982.125"
      ]
     },
     "metadata": {},
     "output_type": "display_data"
    },
    {
     "name": "stderr",
     "output_type": "stream",
     "text": [
      "Peer closed connection.\n"
     ]
    }
   ],
   "source": [
    "\n",
    "ib.cancelRealTimeBars(bars)"
   ]
  },
  {
   "cell_type": "code",
   "execution_count": 32,
   "metadata": {},
   "outputs": [
    {
     "data": {
      "text/html": [
       "<div>\n",
       "<style scoped>\n",
       "    .dataframe tbody tr th:only-of-type {\n",
       "        vertical-align: middle;\n",
       "    }\n",
       "\n",
       "    .dataframe tbody tr th {\n",
       "        vertical-align: top;\n",
       "    }\n",
       "\n",
       "    .dataframe thead th {\n",
       "        text-align: right;\n",
       "    }\n",
       "</style>\n",
       "<table border=\"1\" class=\"dataframe\">\n",
       "  <thead>\n",
       "    <tr style=\"text-align: right;\">\n",
       "      <th></th>\n",
       "      <th>Date</th>\n",
       "      <th>Close</th>\n",
       "    </tr>\n",
       "  </thead>\n",
       "  <tbody>\n",
       "    <tr>\n",
       "      <th>0</th>\n",
       "      <td>xxx</td>\n",
       "      <td>45</td>\n",
       "    </tr>\n",
       "  </tbody>\n",
       "</table>\n",
       "</div>"
      ],
      "text/plain": [
       "  Date Close\n",
       "0  xxx    45"
      ]
     },
     "execution_count": 32,
     "metadata": {},
     "output_type": "execute_result"
    }
   ],
   "source": [
    "import pandas as pd\n",
    "df = pd.DataFrame(columns=['Date','Close'])\n",
    "df.loc[len(df.index)]=['xxx',45]\n",
    "df\n",
    "# d3 = deque([1,3,3])\n",
    "# df = pd.DataFrame({'d':d3})\n",
    "# df"
   ]
  },
  {
   "cell_type": "code",
   "execution_count": 303,
   "metadata": {},
   "outputs": [
    {
     "name": "stdout",
     "output_type": "stream",
     "text": [
      "deque([RealTimeBar(time=datetime.datetime(2022, 9, 7, 1, 28, 5, tzinfo=datetime.timezone.utc), endTime=-1, open_=18830.875, high=18830.875, low=18830.875, close=18830.875, volume=-1.0, wap=-1.0, count=-1)], maxlen=3)\n",
      "deque([RealTimeBar(time=datetime.datetime(2022, 9, 7, 1, 28, 5, tzinfo=datetime.timezone.utc), endTime=-1, open_=18830.875, high=18830.875, low=18830.875, close=18830.875, volume=-1.0, wap=-1.0, count=-1), RealTimeBar(time=datetime.datetime(2022, 9, 7, 1, 28, 10, tzinfo=datetime.timezone.utc), endTime=-1, open_=18830.875, high=18830.875, low=18830.875, close=18830.875, volume=-1.0, wap=-1.0, count=-1)], maxlen=3)\n",
      "deque([RealTimeBar(time=datetime.datetime(2022, 9, 7, 1, 28, 5, tzinfo=datetime.timezone.utc), endTime=-1, open_=18830.875, high=18830.875, low=18830.875, close=18830.875, volume=-1.0, wap=-1.0, count=-1), RealTimeBar(time=datetime.datetime(2022, 9, 7, 1, 28, 10, tzinfo=datetime.timezone.utc), endTime=-1, open_=18830.875, high=18830.875, low=18830.875, close=18830.875, volume=-1.0, wap=-1.0, count=-1), RealTimeBar(time=datetime.datetime(2022, 9, 7, 1, 28, 15, tzinfo=datetime.timezone.utc), endTime=-1, open_=18830.875, high=18834.625, low=18830.875, close=18834.625, volume=-1.0, wap=-1.0, count=-1)], maxlen=3)\n",
      "deque([RealTimeBar(time=datetime.datetime(2022, 9, 7, 1, 28, 10, tzinfo=datetime.timezone.utc), endTime=-1, open_=18830.875, high=18830.875, low=18830.875, close=18830.875, volume=-1.0, wap=-1.0, count=-1), RealTimeBar(time=datetime.datetime(2022, 9, 7, 1, 28, 15, tzinfo=datetime.timezone.utc), endTime=-1, open_=18830.875, high=18834.625, low=18830.875, close=18834.625, volume=-1.0, wap=-1.0, count=-1), RealTimeBar(time=datetime.datetime(2022, 9, 7, 1, 28, 20, tzinfo=datetime.timezone.utc), endTime=-1, open_=18834.625, high=18834.625, low=18834.625, close=18834.625, volume=-1.0, wap=-1.0, count=-1)], maxlen=3)\n",
      "deque([RealTimeBar(time=datetime.datetime(2022, 9, 7, 1, 28, 15, tzinfo=datetime.timezone.utc), endTime=-1, open_=18830.875, high=18834.625, low=18830.875, close=18834.625, volume=-1.0, wap=-1.0, count=-1), RealTimeBar(time=datetime.datetime(2022, 9, 7, 1, 28, 20, tzinfo=datetime.timezone.utc), endTime=-1, open_=18834.625, high=18834.625, low=18834.625, close=18834.625, volume=-1.0, wap=-1.0, count=-1), RealTimeBar(time=datetime.datetime(2022, 9, 7, 1, 28, 25, tzinfo=datetime.timezone.utc), endTime=-1, open_=18834.625, high=18834.625, low=18834.625, close=18834.625, volume=-1.0, wap=-1.0, count=-1)], maxlen=3)\n",
      "deque([RealTimeBar(time=datetime.datetime(2022, 9, 7, 1, 28, 20, tzinfo=datetime.timezone.utc), endTime=-1, open_=18834.625, high=18834.625, low=18834.625, close=18834.625, volume=-1.0, wap=-1.0, count=-1), RealTimeBar(time=datetime.datetime(2022, 9, 7, 1, 28, 25, tzinfo=datetime.timezone.utc), endTime=-1, open_=18834.625, high=18834.625, low=18834.625, close=18834.625, volume=-1.0, wap=-1.0, count=-1), RealTimeBar(time=datetime.datetime(2022, 9, 7, 1, 28, 30, tzinfo=datetime.timezone.utc), endTime=-1, open_=18834.625, high=18834.625, low=18834.625, close=18834.625, volume=-1.0, wap=-1.0, count=-1)], maxlen=3)\n",
      "deque([RealTimeBar(time=datetime.datetime(2022, 9, 7, 1, 28, 25, tzinfo=datetime.timezone.utc), endTime=-1, open_=18834.625, high=18834.625, low=18834.625, close=18834.625, volume=-1.0, wap=-1.0, count=-1), RealTimeBar(time=datetime.datetime(2022, 9, 7, 1, 28, 30, tzinfo=datetime.timezone.utc), endTime=-1, open_=18834.625, high=18834.625, low=18834.625, close=18834.625, volume=-1.0, wap=-1.0, count=-1), RealTimeBar(time=datetime.datetime(2022, 9, 7, 1, 28, 35, tzinfo=datetime.timezone.utc), endTime=-1, open_=18834.625, high=18834.625, low=18834.625, close=18834.625, volume=-1.0, wap=-1.0, count=-1)], maxlen=3)\n"
     ]
    },
    {
     "data": {
      "text/plain": [
       "'prob need to add another fn to updateEvent to form the deque or dataframe'"
      ]
     },
     "execution_count": 303,
     "metadata": {},
     "output_type": "execute_result"
    }
   ],
   "source": [
    "\n",
    "\n",
    "\n",
    "\n",
    "\n",
    "d = deque(maxlen=3)\n",
    "# for i in range(10):\n",
    "#     d.append(i)\n",
    "#     print(d)\n",
    "    \n",
    "def onBarUpdate(bars, newBar):\n",
    "    d.append(bars[-1])\n",
    "    print(d)\n",
    "#     print(bars[-1])\n",
    "    \n",
    "\n",
    "def RealtimeMA(bars, newBar, short_MA, long_MA):\n",
    "    short_deque = deque(maxlen=short_MA)\n",
    "    long_deque = deque(maxlen=long_MA)\n",
    "    \n",
    "    short_deque.append\n",
    "    \n",
    "def GetRealTimeBars(contract, whatToShow='MIDPOINT'):\n",
    "    bars = ib.reqRealTimeBars(contract=contract,\n",
    "                              barSize=5,\n",
    "                              whatToShow=whatToShow,\n",
    "                              useRTH=False)\n",
    "    bars.updateEvent += onBarUpdate\n",
    "    ib.sleep(30)\n",
    "    ib.cancelRealTimeBars(bars)\n",
    "\n",
    "ib = IB()\n",
    "# ib.disconnect()\n",
    "ib.connect('127.0.0.1', 7497, clientId=1)\n",
    "\n",
    "\n",
    "contract = Crypto('BTC', exchange='PAXOS', currency='USD')\n",
    "GetRealTimeBars(contract)\n",
    "\n",
    "\"\"\"prob need to add another fn to updateEvent to form the deque or dataframe\"\"\"\n",
    "    \n",
    "    \n",
    "    \n"
   ]
  },
  {
   "cell_type": "code",
   "execution_count": 323,
   "metadata": {},
   "outputs": [
    {
     "name": "stdout",
     "output_type": "stream",
     "text": [
      "deque([RealTimeBar(time=datetime.datetime(2022, 9, 7, 1, 50, 40, tzinfo=datetime.timezone.utc), endTime=-1, open_=18844.375, high=18844.375, low=18844.375, close=18844.375, volume=-1.0, wap=-1.0, count=-1), RealTimeBar(time=datetime.datetime(2022, 9, 7, 1, 50, 45, tzinfo=datetime.timezone.utc), endTime=-1, open_=18844.375, high=18844.375, low=18838.25, close=18839.125, volume=-1.0, wap=-1.0, count=-1), RealTimeBar(time=datetime.datetime(2022, 9, 7, 1, 50, 50, tzinfo=datetime.timezone.utc), endTime=-1, open_=18839.125, high=18839.125, low=18839.125, close=18839.125, volume=-1.0, wap=-1.0, count=-1)], maxlen=3)\n",
      "deque([RealTimeBar(time=datetime.datetime(2022, 9, 7, 1, 50, 45, tzinfo=datetime.timezone.utc), endTime=-1, open_=18844.375, high=18844.375, low=18838.25, close=18839.125, volume=-1.0, wap=-1.0, count=-1), RealTimeBar(time=datetime.datetime(2022, 9, 7, 1, 50, 50, tzinfo=datetime.timezone.utc), endTime=-1, open_=18839.125, high=18839.125, low=18839.125, close=18839.125, volume=-1.0, wap=-1.0, count=-1), RealTimeBar(time=datetime.datetime(2022, 9, 7, 1, 50, 50, tzinfo=datetime.timezone.utc), endTime=-1, open_=18839.125, high=18839.125, low=18839.125, close=18839.125, volume=-1.0, wap=-1.0, count=-1)], maxlen=3)\n",
      "deque([RealTimeBar(time=datetime.datetime(2022, 9, 7, 1, 50, 50, tzinfo=datetime.timezone.utc), endTime=-1, open_=18839.125, high=18839.125, low=18839.125, close=18839.125, volume=-1.0, wap=-1.0, count=-1), RealTimeBar(time=datetime.datetime(2022, 9, 7, 1, 50, 50, tzinfo=datetime.timezone.utc), endTime=-1, open_=18839.125, high=18839.125, low=18839.125, close=18839.125, volume=-1.0, wap=-1.0, count=-1), RealTimeBar(time=datetime.datetime(2022, 9, 7, 1, 50, 55, tzinfo=datetime.timezone.utc), endTime=-1, open_=18839.125, high=18839.125, low=18839.125, close=18839.125, volume=-1.0, wap=-1.0, count=-1)], maxlen=3)\n",
      "deque([RealTimeBar(time=datetime.datetime(2022, 9, 7, 1, 50, 50, tzinfo=datetime.timezone.utc), endTime=-1, open_=18839.125, high=18839.125, low=18839.125, close=18839.125, volume=-1.0, wap=-1.0, count=-1), RealTimeBar(time=datetime.datetime(2022, 9, 7, 1, 50, 55, tzinfo=datetime.timezone.utc), endTime=-1, open_=18839.125, high=18839.125, low=18839.125, close=18839.125, volume=-1.0, wap=-1.0, count=-1), RealTimeBar(time=datetime.datetime(2022, 9, 7, 1, 51, tzinfo=datetime.timezone.utc), endTime=-1, open_=18839.125, high=18839.125, low=18839.125, close=18839.125, volume=-1.0, wap=-1.0, count=-1)], maxlen=3)\n",
      "deque([RealTimeBar(time=datetime.datetime(2022, 9, 7, 1, 50, 55, tzinfo=datetime.timezone.utc), endTime=-1, open_=18839.125, high=18839.125, low=18839.125, close=18839.125, volume=-1.0, wap=-1.0, count=-1), RealTimeBar(time=datetime.datetime(2022, 9, 7, 1, 51, tzinfo=datetime.timezone.utc), endTime=-1, open_=18839.125, high=18839.125, low=18839.125, close=18839.125, volume=-1.0, wap=-1.0, count=-1), RealTimeBar(time=datetime.datetime(2022, 9, 7, 1, 51, 5, tzinfo=datetime.timezone.utc), endTime=-1, open_=18839.125, high=18839.125, low=18839.125, close=18839.125, volume=-1.0, wap=-1.0, count=-1)], maxlen=3)\n",
      "deque([RealTimeBar(time=datetime.datetime(2022, 9, 7, 1, 51, tzinfo=datetime.timezone.utc), endTime=-1, open_=18839.125, high=18839.125, low=18839.125, close=18839.125, volume=-1.0, wap=-1.0, count=-1), RealTimeBar(time=datetime.datetime(2022, 9, 7, 1, 51, 5, tzinfo=datetime.timezone.utc), endTime=-1, open_=18839.125, high=18839.125, low=18839.125, close=18839.125, volume=-1.0, wap=-1.0, count=-1), RealTimeBar(time=datetime.datetime(2022, 9, 7, 1, 51, 10, tzinfo=datetime.timezone.utc), endTime=-1, open_=18839.125, high=18839.125, low=18839.125, close=18839.125, volume=-1.0, wap=-1.0, count=-1)], maxlen=3)\n",
      "deque([RealTimeBar(time=datetime.datetime(2022, 9, 7, 1, 51, 5, tzinfo=datetime.timezone.utc), endTime=-1, open_=18839.125, high=18839.125, low=18839.125, close=18839.125, volume=-1.0, wap=-1.0, count=-1), RealTimeBar(time=datetime.datetime(2022, 9, 7, 1, 51, 10, tzinfo=datetime.timezone.utc), endTime=-1, open_=18839.125, high=18839.125, low=18839.125, close=18839.125, volume=-1.0, wap=-1.0, count=-1), RealTimeBar(time=datetime.datetime(2022, 9, 7, 1, 51, 15, tzinfo=datetime.timezone.utc), endTime=-1, open_=18839.125, high=18839.125, low=18836.375, close=18836.375, volume=-1.0, wap=-1.0, count=-1)], maxlen=3)\n",
      "deque([RealTimeBar(time=datetime.datetime(2022, 9, 7, 1, 51, 10, tzinfo=datetime.timezone.utc), endTime=-1, open_=18839.125, high=18839.125, low=18839.125, close=18839.125, volume=-1.0, wap=-1.0, count=-1), RealTimeBar(time=datetime.datetime(2022, 9, 7, 1, 51, 15, tzinfo=datetime.timezone.utc), endTime=-1, open_=18839.125, high=18839.125, low=18836.375, close=18836.375, volume=-1.0, wap=-1.0, count=-1), RealTimeBar(time=datetime.datetime(2022, 9, 7, 1, 51, 20, tzinfo=datetime.timezone.utc), endTime=-1, open_=18836.375, high=18836.375, low=18833.125, close=18833.125, volume=-1.0, wap=-1.0, count=-1)], maxlen=3)\n",
      "deque([RealTimeBar(time=datetime.datetime(2022, 9, 7, 1, 51, 15, tzinfo=datetime.timezone.utc), endTime=-1, open_=18839.125, high=18839.125, low=18836.375, close=18836.375, volume=-1.0, wap=-1.0, count=-1), RealTimeBar(time=datetime.datetime(2022, 9, 7, 1, 51, 20, tzinfo=datetime.timezone.utc), endTime=-1, open_=18836.375, high=18836.375, low=18833.125, close=18833.125, volume=-1.0, wap=-1.0, count=-1), RealTimeBar(time=datetime.datetime(2022, 9, 7, 1, 51, 25, tzinfo=datetime.timezone.utc), endTime=-1, open_=18833.125, high=18833.125, low=18833.125, close=18833.125, volume=-1.0, wap=-1.0, count=-1)], maxlen=3)\n",
      "deque([RealTimeBar(time=datetime.datetime(2022, 9, 7, 1, 51, 20, tzinfo=datetime.timezone.utc), endTime=-1, open_=18836.375, high=18836.375, low=18833.125, close=18833.125, volume=-1.0, wap=-1.0, count=-1), RealTimeBar(time=datetime.datetime(2022, 9, 7, 1, 51, 25, tzinfo=datetime.timezone.utc), endTime=-1, open_=18833.125, high=18833.125, low=18833.125, close=18833.125, volume=-1.0, wap=-1.0, count=-1), RealTimeBar(time=datetime.datetime(2022, 9, 7, 1, 51, 30, tzinfo=datetime.timezone.utc), endTime=-1, open_=18833.125, high=18833.125, low=18829.625, close=18829.625, volume=-1.0, wap=-1.0, count=-1)], maxlen=3)\n",
      "deque([RealTimeBar(time=datetime.datetime(2022, 9, 7, 1, 51, 25, tzinfo=datetime.timezone.utc), endTime=-1, open_=18833.125, high=18833.125, low=18833.125, close=18833.125, volume=-1.0, wap=-1.0, count=-1), RealTimeBar(time=datetime.datetime(2022, 9, 7, 1, 51, 30, tzinfo=datetime.timezone.utc), endTime=-1, open_=18833.125, high=18833.125, low=18829.625, close=18829.625, volume=-1.0, wap=-1.0, count=-1), RealTimeBar(time=datetime.datetime(2022, 9, 7, 1, 51, 35, tzinfo=datetime.timezone.utc), endTime=-1, open_=18829.625, high=18829.625, low=18829.625, close=18829.625, volume=-1.0, wap=-1.0, count=-1)], maxlen=3)\n",
      "deque([RealTimeBar(time=datetime.datetime(2022, 9, 7, 1, 51, 30, tzinfo=datetime.timezone.utc), endTime=-1, open_=18833.125, high=18833.125, low=18829.625, close=18829.625, volume=-1.0, wap=-1.0, count=-1), RealTimeBar(time=datetime.datetime(2022, 9, 7, 1, 51, 35, tzinfo=datetime.timezone.utc), endTime=-1, open_=18829.625, high=18829.625, low=18829.625, close=18829.625, volume=-1.0, wap=-1.0, count=-1), RealTimeBar(time=datetime.datetime(2022, 9, 7, 1, 51, 40, tzinfo=datetime.timezone.utc), endTime=-1, open_=18829.625, high=18829.625, low=18829.625, close=18829.625, volume=-1.0, wap=-1.0, count=-1)], maxlen=3)\n",
      "deque([RealTimeBar(time=datetime.datetime(2022, 9, 7, 1, 51, 35, tzinfo=datetime.timezone.utc), endTime=-1, open_=18829.625, high=18829.625, low=18829.625, close=18829.625, volume=-1.0, wap=-1.0, count=-1), RealTimeBar(time=datetime.datetime(2022, 9, 7, 1, 51, 40, tzinfo=datetime.timezone.utc), endTime=-1, open_=18829.625, high=18829.625, low=18829.625, close=18829.625, volume=-1.0, wap=-1.0, count=-1), RealTimeBar(time=datetime.datetime(2022, 9, 7, 1, 51, 45, tzinfo=datetime.timezone.utc), endTime=-1, open_=18829.625, high=18829.625, low=18829.625, close=18829.625, volume=-1.0, wap=-1.0, count=-1)], maxlen=3)\n",
      "deque([RealTimeBar(time=datetime.datetime(2022, 9, 7, 1, 51, 40, tzinfo=datetime.timezone.utc), endTime=-1, open_=18829.625, high=18829.625, low=18829.625, close=18829.625, volume=-1.0, wap=-1.0, count=-1), RealTimeBar(time=datetime.datetime(2022, 9, 7, 1, 51, 45, tzinfo=datetime.timezone.utc), endTime=-1, open_=18829.625, high=18829.625, low=18829.625, close=18829.625, volume=-1.0, wap=-1.0, count=-1), RealTimeBar(time=datetime.datetime(2022, 9, 7, 1, 51, 50, tzinfo=datetime.timezone.utc), endTime=-1, open_=18829.625, high=18829.625, low=18829.625, close=18829.625, volume=-1.0, wap=-1.0, count=-1)], maxlen=3)\n"
     ]
    },
    {
     "name": "stdout",
     "output_type": "stream",
     "text": [
      "deque([RealTimeBar(time=datetime.datetime(2022, 9, 7, 1, 51, 45, tzinfo=datetime.timezone.utc), endTime=-1, open_=18829.625, high=18829.625, low=18829.625, close=18829.625, volume=-1.0, wap=-1.0, count=-1), RealTimeBar(time=datetime.datetime(2022, 9, 7, 1, 51, 50, tzinfo=datetime.timezone.utc), endTime=-1, open_=18829.625, high=18829.625, low=18829.625, close=18829.625, volume=-1.0, wap=-1.0, count=-1), RealTimeBar(time=datetime.datetime(2022, 9, 7, 1, 51, 55, tzinfo=datetime.timezone.utc), endTime=-1, open_=18829.625, high=18829.625, low=18829.625, close=18829.625, volume=-1.0, wap=-1.0, count=-1)], maxlen=3)\n"
     ]
    }
   ],
   "source": [
    "whatToShow='MIDPOINT'\n",
    "bars = ib.reqRealTimeBars(contract=contract,\n",
    "                          barSize=5,\n",
    "                          whatToShow=whatToShow,\n",
    "                          useRTH=False)\n",
    "\n",
    "def onBarUpdate(bars, newBar):\n",
    "    d.append(bars[-1])\n",
    "    print(d)\n",
    "    \n",
    "bars.updateEvent += onBarUpdate\n",
    "ib.sleep(5)\n",
    "ib.cancelRealTimeBars(bars)\n"
   ]
  },
  {
   "cell_type": "code",
   "execution_count": 2,
   "metadata": {},
   "outputs": [
    {
     "ename": "NameError",
     "evalue": "name 'ib' is not defined",
     "output_type": "error",
     "traceback": [
      "\u001b[1;31m---------------------------------------------------------------------------\u001b[0m",
      "\u001b[1;31mNameError\u001b[0m                                 Traceback (most recent call last)",
      "\u001b[1;32m<ipython-input-2-0cff10aa7dd0>\u001b[0m in \u001b[0;36m<module>\u001b[1;34m\u001b[0m\n\u001b[1;32m----> 1\u001b[1;33m \u001b[0mib\u001b[0m\u001b[1;33m.\u001b[0m\u001b[0mcancelRealTimeBars\u001b[0m\u001b[1;33m(\u001b[0m\u001b[0mbars\u001b[0m\u001b[1;33m)\u001b[0m\u001b[1;33m\u001b[0m\u001b[1;33m\u001b[0m\u001b[0m\n\u001b[0m\u001b[0;32m      2\u001b[0m \u001b[1;33m\u001b[0m\u001b[0m\n",
      "\u001b[1;31mNameError\u001b[0m: name 'ib' is not defined"
     ]
    }
   ],
   "source": [
    "ib.cancelRealTimeBars(bars)\n",
    "\n"
   ]
  },
  {
   "cell_type": "code",
   "execution_count": 1,
   "metadata": {},
   "outputs": [
    {
     "data": {
      "text/plain": [
       "5"
      ]
     },
     "execution_count": 1,
     "metadata": {},
     "output_type": "execute_result"
    }
   ],
   "source": [
    "5"
   ]
  },
  {
   "cell_type": "code",
   "execution_count": 43,
   "metadata": {},
   "outputs": [],
   "source": [
    "# df_returns = df['returns']\n",
    "# df.head()\n",
    "\n",
    "df_adx = ta.adx(high=df['high'], low=df['low'], close=df['close'])\n",
    "df_adx['date'] = df['date']\n",
    "# rgs:\n",
    "#         high (pd.Series): Series of 'high's\n",
    "#         low (pd.Series): Series of 'low's\n",
    "#         close (pd.Series): Series of 'close's\n",
    "#         length (int): It's period. Default: 14\n",
    "#         lensig (int): Signal Length. Like TradingView's default ADX. Default: length\n",
    "#         scalar (float): How much to magnify. Default: 100\n",
    "#         mamode (str): See ```help(ta.ma)```. Default: 'rma'\n",
    "#         drift (int): The difference period. Default: 1\n",
    "#         offset (int): How many periods to offset the result. Default: 0"
   ]
  },
  {
   "cell_type": "code",
   "execution_count": 54,
   "metadata": {},
   "outputs": [
    {
     "name": "stderr",
     "output_type": "stream",
     "text": [
      "<ipython-input-54-51be97dab127>:7: SettingWithCopyWarning: \n",
      "A value is trying to be set on a copy of a slice from a DataFrame.\n",
      "Try using .loc[row_indexer,col_indexer] = value instead\n",
      "\n",
      "See the caveats in the documentation: https://pandas.pydata.org/pandas-docs/stable/user_guide/indexing.html#returning-a-view-versus-a-copy\n",
      "  df['DM_diff'] = df['DMP'] > df['DMN']\n"
     ]
    },
    {
     "data": {
      "text/html": [
       "<div>\n",
       "<style scoped>\n",
       "    .dataframe tbody tr th:only-of-type {\n",
       "        vertical-align: middle;\n",
       "    }\n",
       "\n",
       "    .dataframe tbody tr th {\n",
       "        vertical-align: top;\n",
       "    }\n",
       "\n",
       "    .dataframe thead th {\n",
       "        text-align: right;\n",
       "    }\n",
       "</style>\n",
       "<table border=\"1\" class=\"dataframe\">\n",
       "  <thead>\n",
       "    <tr style=\"text-align: right;\">\n",
       "      <th></th>\n",
       "      <th>date</th>\n",
       "      <th>open</th>\n",
       "      <th>high</th>\n",
       "      <th>low</th>\n",
       "      <th>close</th>\n",
       "      <th>volume</th>\n",
       "      <th>average</th>\n",
       "      <th>barCount</th>\n",
       "      <th>returns</th>\n",
       "      <th>ADX</th>\n",
       "      <th>DMN</th>\n",
       "      <th>DMP</th>\n",
       "      <th>DM_diff</th>\n",
       "    </tr>\n",
       "  </thead>\n",
       "  <tbody>\n",
       "    <tr>\n",
       "      <th>27</th>\n",
       "      <td>2022-01-11</td>\n",
       "      <td>41723.875</td>\n",
       "      <td>43114.125</td>\n",
       "      <td>41292.125</td>\n",
       "      <td>42797.625</td>\n",
       "      <td>-1.0</td>\n",
       "      <td>-1.0</td>\n",
       "      <td>-1</td>\n",
       "      <td>0.025437</td>\n",
       "      <td>34.701646</td>\n",
       "      <td>29.369654</td>\n",
       "      <td>9.064895</td>\n",
       "      <td>False</td>\n",
       "    </tr>\n",
       "    <tr>\n",
       "      <th>28</th>\n",
       "      <td>2022-01-12</td>\n",
       "      <td>42792.625</td>\n",
       "      <td>44087.875</td>\n",
       "      <td>42492.125</td>\n",
       "      <td>43845.125</td>\n",
       "      <td>-1.0</td>\n",
       "      <td>-1.0</td>\n",
       "      <td>-1</td>\n",
       "      <td>0.024476</td>\n",
       "      <td>35.306702</td>\n",
       "      <td>27.816603</td>\n",
       "      <td>11.812329</td>\n",
       "      <td>False</td>\n",
       "    </tr>\n",
       "    <tr>\n",
       "      <th>29</th>\n",
       "      <td>2022-01-13</td>\n",
       "      <td>43863.625</td>\n",
       "      <td>44451.125</td>\n",
       "      <td>42351.125</td>\n",
       "      <td>42814.125</td>\n",
       "      <td>-1.0</td>\n",
       "      <td>-1.0</td>\n",
       "      <td>-1</td>\n",
       "      <td>-0.023515</td>\n",
       "      <td>35.371692</td>\n",
       "      <td>25.877303</td>\n",
       "      <td>12.194749</td>\n",
       "      <td>False</td>\n",
       "    </tr>\n",
       "    <tr>\n",
       "      <th>30</th>\n",
       "      <td>2022-01-14</td>\n",
       "      <td>42743.875</td>\n",
       "      <td>43434.625</td>\n",
       "      <td>41780.125</td>\n",
       "      <td>43141.875</td>\n",
       "      <td>-1.0</td>\n",
       "      <td>-1.0</td>\n",
       "      <td>-1</td>\n",
       "      <td>0.007655</td>\n",
       "      <td>35.753328</td>\n",
       "      <td>26.359538</td>\n",
       "      <td>11.513686</td>\n",
       "      <td>False</td>\n",
       "    </tr>\n",
       "    <tr>\n",
       "      <th>31</th>\n",
       "      <td>2022-01-17</td>\n",
       "      <td>43247.375</td>\n",
       "      <td>43485.750</td>\n",
       "      <td>41878.125</td>\n",
       "      <td>42117.625</td>\n",
       "      <td>-1.0</td>\n",
       "      <td>-1.0</td>\n",
       "      <td>-1</td>\n",
       "      <td>-0.023741</td>\n",
       "      <td>36.021536</td>\n",
       "      <td>24.904118</td>\n",
       "      <td>11.053557</td>\n",
       "      <td>False</td>\n",
       "    </tr>\n",
       "  </tbody>\n",
       "</table>\n",
       "</div>"
      ],
      "text/plain": [
       "          date       open       high        low      close  volume  average  \\\n",
       "27  2022-01-11  41723.875  43114.125  41292.125  42797.625    -1.0     -1.0   \n",
       "28  2022-01-12  42792.625  44087.875  42492.125  43845.125    -1.0     -1.0   \n",
       "29  2022-01-13  43863.625  44451.125  42351.125  42814.125    -1.0     -1.0   \n",
       "30  2022-01-14  42743.875  43434.625  41780.125  43141.875    -1.0     -1.0   \n",
       "31  2022-01-17  43247.375  43485.750  41878.125  42117.625    -1.0     -1.0   \n",
       "\n",
       "    barCount   returns        ADX        DMN        DMP  DM_diff  \n",
       "27        -1  0.025437  34.701646  29.369654   9.064895    False  \n",
       "28        -1  0.024476  35.306702  27.816603  11.812329    False  \n",
       "29        -1 -0.023515  35.371692  25.877303  12.194749    False  \n",
       "30        -1  0.007655  35.753328  26.359538  11.513686    False  \n",
       "31        -1 -0.023741  36.021536  24.904118  11.053557    False  "
      ]
     },
     "execution_count": 54,
     "metadata": {},
     "output_type": "execute_result"
    }
   ],
   "source": [
    "df_adx.head()\n",
    "df_adx = ta.adx(high=df['high'], low=df['low'], close=df['close'])\n",
    "df['ADX'] = df_adx['ADX_14']\n",
    "df['DMN'] = df_adx['DMN_14']\n",
    "df['DMP'] = df_adx['DMP_14']\n",
    "df.tail()\n",
    "df = df.dropna()\n",
    "df['DM_diff'] = df['DMP'] > df['DMN']\n",
    "df.head()"
   ]
  },
  {
   "cell_type": "code",
   "execution_count": 57,
   "metadata": {},
   "outputs": [],
   "source": [
    "# help(ta.adx)"
   ]
  },
  {
   "cell_type": "code",
   "execution_count": 11,
   "metadata": {},
   "outputs": [
    {
     "data": {
      "image/png": "[encoded data removed]",
      "text/plain": [
       "<Figure size 432x288 with 1 Axes>"
      ]
     },
     "metadata": {
      "needs_background": "light"
     },
     "output_type": "display_data"
    }
   ],
   "source": [
    "plot_acf(df_returns)\n",
    "plt.show()"
   ]
  },
  {
   "cell_type": "code",
   "execution_count": null,
   "metadata": {},
   "outputs": [],
   "source": [
    "d = deque(maxlen=5)d = deque(maxlen=5)d = deque(maxlen=5)"
   ]
  },
  {
   "cell_type": "code",
   "execution_count": 12,
   "metadata": {},
   "outputs": [
    {
     "data": {
      "image/png": "[encoded data removed]",
      "text/plain": [
       "<Figure size 432x288 with 1 Axes>"
      ]
     },
     "metadata": {
      "needs_background": "light"
     },
     "output_type": "display_data"
    }
   ],
   "source": [
    "pd.plotting.lag_plot(df_returns)\n",
    "plt.show()"
   ]
  },
  {
   "cell_type": "code",
   "execution_count": 23,
   "metadata": {},
   "outputs": [],
   "source": [
    "l=len(df_returns)\n",
    "p=0.7\n",
    "# display(df_returns[0:int(p*l)], df_returns[int(p*l):l-1])\n"
   ]
  },
  {
   "cell_type": "code",
   "execution_count": 26,
   "metadata": {},
   "outputs": [
    {
     "name": "stderr",
     "output_type": "stream",
     "text": [
      "C:\\Users\\kushwaha\\Anaconda3\\lib\\site-packages\\statsmodels\\tsa\\ar_model.py:248: FutureWarning: The parameter names will change after 0.12 is released. Set old_names to False to use the new names now. Set old_names to True to use the old names. \n",
      "  warnings.warn(\n"
     ]
    },
    {
     "name": "stdout",
     "output_type": "stream",
     "text": [
      "coefficients: [ 0.00045635 -0.13412065 -0.23278757  0.16762064  0.04256054  0.30334197]\n",
      "predicted:-0.0007482044417033299, forecast:0.01299137641393222\n",
      "predicted:0.0009115870396779917, forecast:0.0031061623101424907\n",
      "predicted:0.0012795025144278773, forecast:0.013341380848662876\n",
      "predicted:0.0004966451981069644, forecast:-0.001522708556689789\n",
      "predicted:0.0015093253820092575, forecast:-0.0012967948418688424\n",
      "predicted:0.00016461455260422103, forecast:0.004103192699433267\n",
      "predicted:0.0004971487243727409, forecast:-0.001644915504104505\n",
      "predicted:0.0010136124771255293, forecast:0.001813424522680851\n",
      "predicted:0.0004471596435581345, forecast:-0.0004861524139535556\n",
      "predicted:0.000708602694101597, forecast:-0.006509331939708485\n",
      "predicted:0.0004982165530166671, forecast:-0.0026041259771982794\n",
      "predicted:0.0004934763427811265, forecast:0.0013576810807141015\n",
      "predicted:0.0007194672283371007, forecast:-0.0017521628259883348\n",
      "predicted:0.0004942938259872747, forecast:1.0447846960026652e-05\n",
      "predicted:0.0005414443031356416, forecast:0.006540283865036134\n",
      "predicted:0.0005613980660052131, forecast:-0.009559842433867427\n",
      "predicted:0.0005181824880758803, forecast:-0.0017082462180162405\n",
      "predicted:0.0005862060134045888, forecast:0.0002519513104093374\n",
      "predicted:0.0005241895728298585, forecast:-0.0007976448486310961\n",
      "predicted:0.0005245803649599932, forecast:-0.0024788744229526927\n",
      "test rmse: 0.005457655926821896\n"
     ]
    },
    {
     "data": {
      "image/png": "[encoded data removed]",
      "text/plain": [
       "<Figure size 432x288 with 1 Axes>"
      ]
     },
     "metadata": {
      "needs_background": "light"
     },
     "output_type": "display_data"
    },
    {
     "name": "stderr",
     "output_type": "stream",
     "text": [
      "Peer closed connection.\n"
     ]
    }
   ],
   "source": [
    "\n",
    "def AutoRegModel(X, lags):\n",
    "    test_pct = 0.7\n",
    "    train, test = X[0:int(test_pct*len(X))], X[int(test_pct*len(X)):len(X)-1]\n",
    "    \n",
    "    model = AutoReg(train, lags=lags)\n",
    "    model_fit = model.fit()\n",
    "    print('coefficients: {}'.format(model_fit.params))\n",
    "    \n",
    "    predictions = model_fit.predict(start=len(train), end=len(train) + len(test) - 1, dynamic=False)\n",
    "    \n",
    "    for i in range(len(predictions)):\n",
    "        print('predicted:{}, forecast:{}'.format(predictions[i], test[i]))\n",
    "    rmse = sqrt(mean_squared_error(test, predictions))\n",
    "    print('test rmse: {}'.format(rmse))\n",
    "          \n",
    "    plt.plot(test)\n",
    "    plt.plot(predictions, color='red')\n",
    "    plt.show\n",
    "          \n",
    "                                             \n",
    "AutoRegModel(df_returns.values, 5)    \n",
    "    \n",
    "    "
   ]
  },
  {
   "cell_type": "code",
   "execution_count": 52,
   "metadata": {},
   "outputs": [],
   "source": [
    "def GetMovingAverages(df, low, high):\n",
    "    df[str(low)+'_average'] = df.close.rolling(low).mean()\n",
    "    df[str(high)+'_average'] = df.close.rolling(high).mean()\n",
    "    df2 = df.dropna()\n",
    "    df2['MA_diff'] = df[str(high)+'_average'] > df[str(low)+'_average']\n",
    "    return df2\n",
    "    \n",
    "    "
   ]
  },
  {
   "cell_type": "code",
   "execution_count": 111,
   "metadata": {},
   "outputs": [
    {
     "name": "stderr",
     "output_type": "stream",
     "text": [
      "<ipython-input-52-7184740e6041>:5: SettingWithCopyWarning: \n",
      "A value is trying to be set on a copy of a slice from a DataFrame.\n",
      "Try using .loc[row_indexer,col_indexer] = value instead\n",
      "\n",
      "See the caveats in the documentation: https://pandas.pydata.org/pandas-docs/stable/user_guide/indexing.html#returning-a-view-versus-a-copy\n",
      "  df2['MA_diff'] = df[str(high)+'_average'] > df[str(low)+'_average']\n"
     ]
    }
   ],
   "source": [
    "df_MA =  GetMovingAverages(df, 5, 10)"
   ]
  },
  {
   "cell_type": "code",
   "execution_count": 112,
   "metadata": {},
   "outputs": [
    {
     "data": {
      "text/plain": [
       "<AxesSubplot:>"
      ]
     },
     "execution_count": 112,
     "metadata": {},
     "output_type": "execute_result"
    },
    {
     "data": {
      "image/png": "[encoded data removed]",
      "text/plain": [
       "<Figure size 432x288 with 1 Axes>"
      ]
     },
     "metadata": {
      "needs_background": "light"
     },
     "output_type": "display_data"
    }
   ],
   "source": [
    "df_MA['close'].plot(legend=True)\n",
    "df_MA['5_average'].plot(legend=True)\n",
    "df_MA['10_average'].plot(legend=True)"
   ]
  },
  {
   "cell_type": "code",
   "execution_count": 102,
   "metadata": {},
   "outputs": [],
   "source": [
    "\n",
    "def PlaceOrder(order_type, USD_balance, BTC_balance, price=None, quantity=None):\n",
    "        \n",
    "    if order_type=='sell':\n",
    "        print('{} @ {}'.format(order_type, price))\n",
    "        BTC_balance -= quantity\n",
    "        USD_balance += quantity * price\n",
    "    \n",
    "    elif order_type=='buy':\n",
    "        print('{} @ {}'.format(order_type, price))\n",
    "        BTC_balance += quantity\n",
    "        USD_balance -= quantity * price\n",
    "    \n",
    "    else:\n",
    "        return USD_balance, BTC_balance   \n",
    " \n",
    "        \n",
    "    print('USD balance: {}'.format(USD_balance))\n",
    "    print('BTC balance: {}'.format(BTC_balance))\n",
    "    account_balance = USD_balance + BTC_balance * price\n",
    "    print('Account balance: {}\\n'.format(account_balance))\n",
    "    \n",
    "    \n",
    "    return USD_balance, BTC_balance   \n",
    "    \n",
    "    \n",
    "    \n",
    "def GetSignals(df):\n",
    "    USD_balance = 1000\n",
    "    BTC_balance = 0\n",
    "    \n",
    "    for count, row in enumerate(df.iterrows()):\n",
    "        if count==0:\n",
    "            sentiment = row[1]['MA_diff']\n",
    "        else:\n",
    "            if row[1]['MA_diff'] == sentiment:\n",
    "                USD_balance, BTC_balance = PlaceOrder('no change', USD_balance, BTC_balance)\n",
    "            else:\n",
    "                if row[1]['MA_diff']:\n",
    "                    USD_balance, BTC_balance = PlaceOrder('sell', USD_balance, BTC_balance, row[1]['close'],1)\n",
    "                else:\n",
    "                    USD_balance, BTC_balance = PlaceOrder('buy', USD_balance, BTC_balance, row[1]['close'],1)\n",
    "                sentiment = row[1]['MA_diff']\n",
    "    print('USD balance: {}'.format(USD_balance))\n",
    "    print('BTC balance: {}'.format(BTC_balance))\n",
    "  \n",
    "    account_value = USD_balance + BTC_balance * row[1]['close']\n",
    "    print('Account value: {}'.format(account_value))\n",
    "    "
   ]
  },
  {
   "cell_type": "code",
   "execution_count": 113,
   "metadata": {},
   "outputs": [
    {
     "name": "stdout",
     "output_type": "stream",
     "text": [
      "buy @ 23338.875\n",
      "USD balance: -22338.875\n",
      "BTC balance: 1\n",
      "Account balance: 1000.0\n",
      "\n",
      "sell @ 22966.625\n",
      "USD balance: 627.75\n",
      "BTC balance: 0\n",
      "Account balance: 627.75\n",
      "\n",
      "buy @ 23194.375\n",
      "USD balance: -22566.625\n",
      "BTC balance: 1\n",
      "Account balance: 627.75\n",
      "\n",
      "sell @ 22855.125\n",
      "USD balance: 288.5\n",
      "BTC balance: 0\n",
      "Account balance: 288.5\n",
      "\n",
      "buy @ 23026.625\n",
      "USD balance: -22738.125\n",
      "BTC balance: 1\n",
      "Account balance: 288.5\n",
      "\n",
      "sell @ 23106.375\n",
      "USD balance: 368.25\n",
      "BTC balance: 0\n",
      "Account balance: 368.25\n",
      "\n",
      "USD balance: 368.25\n",
      "BTC balance: 0\n",
      "Account value: 368.25\n"
     ]
    }
   ],
   "source": [
    "GetSignals(df_MA)\n",
    "# df_MA"
   ]
  },
  {
   "cell_type": "code",
   "execution_count": 45,
   "metadata": {},
   "outputs": [],
   "source": [
    "def Backtest():\n",
    "    USD_balance = 1000\n",
    "    BTC_balance = 0\n",
    "    \n",
    "    "
   ]
  },
  {
   "cell_type": "code",
   "execution_count": 4,
   "metadata": {},
   "outputs": [],
   "source": [
    "from ib_insync import *\n",
    "from collections import deque\n",
    "util.startLoop()\n",
    "\n",
    "contract_dict = {'Stock':Stock, 'Crypto':Crypto}\n",
    "\n",
    "class Algo():\n",
    "    def __init__(self, client, addr, port, client_id):\n",
    "        self.client = client\n",
    "        self.addr = addr\n",
    "        self.port = port\n",
    "        self.client_id = client_id\n",
    "        \n",
    "        self.client.connect(addr, port, client_id)\n",
    "        \n",
    "    def SetPaperBalances(self):\n",
    "        self.USD_balance = 1000\n",
    "        self.BTC_balance = 0\n",
    "        \n",
    "        print('USD balance: {}'.format(self.USD_balance))\n",
    "        print('BTC balance: {}'.format(self.BTC_balance))\n",
    "    \n",
    "    def GetContract(self, contract_type, ticker, exchange, currency):\n",
    "        return contract_dict[contract_type](ticker, exchange, currency)\n",
    "    \n",
    "    def GetHistoricalData(self, contract, duration='1 D', bar_size='1 hour'):\n",
    "        bars = ib.reqHistoricalData(contract=contract, endDateTime='', durationStr=duration,\n",
    "                                    barSizeSetting=bar_size, whatToShow='MIDPOINT', useRTH=True)\n",
    "        return bars\n",
    "    \n",
    "    def BuildEMA(self, slow_period, fast_period):\n",
    "        \"\"\"using deques instead of dataframes\"\"\"\n",
    "        self.slow_ema = deque(maxlen=slow_period)\n",
    "        self.fast_ema = deque(maxlen=fast_period)\n",
    "        \n",
    "        \"\"\"need to employ scanner to pull in data\"\"\"\n",
    "        \n",
    "           \n",
    "    def GetDMI(self, df):\n",
    "        df_adx = ta.adx(high=df['high'], low=df['low'], close=df['close'])\n",
    "        df['ADX'] = df_adx['ADX_14']\n",
    "        df['DMN'] = df_adx['DMN_14']\n",
    "        df['DMP'] = df_adx['DMP_14']\n",
    "        df['DM_diff'] = df['DMP'] > df['DMN']\n",
    "        return df\n",
    "        \n",
    "    \n",
    "    \n",
    "    def GetMovingAverages(self, df, low, high, plot=True):\n",
    "#         print('length:', len(df))\n",
    "        df_MA = df.copy()\n",
    "        if len(df) < high:\n",
    "            return\n",
    "#         display('in mov avg fn', df_MA)\n",
    "        \n",
    "        df_MA[str(low)+'_average'] = df.close.rolling(low).mean()\n",
    "        df_MA[str(high)+'_average'] = df.close.rolling(high).mean()\n",
    "#         df_MA.dropna(inplace=True)\n",
    "        df_MA['MA_diff'] = df_MA[str(high)+'_average'] > df_MA[str(low)+'_average']\n",
    "        \n",
    "        if plot:\n",
    "            df_MA['close'].plot(legend=True)\n",
    "            df_MA[str(low)+'_average'].plot(legend=True)\n",
    "            df_MA[str(high)+'_average'].plot(legend=True)\n",
    "        \n",
    "#         display('end of mov avg', df_MA)\n",
    "        return df_MA\n",
    "    \n",
    "    \n",
    "    def PlacePaperOrder(self, order_type, price=None, quantity=None, date=None):\n",
    "        print('placing order:', order_type)\n",
    "\n",
    "        if order_type=='sell':\n",
    "            print(date)\n",
    "            print('{} @ {}'.format(order_type, price))\n",
    "            self.BTC_balance -= quantity\n",
    "            self.USD_balance += quantity * price\n",
    "            \n",
    "\n",
    "        elif order_type=='buy':\n",
    "            print(date)\n",
    "            print('{} @ {}'.format(order_type, price))\n",
    "            self.BTC_balance += quantity\n",
    "            self.USD_balance -= quantity * price\n",
    "\n",
    "        else:\n",
    "            return \n",
    "\n",
    "\n",
    "        print('USD balance: {}'.format(self.USD_balance))\n",
    "        print('BTC balance: {}'.format(self.BTC_balance))\n",
    "        account_balance = self.USD_balance + self.BTC_balance * price\n",
    "        print('Account balance: {}\\n'.format(account_balance))       \n",
    "\n",
    "    def RunDMI(self, df, ADX_MIN=20):\n",
    "        for count, row in enumerate(df.iterrows()):\n",
    "            if count==0:\n",
    "                sentiment = row[1]['DM_diff']\n",
    "            else:\n",
    "                if (row[1]['ADX'] >= ADX_MIN):\n",
    "                    if row[1]['DM_diff'] == sentiment:\n",
    "                        self.PlacePaperOrder('no change')\n",
    "                    else:\n",
    "                        if row[1]['DM_diff']:\n",
    "                            self.PlacePaperOrder('buy',row[1]['close'],1, row[1]['date'])\n",
    "                        else:\n",
    "                            self.PlacePaperOrder('sell', row[1]['close'],1, row[1]['date'])\n",
    "                    sentiment = row[1]['DM_diff']\n",
    "                else: continue                                     \n",
    "                        \n",
    "    \n",
    "    def RunStrategy(self, df):   \n",
    "\n",
    "        for count, row in enumerate(df.iterrows()):\n",
    "            if count==0:\n",
    "                sentiment = row[1]['MA_diff']\n",
    "            else:\n",
    "                if row[1]['MA_diff'] == sentiment:\n",
    "                    self.PlacePaperOrder('no change')\n",
    "                else:\n",
    "                    if row[1]['MA_diff']:\n",
    "                        self.PlacePaperOrder('sell',row[1]['close'],1)\n",
    "                    else:\n",
    "                        self.PlacePaperOrder('buy', row[1]['close'],1)\n",
    "                    sentiment = row[1]['MA_diff']\n",
    "\n",
    "\n",
    "def Main(client_id):\n",
    "    \n",
    "    ib = IB()\n",
    "    algo = Algo(ib, '127.0.0.1', 7497, client_id=client_id)\n",
    "    \n",
    "    contract = algo.GetContract('Crypto','BTC', 'PAXOS', 'USD')\n",
    "    \n",
    "    bars = algo.GetHistoricalData(contract, '180 D', '1 day')\n",
    "    \n",
    "    df = util.df(bars)\n",
    "    \n",
    "    algo.SetPaperBalances()\n",
    "    \n",
    "#     df_MA =  algo.GetMovingAverages(df, 10, 30, True)\n",
    "    df_DMI = algo.GetDMI(df)\n",
    "    \n",
    "#     algo.RunStrategy(df_MA)\n",
    "    algo.RunDMI(df_DMI)\n",
    "    \n",
    "    print('USD balance: {}'.format(algo.USD_balance))\n",
    "    print('BTC balance: {}'.format(algo.BTC_balance))\n",
    "\n",
    "    account_value = algo.USD_balance + algo.BTC_balance * bars[-1].close\n",
    "    print('Account value: {}'.format(account_value))\n",
    "    \n",
    "    "
   ]
  },
  {
   "cell_type": "code",
   "execution_count": 21,
   "metadata": {},
   "outputs": [
    {
     "name": "stdout",
     "output_type": "stream",
     "text": [
      "USD balance: 1000\n",
      "BTC balance: 0\n",
      "[RealTimeBar(time=datetime.datetime(2022, 9, 22, 2, 22, tzinfo=datetime.timezone.utc), endTime=-1, open_=18545.625, high=18545.625, low=18545.625, close=18545.625, volume=-1.0, wap=-1.0, count=-1)]\n",
      "on bar update RealTimeBar(time=datetime.datetime(2022, 9, 22, 2, 22, tzinfo=datetime.timezone.utc), endTime=-1, open_=18545.625, high=18545.625, low=18545.625, close=18545.625, volume=-1.0, wap=-1.0, count=-1)\n",
      "USD balance: 1000\n",
      "BTC balance: 0\n",
      "Account Value: 1000.0\n",
      "BTC Price:18545.625\n",
      "[RealTimeBar(time=datetime.datetime(2022, 9, 22, 2, 22, tzinfo=datetime.timezone.utc), endTime=-1, open_=18545.625, high=18545.625, low=18545.625, close=18545.625, volume=-1.0, wap=-1.0, count=-1), RealTimeBar(time=datetime.datetime(2022, 9, 22, 2, 22, 5, tzinfo=datetime.timezone.utc), endTime=-1, open_=18545.625, high=18545.625, low=18545.625, close=18545.625, volume=-1.0, wap=-1.0, count=-1)]\n",
      "on bar update RealTimeBar(time=datetime.datetime(2022, 9, 22, 2, 22, 5, tzinfo=datetime.timezone.utc), endTime=-1, open_=18545.625, high=18545.625, low=18545.625, close=18545.625, volume=-1.0, wap=-1.0, count=-1)\n",
      "USD balance: 1000\n",
      "BTC balance: 0\n",
      "Account Value: 1000.0\n",
      "BTC Price:18545.625\n",
      "[RealTimeBar(time=datetime.datetime(2022, 9, 22, 2, 22, tzinfo=datetime.timezone.utc), endTime=-1, open_=18545.625, high=18545.625, low=18545.625, close=18545.625, volume=-1.0, wap=-1.0, count=-1), RealTimeBar(time=datetime.datetime(2022, 9, 22, 2, 22, 5, tzinfo=datetime.timezone.utc), endTime=-1, open_=18545.625, high=18545.625, low=18545.625, close=18545.625, volume=-1.0, wap=-1.0, count=-1), RealTimeBar(time=datetime.datetime(2022, 9, 22, 2, 22, 10, tzinfo=datetime.timezone.utc), endTime=-1, open_=18545.625, high=18545.625, low=18545.625, close=18545.625, volume=-1.0, wap=-1.0, count=-1)]\n",
      "on bar update RealTimeBar(time=datetime.datetime(2022, 9, 22, 2, 22, 10, tzinfo=datetime.timezone.utc), endTime=-1, open_=18545.625, high=18545.625, low=18545.625, close=18545.625, volume=-1.0, wap=-1.0, count=-1)\n",
      "USD balance: 1000\n",
      "BTC balance: 0\n",
      "Account Value: 1000.0\n",
      "BTC Price:18545.625\n",
      "[RealTimeBar(time=datetime.datetime(2022, 9, 22, 2, 22, tzinfo=datetime.timezone.utc), endTime=-1, open_=18545.625, high=18545.625, low=18545.625, close=18545.625, volume=-1.0, wap=-1.0, count=-1), RealTimeBar(time=datetime.datetime(2022, 9, 22, 2, 22, 5, tzinfo=datetime.timezone.utc), endTime=-1, open_=18545.625, high=18545.625, low=18545.625, close=18545.625, volume=-1.0, wap=-1.0, count=-1), RealTimeBar(time=datetime.datetime(2022, 9, 22, 2, 22, 10, tzinfo=datetime.timezone.utc), endTime=-1, open_=18545.625, high=18545.625, low=18545.625, close=18545.625, volume=-1.0, wap=-1.0, count=-1), RealTimeBar(time=datetime.datetime(2022, 9, 22, 2, 22, 15, tzinfo=datetime.timezone.utc), endTime=-1, open_=18545.625, high=18546.875, low=18545.625, close=18546.875, volume=-1.0, wap=-1.0, count=-1)]\n",
      "on bar update RealTimeBar(time=datetime.datetime(2022, 9, 22, 2, 22, 15, tzinfo=datetime.timezone.utc), endTime=-1, open_=18545.625, high=18546.875, low=18545.625, close=18546.875, volume=-1.0, wap=-1.0, count=-1)\n",
      "USD balance: 1000\n",
      "BTC balance: 0\n",
      "Account Value: 1000.0\n",
      "BTC Price:18546.875\n",
      "[RealTimeBar(time=datetime.datetime(2022, 9, 22, 2, 22, tzinfo=datetime.timezone.utc), endTime=-1, open_=18545.625, high=18545.625, low=18545.625, close=18545.625, volume=-1.0, wap=-1.0, count=-1), RealTimeBar(time=datetime.datetime(2022, 9, 22, 2, 22, 5, tzinfo=datetime.timezone.utc), endTime=-1, open_=18545.625, high=18545.625, low=18545.625, close=18545.625, volume=-1.0, wap=-1.0, count=-1), RealTimeBar(time=datetime.datetime(2022, 9, 22, 2, 22, 10, tzinfo=datetime.timezone.utc), endTime=-1, open_=18545.625, high=18545.625, low=18545.625, close=18545.625, volume=-1.0, wap=-1.0, count=-1), RealTimeBar(time=datetime.datetime(2022, 9, 22, 2, 22, 15, tzinfo=datetime.timezone.utc), endTime=-1, open_=18545.625, high=18546.875, low=18545.625, close=18546.875, volume=-1.0, wap=-1.0, count=-1), RealTimeBar(time=datetime.datetime(2022, 9, 22, 2, 22, 20, tzinfo=datetime.timezone.utc), endTime=-1, open_=18546.875, high=18546.875, low=18546.875, close=18546.875, volume=-1.0, wap=-1.0, count=-1)]\n",
      "on bar update RealTimeBar(time=datetime.datetime(2022, 9, 22, 2, 22, 20, tzinfo=datetime.timezone.utc), endTime=-1, open_=18546.875, high=18546.875, low=18546.875, close=18546.875, volume=-1.0, wap=-1.0, count=-1)\n",
      "USD balance: 1000\n",
      "BTC balance: 0\n",
      "Account Value: 1000.0\n",
      "BTC Price:18546.875\n"
     ]
    },
    {
     "data": {
      "image/png": "[encoded data removed]",
      "text/plain": [
       "<Figure size 432x288 with 1 Axes>"
      ]
     },
     "metadata": {
      "needs_background": "light"
     },
     "output_type": "display_data"
    }
   ],
   "source": [
    "\"\"\"real time updates\"\"\"\n",
    "\n",
    "from collections import deque\n",
    "import pandas as pd\n",
    "from enum import Enum\n",
    "\n",
    "Sentiment = Enum('Sentiment','BEAR NEUTRAL BULL')\n",
    "Signal = Enum('Signal','BUY SELL')\n",
    "\n",
    "class Strategy():\n",
    "    def __init__(self, account: Account, ib, client_id: int, paper_trading: bool = True):\n",
    "        self.client_id = client_id\n",
    "        self.ib = ib     \n",
    "        self.algo = Algo(ib, '127.0.0.1', 7497, client_id=self.client_id)\n",
    "        self.algo.SetPaperBalances()\n",
    "        self.contract = Crypto('BTC', exchange='PAXOS', currency='USD')\n",
    "        self.account = account\n",
    "        self.paper_trading=paper_trading\n",
    "        self.sentiment = dict()\n",
    "        self.signal = dict()\n",
    "        self.trades = list()\n",
    "        self.low_deque = deque()\n",
    "        self.high_deque = deque()\n",
    "    # contract = Forex('EURUSD')    \n",
    "\n",
    "    def onBarUpdate(self, bars, newBar):\n",
    "        print(bars)\n",
    "        print('on bar update', bars[-1])\n",
    "        self.low_deque.append(bars[-1].close)\n",
    "        self.high_deque.append(bars[-1].close)\n",
    "        self.account.updateBTCPrice(BTC_price=bars[-1].close)\n",
    "        self.MovingAverage(self.low_deque, self.high_deque, bars[-1].close)\n",
    "        self.SignalProcess('MA', date=bars[-1].time)\n",
    "    \n",
    "\n",
    "    def MovingAverage(self, low_deque, high_deque, closing_value):\n",
    "        if len(high_deque) < high_deque.maxlen:\n",
    "            return\n",
    "        low_avg = sum(low_deque)/len(low_deque)\n",
    "        high_avg = sum(high_deque)/len(high_deque)\n",
    "\n",
    "\n",
    "        if low_avg < high_avg:\n",
    "            current_sentiment_MA = Sentiment.BEAR\n",
    "        elif low_avg > high_avg:\n",
    "            current_sentiment_MA = Sentiment.BULL\n",
    "        else:\n",
    "            current_sentiment_MA = Sentiment.NEUTRAL\n",
    "        \n",
    "\n",
    "        if self.sentiment.get('MA') is None:\n",
    "            print('1st change')\n",
    "            self.sentiment['MA'] = current_sentiment_MA\n",
    "            return\n",
    "\n",
    "        if self.sentiment['MA'] != current_sentiment_MA:\n",
    "            print('previous sentiment:', self.sentiment.get('MA'))\n",
    "            print('current sentiment:', current_sentiment_MA)\n",
    "            \n",
    "            if current_sentiment_MA == Sentiment.BEAR:\n",
    "                self.signal['MA'] = Signal.SELL               \n",
    "\n",
    "            elif current_sentiment_MA == Sentiment.BULL:\n",
    "                self.signal['MA'] = Signal.BUY\n",
    "        else:\n",
    "            print('no trades')\n",
    "                              \n",
    "        self.sentiment['MA'] = current_sentiment_MA\n",
    "        print('current sentiment: ', current_sentiment_MA)\n",
    "        \n",
    "    def SignalProcess(self, *signals, date):\n",
    "        signal_list = [values for keys,values in self.signal.items() if keys in signals]\n",
    "\n",
    "        if len(set(signal_list))==1 and signal_list[0] is not None: #i.e. all signals are the same\n",
    "            print(date)\n",
    "            signal = signal_list[0]\n",
    "            print(str(signal) + ' @ ' + str(self.account.BTC_price))\n",
    "            order = self.account.tradeBTC(signal=signal, quantity=1, date=date)\n",
    "            \n",
    "            if not self.paper_trading:\n",
    "                self.trades.append(self.ib.placeOrder(self.contract, order))\n",
    "            \n",
    "            self.ClearSignals(*signals)                \n",
    "        \n",
    "        self.account.updateBalance(date=date)\n",
    "        print(self.account)\n",
    "    \n",
    "    def ClearSignals(self, *signals):\n",
    "        for s in signals:\n",
    "            self.signal[s]=None                  \n",
    "\n",
    "    \n",
    "    def RunStrategy(self):       \n",
    "       \n",
    "        low, high = 5, 10\n",
    "        self.low_deque = deque(maxlen=low)\n",
    "        self.high_deque = deque(maxlen=high)\n",
    "\n",
    "        bars = ib.reqRealTimeBars(contract=self.contract,\n",
    "                                  barSize=5,\n",
    "                                  whatToShow='MIDPOINT',\n",
    "                                 useRTH=False)\n",
    "        bars.updateEvent += self.onBarUpdate\n",
    "\n",
    "\n",
    "        ib.sleep(20)\n",
    "        ib.cancelRealTimeBars(bars)        \n",
    "    \n",
    "        \n",
    "    def Backtest(self, duration='1 D', barSize='5 secs'):\n",
    "        self.paper_trading = True\n",
    "        bars = ib.reqHistoricalData(\n",
    "            self.contract, endDateTime='', durationStr=duration,\n",
    "            barSizeSetting=barSize, whatToShow='MIDPOINT', useRTH=True)\n",
    "        \n",
    "        df = util.df(bars)\n",
    "        \n",
    "        low, high = 5, 10\n",
    "        low_deque = deque(maxlen=low)\n",
    "        high_deque = deque(maxlen=high)\n",
    "        for row in df.itertuples(name='bar', index=False):            \n",
    "            low_deque.append(row.close)\n",
    "            high_deque.append(row.close)\n",
    "            self.account.updateBTCPrice(BTC_price=row.close)\n",
    "            self.MovingAverage(low_deque, high_deque, row.close)\n",
    "            self.SignalProcess('MA', date=row.date)\n",
    "    \n",
    "\"\"\"shouldn't be placing actual orders when running backtest\"\"\"\n",
    "      \n",
    "ib = IB()\n",
    "account = Account(USD_balance=1000, BTC_balance=0)\n",
    "s = Strategy(account, ib, 9, paper_trading=True)\n",
    "s.RunStrategy()\n",
    "# s.Backtest(duration='240 s',\n",
    "#           barSize='5 secs')\n",
    "account.plotBalance()\n",
    "\n"
   ]
  },
  {
   "cell_type": "code",
   "execution_count": 18,
   "metadata": {},
   "outputs": [],
   "source": [
    "account()\n"
   ]
  },
  {
   "cell_type": "code",
   "execution_count": 11,
   "metadata": {},
   "outputs": [],
   "source": [
    "import datetime\n",
    "class Account():\n",
    "    def __init__(self, USD_balance: int, BTC_balance: int, BTC_price: float = None):\n",
    "        self.USD_balance = USD_balance\n",
    "        self.BTC_balance = BTC_balance\n",
    "        self.BTC_price = BTC_price\n",
    "        \n",
    "#         if self.BTC_balance==0:\n",
    "#             self.total = self.USD_balance\n",
    "#         else:\n",
    "#             self.total = self.USD_balance + self.BTC_balance * self.BTC_price\n",
    "            \n",
    "        self.df_account = pd.DataFrame(columns=['Date', 'USD', 'BTC', 'Account Value', 'BTC Px'])\n",
    "        \n",
    "    def __call__(self):\n",
    "        return self.returnBalance()\n",
    "        \n",
    "    def __repr__(self):\n",
    "        return 'USD balance: '+ str(self.USD_balance) + '\\nBTC balance: ' + str(self.BTC_balance) + '\\nAccount Value: '+str(self.USD_balance + self.BTC_balance * self.BTC_price) + '\\nBTC Price:' + str(self.BTC_price)\n",
    "        \n",
    "        \n",
    "    def updateBTCPrice(self, BTC_price: float):\n",
    "        self.BTC_price = BTC_price\n",
    "        \n",
    "    def closePosition(self):\n",
    "        self.BTC_balance = 0\n",
    "        self.USD_balance -= self.BTC_balance * self.BTC_price\n",
    "    \n",
    "    def tradeBTC(self, signal: Signal, quantity: int, date: datetime): #-> order:\n",
    "        direction = 1 if signal==Signal.BUY else -1\n",
    "        \n",
    "        self.BTC_balance += direction * quantity\n",
    "        self.USD_balance -= direction * quantity * self.BTC_price\n",
    "        \n",
    "        order_type = 'BUY' if signal==Signal.BUY else 'SELL'\n",
    "        \n",
    "        order = LimitOrder(order_type, quantity, round(self.BTC_price, 0),\n",
    "                           tif='GTC')\n",
    "        return order \n",
    "        \n",
    "#         self.updateBalance([date, self.USD_balance, self.BTC_balance, self.total])\n",
    "                \n",
    "    def updateBalance(self, date):\n",
    "        total = self.USD_balance + self.BTC_balance * self.BTC_price\n",
    "#         print([date, self.USD_balance,self.BTC_balance, total, self.BTC_price])\n",
    "        self.df_account.loc[len(self.df_account.index)] = [date, self.USD_balance,\n",
    "                                                          self.BTC_balance, total, self.BTC_price]       \n",
    "        \n",
    "    def returnBalance(self):\n",
    "        return self.df_account\n",
    "    \n",
    "    def plotBalance(self):\n",
    "        self.df_account.plot(x='Date', y=['Account Value'])\n",
    "        \n",
    "        \n",
    "# acc = Account(100, 0, 22000)\n",
    "# acc"
   ]
  },
  {
   "cell_type": "code",
   "execution_count": 58,
   "metadata": {},
   "outputs": [
    {
     "name": "stderr",
     "output_type": "stream",
     "text": [
      "Error 201, reqId 3: Order rejected - reason:The crypto buy order must be Minutes or IOC\n",
      "Canceled order: Trade(contract=Crypto(symbol='BTC', exchange='PAXOS', currency='USD'), order=LimitOrder(orderId=3, clientId=9, permId=509242458, action='BUY', totalQuantity=0.1, lmtPrice=18903.0, auxPrice=0.0, tif='GTC'), orderStatus=OrderStatus(orderId=3, status='Cancelled', filled=0.0, remaining=0.1, avgFillPrice=0.0, permId=509242458, parentId=0, lastFillPrice=0.0, clientId=9, whyHeld='', mktCapPrice=0.0), fills=[], log=[TradeLogEntry(time=datetime.datetime(2022, 9, 21, 2, 29, 45, 712627, tzinfo=datetime.timezone.utc), status='PendingSubmit', message='', errorCode=0), TradeLogEntry(time=datetime.datetime(2022, 9, 21, 2, 29, 45, 798163, tzinfo=datetime.timezone.utc), status='Inactive', message='', errorCode=0), TradeLogEntry(time=datetime.datetime(2022, 9, 21, 2, 29, 45, 802577, tzinfo=datetime.timezone.utc), status='Cancelled', message='Error 201, reqId 3: Order rejected - reason:The crypto buy order must be Minutes or IOC', errorCode=201)])\n"
     ]
    }
   ],
   "source": [
    "\"\"\"place order\"\"\"\n",
    "ib2 = IB()\n",
    "ib2.connect('127.0.0.1', 7497, clientId=9)\n",
    "contract = Crypto('BTC', exchange='PAXOS', currency='USD')\n",
    "order = LimitOrder('BUY',0.1, 18903, tif='GTC')\n",
    "trade = ib2.placeOrder(contract, order)\n"
   ]
  },
  {
   "cell_type": "code",
   "execution_count": 49,
   "metadata": {},
   "outputs": [
    {
     "ename": "AttributeError",
     "evalue": "'Crypto' object has no attribute 'contractDetails'",
     "output_type": "error",
     "traceback": [
      "\u001b[1;31m---------------------------------------------------------------------------\u001b[0m",
      "\u001b[1;31mAttributeError\u001b[0m                            Traceback (most recent call last)",
      "\u001b[1;32m<ipython-input-49-45689f37e156>\u001b[0m in \u001b[0;36m<module>\u001b[1;34m\u001b[0m\n\u001b[1;32m----> 1\u001b[1;33m \u001b[0mcontract\u001b[0m\u001b[1;33m.\u001b[0m\u001b[0mcontractDetails\u001b[0m\u001b[1;33m\u001b[0m\u001b[1;33m\u001b[0m\u001b[0m\n\u001b[0m",
      "\u001b[1;31mAttributeError\u001b[0m: 'Crypto' object has no attribute 'contractDetails'"
     ]
    }
   ],
   "source": [
    "contract.contractDetails"
   ]
  },
  {
   "cell_type": "code",
   "execution_count": 40,
   "metadata": {},
   "outputs": [
    {
     "data": {
      "text/plain": [
       "type"
      ]
     },
     "execution_count": 40,
     "metadata": {},
     "output_type": "execute_result"
    }
   ],
   "source": [
    "type(LimitOrder)"
   ]
  },
  {
   "cell_type": "code",
   "execution_count": 54,
   "metadata": {},
   "outputs": [
    {
     "data": {
      "text/plain": [
       "5.0"
      ]
     },
     "execution_count": 54,
     "metadata": {},
     "output_type": "execute_result"
    }
   ],
   "source": [
    "round(5.251,0)"
   ]
  },
  {
   "cell_type": "code",
   "execution_count": 285,
   "metadata": {},
   "outputs": [
    {
     "data": {
      "text/html": [
       "<div>\n",
       "<style scoped>\n",
       "    .dataframe tbody tr th:only-of-type {\n",
       "        vertical-align: middle;\n",
       "    }\n",
       "\n",
       "    .dataframe tbody tr th {\n",
       "        vertical-align: top;\n",
       "    }\n",
       "\n",
       "    .dataframe thead th {\n",
       "        text-align: right;\n",
       "    }\n",
       "</style>\n",
       "<table border=\"1\" class=\"dataframe\">\n",
       "  <thead>\n",
       "    <tr style=\"text-align: right;\">\n",
       "      <th></th>\n",
       "      <th>A</th>\n",
       "      <th>B</th>\n",
       "    </tr>\n",
       "  </thead>\n",
       "  <tbody>\n",
       "    <tr>\n",
       "      <th>0</th>\n",
       "      <td>1</td>\n",
       "      <td>7</td>\n",
       "    </tr>\n",
       "    <tr>\n",
       "      <th>1</th>\n",
       "      <td>3</td>\n",
       "      <td>4</td>\n",
       "    </tr>\n",
       "  </tbody>\n",
       "</table>\n",
       "</div>"
      ],
      "text/plain": [
       "   A  B\n",
       "0  1  7\n",
       "1  3  4"
      ]
     },
     "execution_count": 285,
     "metadata": {},
     "output_type": "execute_result"
    }
   ],
   "source": [
    "df_test"
   ]
  },
  {
   "cell_type": "code",
   "execution_count": 302,
   "metadata": {},
   "outputs": [
    {
     "name": "stderr",
     "output_type": "stream",
     "text": [
      "Peer closed connection.\n",
      "Peer closed connection.\n",
      "Peer closed connection.\n",
      "Peer closed connection.\n",
      "Peer closed connection.\n",
      "Peer closed connection.\n",
      "Peer closed connection.\n",
      "Peer closed connection.\n",
      "Peer closed connection.\n",
      "Peer closed connection.\n",
      "Peer closed connection.\n",
      "Peer closed connection.\n",
      "Peer closed connection.\n",
      "Peer closed connection.\n",
      "Peer closed connection.\n",
      "Peer closed connection.\n"
     ]
    }
   ],
   "source": [
    "df_test.loc[len(df_test)]=[4,5]"
   ]
  },
  {
   "cell_type": "code",
   "execution_count": null,
   "metadata": {},
   "outputs": [],
   "source": []
  }
 ],
 "metadata": {
  "kernelspec": {
   "display_name": "Python 3",
   "language": "python",
   "name": "python3"
  },
  "language_info": {
   "codemirror_mode": {
    "name": "ipython",
    "version": 3
   },
   "file_extension": ".py",
   "mimetype": "text/x-python",
   "name": "python",
   "nbconvert_exporter": "python",
   "pygments_lexer": "ipython3",
   "version": "3.8.5"
  }
 },
 "nbformat": 4,
 "nbformat_minor": 4
}
