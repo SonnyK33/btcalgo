{
 "cells": [
  {
   "cell_type": "code",
   "execution_count": 2,
   "metadata": {},
   "outputs": [
    {
     "name": "stdout",
     "output_type": "stream",
     "text": [
      "Collecting ib_insync\n",
      "  Using cached ib_insync-0.9.70-py3-none-any.whl (70 kB)\n",
      "Collecting eventkit\n",
      "  Using cached eventkit-0.8.9-py3-none-any.whl (31 kB)\n",
      "Requirement already satisfied: nest-asyncio in c:\\users\\kushwaha\\anaconda3\\lib\\site-packages (from ib_insync) (1.4.2)\n",
      "Requirement already satisfied: numpy in c:\\users\\kushwaha\\anaconda3\\lib\\site-packages (from eventkit->ib_insync) (1.19.2)\n",
      "Installing collected packages: eventkit, ib-insync\n",
      "Successfully installed eventkit-0.8.9 ib-insync-0.9.70\n",
      "Note: you may need to restart the kernel to use updated packages.\n"
     ]
    }
   ],
   "source": [
    "# %pip install ib_insync"
   ]
  },
  {
   "cell_type": "code",
   "execution_count": 30,
   "metadata": {},
   "outputs": [
    {
     "name": "stdout",
     "output_type": "stream",
     "text": [
      "Collecting pandas_ta\n",
      "  Downloading pandas_ta-0.3.14b.tar.gz (115 kB)\n",
      "Requirement already satisfied: pandas in c:\\users\\kushwaha\\anaconda3\\lib\\site-packages (from pandas_ta) (1.1.3)\n",
      "Requirement already satisfied: pytz>=2017.2 in c:\\users\\kushwaha\\anaconda3\\lib\\site-packages (from pandas->pandas_ta) (2020.1)\n",
      "Requirement already satisfied: numpy>=1.15.4 in c:\\users\\kushwaha\\anaconda3\\lib\\site-packages (from pandas->pandas_ta) (1.19.2)\n",
      "Requirement already satisfied: python-dateutil>=2.7.3 in c:\\users\\kushwaha\\anaconda3\\lib\\site-packages (from pandas->pandas_ta) (2.8.1)\n",
      "Requirement already satisfied: six>=1.5 in c:\\users\\kushwaha\\anaconda3\\lib\\site-packages (from python-dateutil>=2.7.3->pandas->pandas_ta) (1.15.0)\n",
      "Building wheels for collected packages: pandas-ta\n",
      "  Building wheel for pandas-ta (setup.py): started\n",
      "  Building wheel for pandas-ta (setup.py): finished with status 'done'\n",
      "  Created wheel for pandas-ta: filename=pandas_ta-0.3.14b0-py3-none-any.whl size=218928 sha256=0e99faaed67bc024f74ed25eedee959d1003d637e2651b1025163da07c43353a\n",
      "  Stored in directory: c:\\users\\kushwaha\\appdata\\local\\pip\\cache\\wheels\\54\\4a\\75\\06b8e63fce6f6d2c1baae5c208edb18eca128407b0c96e1153\n",
      "Successfully built pandas-ta\n",
      "Installing collected packages: pandas-ta\n",
      "Successfully installed pandas-ta-0.3.14b0\n",
      "Note: you may need to restart the kernel to use updated packages.\n"
     ]
    }
   ],
   "source": [
    "# %pip install nest_asyncio\n",
    "# %pip install pandas_ta"
   ]
  },
  {
   "cell_type": "code",
   "execution_count": 31,
   "metadata": {},
   "outputs": [],
   "source": [
    "import pandas as pd\n",
    "from matplotlib import pyplot as plt\n",
    "from statsmodels.graphics.tsaplots import plot_acf\n",
    "from statsmodels.tsa.ar_model import AutoReg\n",
    "from sklearn.metrics import mean_squared_error\n",
    "from math import sqrt\n",
    "import pandas_ta as ta"
   ]
  },
  {
   "cell_type": "code",
   "execution_count": 32,
   "metadata": {},
   "outputs": [
    {
     "name": "stdout",
     "output_type": "stream",
     "text": [
      "Pandas TA - Technical Analysis Indicators - v0.3.14b0\n",
      "Total Indicators & Utilities: 205\n",
      "Abbreviations:\n",
      "    aberration, above, above_value, accbands, ad, adosc, adx, alma, amat, ao, aobv, apo, aroon, atr, bbands, below, below_value, bias, bop, brar, cci, cdl_pattern, cdl_z, cfo, cg, chop, cksp, cmf, cmo, coppock, cross, cross_value, cti, decay, decreasing, dema, dm, donchian, dpo, ebsw, efi, ema, entropy, eom, er, eri, fisher, fwma, ha, hilo, hl2, hlc3, hma, hwc, hwma, ichimoku, increasing, inertia, jma, kama, kc, kdj, kst, kurtosis, kvo, linreg, log_return, long_run, macd, mad, massi, mcgd, median, mfi, midpoint, midprice, mom, natr, nvi, obv, ohlc4, pdist, percent_return, pgo, ppo, psar, psl, pvi, pvo, pvol, pvr, pvt, pwma, qqe, qstick, quantile, rma, roc, rsi, rsx, rvgi, rvi, short_run, sinwma, skew, slope, sma, smi, squeeze, squeeze_pro, ssf, stc, stdev, stoch, stochrsi, supertrend, swma, t3, td_seq, tema, thermo, tos_stdevall, trima, trix, true_range, tsi, tsignals, ttm_trend, ui, uo, variance, vhf, vidya, vortex, vp, vwap, vwma, wcp, willr, wma, xsignals, zlma, zscore\n",
      "\n",
      "Candle Patterns:\n",
      "    2crows, 3blackcrows, 3inside, 3linestrike, 3outside, 3starsinsouth, 3whitesoldiers, abandonedbaby, advanceblock, belthold, breakaway, closingmarubozu, concealbabyswall, counterattack, darkcloudcover, doji, dojistar, dragonflydoji, engulfing, eveningdojistar, eveningstar, gapsidesidewhite, gravestonedoji, hammer, hangingman, harami, haramicross, highwave, hikkake, hikkakemod, homingpigeon, identical3crows, inneck, inside, invertedhammer, kicking, kickingbylength, ladderbottom, longleggeddoji, longline, marubozu, matchinglow, mathold, morningdojistar, morningstar, onneck, piercing, rickshawman, risefall3methods, separatinglines, shootingstar, shortline, spinningtop, stalledpattern, sticksandwich, takuri, tasukigap, thrusting, tristar, unique3river, upsidegap2crows, xsidegap3methods\n"
     ]
    }
   ],
   "source": [
    "df.ta.indicators()"
   ]
  },
  {
   "cell_type": "code",
   "execution_count": 37,
   "metadata": {},
   "outputs": [
    {
     "data": {
      "text/html": [
       "<div>\n",
       "<style scoped>\n",
       "    .dataframe tbody tr th:only-of-type {\n",
       "        vertical-align: middle;\n",
       "    }\n",
       "\n",
       "    .dataframe tbody tr th {\n",
       "        vertical-align: top;\n",
       "    }\n",
       "\n",
       "    .dataframe thead th {\n",
       "        text-align: right;\n",
       "    }\n",
       "</style>\n",
       "<table border=\"1\" class=\"dataframe\">\n",
       "  <thead>\n",
       "    <tr style=\"text-align: right;\">\n",
       "      <th></th>\n",
       "      <th>date</th>\n",
       "      <th>open</th>\n",
       "      <th>high</th>\n",
       "      <th>low</th>\n",
       "      <th>close</th>\n",
       "      <th>volume</th>\n",
       "      <th>average</th>\n",
       "      <th>barCount</th>\n",
       "      <th>returns</th>\n",
       "    </tr>\n",
       "  </thead>\n",
       "  <tbody>\n",
       "    <tr>\n",
       "      <th>0</th>\n",
       "      <td>2021-12-03</td>\n",
       "      <td>57040.125</td>\n",
       "      <td>57651.875</td>\n",
       "      <td>51591.875</td>\n",
       "      <td>53491.625</td>\n",
       "      <td>-1.0</td>\n",
       "      <td>-1.0</td>\n",
       "      <td>-1</td>\n",
       "      <td>NaN</td>\n",
       "    </tr>\n",
       "    <tr>\n",
       "      <th>1</th>\n",
       "      <td>2021-12-06</td>\n",
       "      <td>49395.875</td>\n",
       "      <td>49760.000</td>\n",
       "      <td>47196.375</td>\n",
       "      <td>48892.375</td>\n",
       "      <td>-1.0</td>\n",
       "      <td>-1.0</td>\n",
       "      <td>-1</td>\n",
       "      <td>-0.085981</td>\n",
       "    </tr>\n",
       "    <tr>\n",
       "      <th>2</th>\n",
       "      <td>2021-12-07</td>\n",
       "      <td>48904.875</td>\n",
       "      <td>51957.875</td>\n",
       "      <td>48870.875</td>\n",
       "      <td>50457.250</td>\n",
       "      <td>-1.0</td>\n",
       "      <td>-1.0</td>\n",
       "      <td>-1</td>\n",
       "      <td>0.032007</td>\n",
       "    </tr>\n",
       "    <tr>\n",
       "      <th>3</th>\n",
       "      <td>2021-12-08</td>\n",
       "      <td>50449.625</td>\n",
       "      <td>51250.375</td>\n",
       "      <td>48655.750</td>\n",
       "      <td>50774.125</td>\n",
       "      <td>-1.0</td>\n",
       "      <td>-1.0</td>\n",
       "      <td>-1</td>\n",
       "      <td>0.006280</td>\n",
       "    </tr>\n",
       "    <tr>\n",
       "      <th>4</th>\n",
       "      <td>2021-12-09</td>\n",
       "      <td>50729.625</td>\n",
       "      <td>50843.000</td>\n",
       "      <td>47360.125</td>\n",
       "      <td>47686.125</td>\n",
       "      <td>-1.0</td>\n",
       "      <td>-1.0</td>\n",
       "      <td>-1</td>\n",
       "      <td>-0.060818</td>\n",
       "    </tr>\n",
       "  </tbody>\n",
       "</table>\n",
       "</div>"
      ],
      "text/plain": [
       "         date       open       high        low      close  volume  average  \\\n",
       "0  2021-12-03  57040.125  57651.875  51591.875  53491.625    -1.0     -1.0   \n",
       "1  2021-12-06  49395.875  49760.000  47196.375  48892.375    -1.0     -1.0   \n",
       "2  2021-12-07  48904.875  51957.875  48870.875  50457.250    -1.0     -1.0   \n",
       "3  2021-12-08  50449.625  51250.375  48655.750  50774.125    -1.0     -1.0   \n",
       "4  2021-12-09  50729.625  50843.000  47360.125  47686.125    -1.0     -1.0   \n",
       "\n",
       "   barCount   returns  \n",
       "0        -1       NaN  \n",
       "1        -1 -0.085981  \n",
       "2        -1  0.032007  \n",
       "3        -1  0.006280  \n",
       "4        -1 -0.060818  "
      ]
     },
     "execution_count": 37,
     "metadata": {},
     "output_type": "execute_result"
    }
   ],
   "source": [
    "from ib_insync import *\n",
    "util.startLoop()\n",
    "\n",
    "# import nest_asyncio\n",
    "# nest_asyncio.apply()\n",
    "\n",
    "\n",
    "ib = IB()\n",
    "# ib.disconnect()\n",
    "ib.connect('127.0.0.1', 7497, clientId=2)\n",
    "\n",
    "\n",
    "contract = Crypto('BTC', exchange='PAXOS', currency='USD')\n",
    "bars = ib.reqHistoricalData(\n",
    "    contract, endDateTime='', durationStr='180 D',\n",
    "    barSizeSetting='1 day', whatToShow='MIDPOINT', useRTH=True)\n",
    "\n",
    "# convert to pandas dataframe:\n",
    "df = util.df(bars)\n",
    "df['returns'] = df['close'].pct_change()\n",
    "df.head()\n"
   ]
  },
  {
   "cell_type": "code",
   "execution_count": 43,
   "metadata": {},
   "outputs": [],
   "source": [
    "# df_returns = df['returns']\n",
    "# df.head()\n",
    "\n",
    "df_adx = ta.adx(high=df['high'], low=df['low'], close=df['close'])\n",
    "df_adx['date'] = df['date']\n",
    "# rgs:\n",
    "#         high (pd.Series): Series of 'high's\n",
    "#         low (pd.Series): Series of 'low's\n",
    "#         close (pd.Series): Series of 'close's\n",
    "#         length (int): It's period. Default: 14\n",
    "#         lensig (int): Signal Length. Like TradingView's default ADX. Default: length\n",
    "#         scalar (float): How much to magnify. Default: 100\n",
    "#         mamode (str): See ```help(ta.ma)```. Default: 'rma'\n",
    "#         drift (int): The difference period. Default: 1\n",
    "#         offset (int): How many periods to offset the result. Default: 0"
   ]
  },
  {
   "cell_type": "code",
   "execution_count": 54,
   "metadata": {},
   "outputs": [
    {
     "name": "stderr",
     "output_type": "stream",
     "text": [
      "<ipython-input-54-51be97dab127>:7: SettingWithCopyWarning: \n",
      "A value is trying to be set on a copy of a slice from a DataFrame.\n",
      "Try using .loc[row_indexer,col_indexer] = value instead\n",
      "\n",
      "See the caveats in the documentation: https://pandas.pydata.org/pandas-docs/stable/user_guide/indexing.html#returning-a-view-versus-a-copy\n",
      "  df['DM_diff'] = df['DMP'] > df['DMN']\n"
     ]
    },
    {
     "data": {
      "text/html": [
       "<div>\n",
       "<style scoped>\n",
       "    .dataframe tbody tr th:only-of-type {\n",
       "        vertical-align: middle;\n",
       "    }\n",
       "\n",
       "    .dataframe tbody tr th {\n",
       "        vertical-align: top;\n",
       "    }\n",
       "\n",
       "    .dataframe thead th {\n",
       "        text-align: right;\n",
       "    }\n",
       "</style>\n",
       "<table border=\"1\" class=\"dataframe\">\n",
       "  <thead>\n",
       "    <tr style=\"text-align: right;\">\n",
       "      <th></th>\n",
       "      <th>date</th>\n",
       "      <th>open</th>\n",
       "      <th>high</th>\n",
       "      <th>low</th>\n",
       "      <th>close</th>\n",
       "      <th>volume</th>\n",
       "      <th>average</th>\n",
       "      <th>barCount</th>\n",
       "      <th>returns</th>\n",
       "      <th>ADX</th>\n",
       "      <th>DMN</th>\n",
       "      <th>DMP</th>\n",
       "      <th>DM_diff</th>\n",
       "    </tr>\n",
       "  </thead>\n",
       "  <tbody>\n",
       "    <tr>\n",
       "      <th>27</th>\n",
       "      <td>2022-01-11</td>\n",
       "      <td>41723.875</td>\n",
       "      <td>43114.125</td>\n",
       "      <td>41292.125</td>\n",
       "      <td>42797.625</td>\n",
       "      <td>-1.0</td>\n",
       "      <td>-1.0</td>\n",
       "      <td>-1</td>\n",
       "      <td>0.025437</td>\n",
       "      <td>34.701646</td>\n",
       "      <td>29.369654</td>\n",
       "      <td>9.064895</td>\n",
       "      <td>False</td>\n",
       "    </tr>\n",
       "    <tr>\n",
       "      <th>28</th>\n",
       "      <td>2022-01-12</td>\n",
       "      <td>42792.625</td>\n",
       "      <td>44087.875</td>\n",
       "      <td>42492.125</td>\n",
       "      <td>43845.125</td>\n",
       "      <td>-1.0</td>\n",
       "      <td>-1.0</td>\n",
       "      <td>-1</td>\n",
       "      <td>0.024476</td>\n",
       "      <td>35.306702</td>\n",
       "      <td>27.816603</td>\n",
       "      <td>11.812329</td>\n",
       "      <td>False</td>\n",
       "    </tr>\n",
       "    <tr>\n",
       "      <th>29</th>\n",
       "      <td>2022-01-13</td>\n",
       "      <td>43863.625</td>\n",
       "      <td>44451.125</td>\n",
       "      <td>42351.125</td>\n",
       "      <td>42814.125</td>\n",
       "      <td>-1.0</td>\n",
       "      <td>-1.0</td>\n",
       "      <td>-1</td>\n",
       "      <td>-0.023515</td>\n",
       "      <td>35.371692</td>\n",
       "      <td>25.877303</td>\n",
       "      <td>12.194749</td>\n",
       "      <td>False</td>\n",
       "    </tr>\n",
       "    <tr>\n",
       "      <th>30</th>\n",
       "      <td>2022-01-14</td>\n",
       "      <td>42743.875</td>\n",
       "      <td>43434.625</td>\n",
       "      <td>41780.125</td>\n",
       "      <td>43141.875</td>\n",
       "      <td>-1.0</td>\n",
       "      <td>-1.0</td>\n",
       "      <td>-1</td>\n",
       "      <td>0.007655</td>\n",
       "      <td>35.753328</td>\n",
       "      <td>26.359538</td>\n",
       "      <td>11.513686</td>\n",
       "      <td>False</td>\n",
       "    </tr>\n",
       "    <tr>\n",
       "      <th>31</th>\n",
       "      <td>2022-01-17</td>\n",
       "      <td>43247.375</td>\n",
       "      <td>43485.750</td>\n",
       "      <td>41878.125</td>\n",
       "      <td>42117.625</td>\n",
       "      <td>-1.0</td>\n",
       "      <td>-1.0</td>\n",
       "      <td>-1</td>\n",
       "      <td>-0.023741</td>\n",
       "      <td>36.021536</td>\n",
       "      <td>24.904118</td>\n",
       "      <td>11.053557</td>\n",
       "      <td>False</td>\n",
       "    </tr>\n",
       "  </tbody>\n",
       "</table>\n",
       "</div>"
      ],
      "text/plain": [
       "          date       open       high        low      close  volume  average  \\\n",
       "27  2022-01-11  41723.875  43114.125  41292.125  42797.625    -1.0     -1.0   \n",
       "28  2022-01-12  42792.625  44087.875  42492.125  43845.125    -1.0     -1.0   \n",
       "29  2022-01-13  43863.625  44451.125  42351.125  42814.125    -1.0     -1.0   \n",
       "30  2022-01-14  42743.875  43434.625  41780.125  43141.875    -1.0     -1.0   \n",
       "31  2022-01-17  43247.375  43485.750  41878.125  42117.625    -1.0     -1.0   \n",
       "\n",
       "    barCount   returns        ADX        DMN        DMP  DM_diff  \n",
       "27        -1  0.025437  34.701646  29.369654   9.064895    False  \n",
       "28        -1  0.024476  35.306702  27.816603  11.812329    False  \n",
       "29        -1 -0.023515  35.371692  25.877303  12.194749    False  \n",
       "30        -1  0.007655  35.753328  26.359538  11.513686    False  \n",
       "31        -1 -0.023741  36.021536  24.904118  11.053557    False  "
      ]
     },
     "execution_count": 54,
     "metadata": {},
     "output_type": "execute_result"
    }
   ],
   "source": [
    "df_adx.head()\n",
    "df_adx = ta.adx(high=df['high'], low=df['low'], close=df['close'])\n",
    "df['ADX'] = df_adx['ADX_14']\n",
    "df['DMN'] = df_adx['DMN_14']\n",
    "df['DMP'] = df_adx['DMP_14']\n",
    "df.tail()\n",
    "df = df.dropna()\n",
    "df['DM_diff'] = df['DMP'] > df['DMN']\n",
    "df.head()"
   ]
  },
  {
   "cell_type": "code",
   "execution_count": 57,
   "metadata": {},
   "outputs": [],
   "source": [
    "# help(ta.adx)"
   ]
  },
  {
   "cell_type": "code",
   "execution_count": 11,
   "metadata": {},
   "outputs": [
    {
     "data": {
      "image/png": "[encoded data removed]",
      "text/plain": [
       "<Figure size 432x288 with 1 Axes>"
      ]
     },
     "metadata": {
      "needs_background": "light"
     },
     "output_type": "display_data"
    }
   ],
   "source": [
    "plot_acf(df_returns)\n",
    "plt.show()"
   ]
  },
  {
   "cell_type": "code",
   "execution_count": null,
   "metadata": {},
   "outputs": [],
   "source": []
  },
  {
   "cell_type": "code",
   "execution_count": 12,
   "metadata": {},
   "outputs": [
    {
     "data": {
      "image/png": "[encoded data removed]",
      "text/plain": [
       "<Figure size 432x288 with 1 Axes>"
      ]
     },
     "metadata": {
      "needs_background": "light"
     },
     "output_type": "display_data"
    }
   ],
   "source": [
    "pd.plotting.lag_plot(df_returns)\n",
    "plt.show()"
   ]
  },
  {
   "cell_type": "code",
   "execution_count": 23,
   "metadata": {},
   "outputs": [],
   "source": [
    "l=len(df_returns)\n",
    "p=0.7\n",
    "# display(df_returns[0:int(p*l)], df_returns[int(p*l):l-1])\n"
   ]
  },
  {
   "cell_type": "code",
   "execution_count": 26,
   "metadata": {},
   "outputs": [
    {
     "name": "stderr",
     "output_type": "stream",
     "text": [
      "C:\\Users\\kushwaha\\Anaconda3\\lib\\site-packages\\statsmodels\\tsa\\ar_model.py:248: FutureWarning: The parameter names will change after 0.12 is released. Set old_names to False to use the new names now. Set old_names to True to use the old names. \n",
      "  warnings.warn(\n"
     ]
    },
    {
     "name": "stdout",
     "output_type": "stream",
     "text": [
      "coefficients: [ 0.00045635 -0.13412065 -0.23278757  0.16762064  0.04256054  0.30334197]\n",
      "predicted:-0.0007482044417033299, forecast:0.01299137641393222\n",
      "predicted:0.0009115870396779917, forecast:0.0031061623101424907\n",
      "predicted:0.0012795025144278773, forecast:0.013341380848662876\n",
      "predicted:0.0004966451981069644, forecast:-0.001522708556689789\n",
      "predicted:0.0015093253820092575, forecast:-0.0012967948418688424\n",
      "predicted:0.00016461455260422103, forecast:0.004103192699433267\n",
      "predicted:0.0004971487243727409, forecast:-0.001644915504104505\n",
      "predicted:0.0010136124771255293, forecast:0.001813424522680851\n",
      "predicted:0.0004471596435581345, forecast:-0.0004861524139535556\n",
      "predicted:0.000708602694101597, forecast:-0.006509331939708485\n",
      "predicted:0.0004982165530166671, forecast:-0.0026041259771982794\n",
      "predicted:0.0004934763427811265, forecast:0.0013576810807141015\n",
      "predicted:0.0007194672283371007, forecast:-0.0017521628259883348\n",
      "predicted:0.0004942938259872747, forecast:1.0447846960026652e-05\n",
      "predicted:0.0005414443031356416, forecast:0.006540283865036134\n",
      "predicted:0.0005613980660052131, forecast:-0.009559842433867427\n",
      "predicted:0.0005181824880758803, forecast:-0.0017082462180162405\n",
      "predicted:0.0005862060134045888, forecast:0.0002519513104093374\n",
      "predicted:0.0005241895728298585, forecast:-0.0007976448486310961\n",
      "predicted:0.0005245803649599932, forecast:-0.0024788744229526927\n",
      "test rmse: 0.005457655926821896\n"
     ]
    },
    {
     "data": {
      "image/png": "[encoded data removed]",
      "text/plain": [
       "<Figure size 432x288 with 1 Axes>"
      ]
     },
     "metadata": {
      "needs_background": "light"
     },
     "output_type": "display_data"
    },
    {
     "name": "stderr",
     "output_type": "stream",
     "text": [
      "Peer closed connection.\n"
     ]
    }
   ],
   "source": [
    "\n",
    "def AutoRegModel(X, lags):\n",
    "    test_pct = 0.7\n",
    "    train, test = X[0:int(test_pct*len(X))], X[int(test_pct*len(X)):len(X)-1]\n",
    "    \n",
    "    model = AutoReg(train, lags=lags)\n",
    "    model_fit = model.fit()\n",
    "    print('coefficients: {}'.format(model_fit.params))\n",
    "    \n",
    "    predictions = model_fit.predict(start=len(train), end=len(train) + len(test) - 1, dynamic=False)\n",
    "    \n",
    "    for i in range(len(predictions)):\n",
    "        print('predicted:{}, forecast:{}'.format(predictions[i], test[i]))\n",
    "    rmse = sqrt(mean_squared_error(test, predictions))\n",
    "    print('test rmse: {}'.format(rmse))\n",
    "          \n",
    "    plt.plot(test)\n",
    "    plt.plot(predictions, color='red')\n",
    "    plt.show\n",
    "          \n",
    "                                             \n",
    "AutoRegModel(df_returns.values, 5)    \n",
    "    \n",
    "    "
   ]
  },
  {
   "cell_type": "code",
   "execution_count": 52,
   "metadata": {},
   "outputs": [],
   "source": [
    "def GetMovingAverages(df, low, high):\n",
    "    df[str(low)+'_average'] = df.close.rolling(low).mean()\n",
    "    df[str(high)+'_average'] = df.close.rolling(high).mean()\n",
    "    df2 = df.dropna()\n",
    "    df2['MA_diff'] = df[str(high)+'_average'] > df[str(low)+'_average']\n",
    "    return df2\n",
    "    \n",
    "    "
   ]
  },
  {
   "cell_type": "code",
   "execution_count": 111,
   "metadata": {},
   "outputs": [
    {
     "name": "stderr",
     "output_type": "stream",
     "text": [
      "<ipython-input-52-7184740e6041>:5: SettingWithCopyWarning: \n",
      "A value is trying to be set on a copy of a slice from a DataFrame.\n",
      "Try using .loc[row_indexer,col_indexer] = value instead\n",
      "\n",
      "See the caveats in the documentation: https://pandas.pydata.org/pandas-docs/stable/user_guide/indexing.html#returning-a-view-versus-a-copy\n",
      "  df2['MA_diff'] = df[str(high)+'_average'] > df[str(low)+'_average']\n"
     ]
    }
   ],
   "source": [
    "df_MA =  GetMovingAverages(df, 5, 10)"
   ]
  },
  {
   "cell_type": "code",
   "execution_count": 112,
   "metadata": {},
   "outputs": [
    {
     "data": {
      "text/plain": [
       "<AxesSubplot:>"
      ]
     },
     "execution_count": 112,
     "metadata": {},
     "output_type": "execute_result"
    },
    {
     "data": {
      "image/png": "[encoded data removed]",
      "text/plain": [
       "<Figure size 432x288 with 1 Axes>"
      ]
     },
     "metadata": {
      "needs_background": "light"
     },
     "output_type": "display_data"
    }
   ],
   "source": [
    "df_MA['close'].plot(legend=True)\n",
    "df_MA['5_average'].plot(legend=True)\n",
    "df_MA['10_average'].plot(legend=True)"
   ]
  },
  {
   "cell_type": "code",
   "execution_count": 102,
   "metadata": {},
   "outputs": [],
   "source": [
    "\n",
    "def PlaceOrder(order_type, USD_balance, BTC_balance, price=None, quantity=None):\n",
    "        \n",
    "    if order_type=='sell':\n",
    "        print('{} @ {}'.format(order_type, price))\n",
    "        BTC_balance -= quantity\n",
    "        USD_balance += quantity * price\n",
    "    \n",
    "    elif order_type=='buy':\n",
    "        print('{} @ {}'.format(order_type, price))\n",
    "        BTC_balance += quantity\n",
    "        USD_balance -= quantity * price\n",
    "    \n",
    "    else:\n",
    "        return USD_balance, BTC_balance   \n",
    " \n",
    "        \n",
    "    print('USD balance: {}'.format(USD_balance))\n",
    "    print('BTC balance: {}'.format(BTC_balance))\n",
    "    account_balance = USD_balance + BTC_balance * price\n",
    "    print('Account balance: {}\\n'.format(account_balance))\n",
    "    \n",
    "    \n",
    "    return USD_balance, BTC_balance   \n",
    "    \n",
    "    \n",
    "    \n",
    "def GetSignals(df):\n",
    "    USD_balance = 1000\n",
    "    BTC_balance = 0\n",
    "    \n",
    "    for count, row in enumerate(df.iterrows()):\n",
    "        if count==0:\n",
    "            sentiment = row[1]['MA_diff']\n",
    "        else:\n",
    "            if row[1]['MA_diff'] == sentiment:\n",
    "                USD_balance, BTC_balance = PlaceOrder('no change', USD_balance, BTC_balance)\n",
    "            else:\n",
    "                if row[1]['MA_diff']:\n",
    "                    USD_balance, BTC_balance = PlaceOrder('sell', USD_balance, BTC_balance, row[1]['close'],1)\n",
    "                else:\n",
    "                    USD_balance, BTC_balance = PlaceOrder('buy', USD_balance, BTC_balance, row[1]['close'],1)\n",
    "                sentiment = row[1]['MA_diff']\n",
    "    print('USD balance: {}'.format(USD_balance))\n",
    "    print('BTC balance: {}'.format(BTC_balance))\n",
    "  \n",
    "    account_value = USD_balance + BTC_balance * row[1]['close']\n",
    "    print('Account value: {}'.format(account_value))\n",
    "    "
   ]
  },
  {
   "cell_type": "code",
   "execution_count": 113,
   "metadata": {},
   "outputs": [
    {
     "name": "stdout",
     "output_type": "stream",
     "text": [
      "buy @ 23338.875\n",
      "USD balance: -22338.875\n",
      "BTC balance: 1\n",
      "Account balance: 1000.0\n",
      "\n",
      "sell @ 22966.625\n",
      "USD balance: 627.75\n",
      "BTC balance: 0\n",
      "Account balance: 627.75\n",
      "\n",
      "buy @ 23194.375\n",
      "USD balance: -22566.625\n",
      "BTC balance: 1\n",
      "Account balance: 627.75\n",
      "\n",
      "sell @ 22855.125\n",
      "USD balance: 288.5\n",
      "BTC balance: 0\n",
      "Account balance: 288.5\n",
      "\n",
      "buy @ 23026.625\n",
      "USD balance: -22738.125\n",
      "BTC balance: 1\n",
      "Account balance: 288.5\n",
      "\n",
      "sell @ 23106.375\n",
      "USD balance: 368.25\n",
      "BTC balance: 0\n",
      "Account balance: 368.25\n",
      "\n",
      "USD balance: 368.25\n",
      "BTC balance: 0\n",
      "Account value: 368.25\n"
     ]
    }
   ],
   "source": [
    "GetSignals(df_MA)\n",
    "# df_MA"
   ]
  },
  {
   "cell_type": "code",
   "execution_count": 45,
   "metadata": {},
   "outputs": [],
   "source": [
    "def Backtest():\n",
    "    USD_balance = 1000\n",
    "    BTC_balance = 0\n",
    "    \n",
    "    "
   ]
  },
  {
   "cell_type": "code",
   "execution_count": 63,
   "metadata": {},
   "outputs": [],
   "source": [
    "from ib_insync import *\n",
    "from collections import deque\n",
    "util.startLoop()\n",
    "\n",
    "contract_dict = {'Stock':Stock, 'Crypto':Crypto}\n",
    "\n",
    "class Algo():\n",
    "    def __init__(self, client, addr, port, client_id):\n",
    "        self.client = client\n",
    "        self.addr = addr\n",
    "        self.port = port\n",
    "        self.client_id = client_id\n",
    "        \n",
    "        self.client.connect(addr, port, client_id)\n",
    "        \n",
    "    def SetPaperBalances(self):\n",
    "        self.USD_balance = 1000\n",
    "        self.BTC_balance = 0\n",
    "        \n",
    "        print('USD balance: {}'.format(self.USD_balance))\n",
    "        print('BTC balance: {}'.format(self.BTC_balance))\n",
    "    \n",
    "    def GetContract(self, contract_type, ticker, exchange, currency):\n",
    "        return contract_dict[contract_type](ticker, exchange, currency)\n",
    "    \n",
    "    def GetHistoricalData(self, contract, duration='1 D', bar_size='1 hour'):\n",
    "        bars = ib.reqHistoricalData(contract=contract, endDateTime='', durationStr=duration,\n",
    "                                    barSizeSetting=bar_size, whatToShow='MIDPOINT', useRTH=True)\n",
    "        return bars\n",
    "    \n",
    "    def BuildEMA(self, slow_period, fast_period):\n",
    "        \"\"\"using deques instead of dataframes\"\"\"\n",
    "        self.slow_ema = deque(maxlen=slow_period)\n",
    "        self.fast_ema = deque(maxlen=fast_period)\n",
    "        \n",
    "        \"\"\"need to employ scanner to pull in data\"\"\"\n",
    "        \n",
    "           \n",
    "    def GetDMI(self, df):\n",
    "        df_adx = ta.adx(high=df['high'], low=df['low'], close=df['close'])\n",
    "        df['ADX'] = df_adx['ADX_14']\n",
    "        df['DMN'] = df_adx['DMN_14']\n",
    "        df['DMP'] = df_adx['DMP_14']\n",
    "        df['DM_diff'] = df['DMP'] > df['DMN']\n",
    "        return df\n",
    "        \n",
    "    \n",
    "    \n",
    "    def GetMovingAverages(self, df, low, high, plot=True):\n",
    "        df[str(low)+'_average'] = df.close.rolling(low).mean()\n",
    "        df[str(high)+'_average'] = df.close.rolling(high).mean()\n",
    "        df.dropna(inplace=True)\n",
    "        df['MA_diff'] = df[str(high)+'_average'] > df[str(low)+'_average']\n",
    "        \n",
    "        if plot:\n",
    "            df['close'].plot(legend=True)\n",
    "            df[str(low)+'_average'].plot(legend=True)\n",
    "            df[str(high)+'_average'].plot(legend=True)\n",
    "        \n",
    "        return df\n",
    "    \n",
    "    \n",
    "    def PlacePaperOrder(self, order_type, price=None, quantity=None, date=None):\n",
    "\n",
    "        if order_type=='sell':\n",
    "            print(date)\n",
    "            print('{} @ {}'.format(order_type, price))\n",
    "            self.BTC_balance -= quantity\n",
    "            self.USD_balance += quantity * price\n",
    "            \n",
    "\n",
    "        elif order_type=='buy':\n",
    "            print(date)\n",
    "            print('{} @ {}'.format(order_type, price))\n",
    "            self.BTC_balance += quantity\n",
    "            self.USD_balance -= quantity * price\n",
    "\n",
    "        else:\n",
    "            return \n",
    "\n",
    "\n",
    "        print('USD balance: {}'.format(self.USD_balance))\n",
    "        print('BTC balance: {}'.format(self.BTC_balance))\n",
    "        account_balance = self.USD_balance + self.BTC_balance * price\n",
    "        print('Account balance: {}\\n'.format(account_balance))       \n",
    "\n",
    "    def RunDMI(self, df, ADX_MIN=20):\n",
    "        for count, row in enumerate(df.iterrows()):\n",
    "            if count==0:\n",
    "                sentiment = row[1]['DM_diff']\n",
    "            else:\n",
    "                if (row[1]['ADX'] >= ADX_MIN):\n",
    "                    if row[1]['DM_diff'] == sentiment:\n",
    "                        self.PlacePaperOrder('no change')\n",
    "                    else:\n",
    "                        if row[1]['DM_diff']:\n",
    "                            self.PlacePaperOrder('buy',row[1]['close'],1, row[1]['date'])\n",
    "                        else:\n",
    "                            self.PlacePaperOrder('sell', row[1]['close'],1, row[1]['date'])\n",
    "                    sentiment = row[1]['DM_diff']\n",
    "                else: continue                                     \n",
    "                        \n",
    "    \n",
    "    def RunStrategy(self, df):   \n",
    "\n",
    "        for count, row in enumerate(df.iterrows()):\n",
    "            if count==0:\n",
    "                sentiment = row[1]['MA_diff']\n",
    "            else:\n",
    "                if row[1]['MA_diff'] == sentiment:\n",
    "                    self.PlacePaperOrder('no change')\n",
    "                else:\n",
    "                    if row[1]['MA_diff']:\n",
    "                        self.PlacePaperOrder('sell',row[1]['close'],1)\n",
    "                    else:\n",
    "                        self.PlacePaperOrder('buy', row[1]['close'],1)\n",
    "                    sentiment = row[1]['MA_diff']\n",
    "\n",
    "\n",
    "def Main(client_id):\n",
    "    \"\"\"need to change so when crossover happens, closes current position and then goes in opposite direction \"\"\"\n",
    "    ib = IB()\n",
    "    algo = Algo(ib, '127.0.0.1', 7497, client_id=client_id)\n",
    "    \n",
    "    contract = algo.GetContract('Crypto','BTC', 'PAXOS', 'USD')\n",
    "#     contract = algo.GetContract('Stock','SPY', 'SMART', 'USD')\n",
    "    \n",
    "    bars = algo.GetHistoricalData(contract, '180 D', '1 day')\n",
    "    \n",
    "    df = util.df(bars)\n",
    "    \n",
    "    algo.SetPaperBalances()\n",
    "    \n",
    "#     df_MA =  algo.GetMovingAverages(df, 10, 30, True)\n",
    "    df_DMI = algo.GetDMI(df)\n",
    "    \n",
    "#     algo.RunStrategy(df_MA)\n",
    "    algo.RunDMI(df_DMI)\n",
    "    \n",
    "    print('USD balance: {}'.format(algo.USD_balance))\n",
    "    print('BTC balance: {}'.format(algo.BTC_balance))\n",
    "\n",
    "    account_value = algo.USD_balance + algo.BTC_balance * bars[-1].close\n",
    "    print('Account value: {}'.format(account_value))\n",
    "    \n",
    "    "
   ]
  },
  {
   "cell_type": "code",
   "execution_count": 64,
   "metadata": {},
   "outputs": [
    {
     "name": "stdout",
     "output_type": "stream",
     "text": [
      "USD balance: 1000\n",
      "BTC balance: 0\n",
      "2022-02-07\n",
      "buy @ 44175.75\n",
      "USD balance: -43175.75\n",
      "BTC balance: 1\n",
      "Account balance: 1000.0\n",
      "\n",
      "2022-02-18\n",
      "sell @ 40031.125\n",
      "USD balance: -3144.625\n",
      "BTC balance: 0\n",
      "Account balance: -3144.625\n",
      "\n",
      "2022-03-01\n",
      "buy @ 44117.375\n",
      "USD balance: -47262.0\n",
      "BTC balance: 1\n",
      "Account balance: -3144.625\n",
      "\n",
      "2022-05-09\n",
      "sell @ 30948.0\n",
      "USD balance: -16314.0\n",
      "BTC balance: 0\n",
      "Account balance: -16314.0\n",
      "\n",
      "2022-07-19\n",
      "buy @ 23408.625\n",
      "USD balance: -39722.625\n",
      "BTC balance: 1\n",
      "Account balance: -16314.0\n",
      "\n",
      "2022-07-25\n",
      "sell @ 21891.125\n",
      "USD balance: -17831.5\n",
      "BTC balance: 0\n",
      "Account balance: -17831.5\n",
      "\n",
      "2022-07-28\n",
      "buy @ 23798.25\n",
      "USD balance: -41629.75\n",
      "BTC balance: 1\n",
      "Account balance: -17831.5\n",
      "\n",
      "USD balance: -41629.75\n",
      "BTC balance: 1\n",
      "Account value: -17353.625\n"
     ]
    }
   ],
   "source": [
    "Main(5)"
   ]
  },
  {
   "cell_type": "code",
   "execution_count": 14,
   "metadata": {},
   "outputs": [],
   "source": [
    "from collections import deque"
   ]
  },
  {
   "cell_type": "code",
   "execution_count": 17,
   "metadata": {},
   "outputs": [],
   "source": [
    "d = deque(maxlen=5)"
   ]
  },
  {
   "cell_type": "code",
   "execution_count": 19,
   "metadata": {},
   "outputs": [],
   "source": [
    "d.append(1)"
   ]
  },
  {
   "cell_type": "code",
   "execution_count": 21,
   "metadata": {},
   "outputs": [
    {
     "name": "stdout",
     "output_type": "stream",
     "text": [
      "deque([1, 0], maxlen=5)\n",
      "deque([1, 0, 1], maxlen=5)\n",
      "deque([1, 0, 1, 2], maxlen=5)\n",
      "deque([1, 0, 1, 2, 3], maxlen=5)\n",
      "deque([0, 1, 2, 3, 4], maxlen=5)\n",
      "deque([1, 2, 3, 4, 5], maxlen=5)\n",
      "deque([2, 3, 4, 5, 6], maxlen=5)\n",
      "deque([3, 4, 5, 6, 7], maxlen=5)\n",
      "deque([4, 5, 6, 7, 8], maxlen=5)\n",
      "deque([5, 6, 7, 8, 9], maxlen=5)\n"
     ]
    }
   ],
   "source": [
    "for i in range(10):\n",
    "    d.append(i)\n",
    "    print(d)"
   ]
  },
  {
   "cell_type": "code",
   "execution_count": null,
   "metadata": {},
   "outputs": [],
   "source": []
  }
 ],
 "metadata": {
  "kernelspec": {
   "display_name": "Python 3",
   "language": "python",
   "name": "python3"
  },
  "language_info": {
   "codemirror_mode": {
    "name": "ipython",
    "version": 3
   },
   "file_extension": ".py",
   "mimetype": "text/x-python",
   "name": "python",
   "nbconvert_exporter": "python",
   "pygments_lexer": "ipython3",
   "version": "3.8.5"
  }
 },
 "nbformat": 4,
 "nbformat_minor": 4
}
